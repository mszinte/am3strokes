{
 "cells": [
  {
   "cell_type": "markdown",
   "id": "cb78db1f-8364-4669-82af-daa47836d04f",
   "metadata": {},
   "source": [
    "# AM3strokes\n",
    "\n",
    "#### Project description:\n",
    "_A 3 strokes vertical apparent motion is presented left or right of fixation. <br />\n",
    "Participants are instructed to saccadeto saccade to the perceived last stroke._\n",
    "\n",
    "#### Hypothesis: \n",
    "_Participants mislocalize the 3rd stroke in the direction of the motion_"
   ]
  },
  {
   "cell_type": "markdown",
   "id": "7b983848-2e4a-4784-ad09-bca57c83172b",
   "metadata": {},
   "source": [
    "#### Eye movement data analysis:\n",
    "\n",
    "- [x] Saccade analysis output graph\n",
    "- [x] Saccade parameter graph\n",
    "- [x] Saccade landing graph\n",
    "- [x] Sacade landing map per trial sequence\n",
    "- [x] Saccade y landing distribution (2 rows x 2 columns)\n",
    "- [x] Saccade y landing distribution per incremental runs (2 rows x 2 columns) "
   ]
  },
  {
   "cell_type": "code",
   "execution_count": 140,
   "id": "44e0db61-e382-40e9-84e1-e01fe7708f01",
   "metadata": {
    "tags": []
   },
   "outputs": [],
   "source": [
    "# Imports\n",
    "import os\n",
    "import numpy as np\n",
    "import pandas as pd\n",
    "import ipdb\n",
    "from scipy.stats import norm, linregress\n",
    "\n",
    "# figure imports\n",
    "import plotly.graph_objects as go\n",
    "from plotly.subplots import make_subplots\n",
    "import plotly.express as px\n",
    "from plot_utils import plotly_template\n",
    "import plotly.express as px"
   ]
  },
  {
   "cell_type": "code",
   "execution_count": 141,
   "id": "726cb378-fcc8-4edc-99c8-8e1e0cdd9291",
   "metadata": {
    "tags": []
   },
   "outputs": [],
   "source": [
    "# Define folders\n",
    "base_dir = '/home/mzid/codes/am3strokes/'\n",
    "data_dir = '/home/mzid/codes/am3strokes/data'\n",
    "subject = 'sub-13'\n",
    "fig_dir = '{data_dir}/{subject}/figures'.format(data_dir=data_dir, subject=subject)"
   ]
  },
  {
   "cell_type": "code",
   "execution_count": 142,
   "id": "163b3f55-27c9-4c11-adcc-0755d4c39119",
   "metadata": {},
   "outputs": [],
   "source": [
    "# Save dataframe\n",
    "df_all = pd.read_csv('{data_dir}/{subject}/add/{subject}_task-AM3strokes_data.csv'.format(data_dir=data_dir,subject=subject)) "
   ]
  },
  {
   "cell_type": "markdown",
   "id": "69091f4a-85b7-416a-8d77-9be7d54db203",
   "metadata": {},
   "source": [
    "#### Saccade analysis output graph"
   ]
  },
  {
   "cell_type": "code",
   "execution_count": 143,
   "id": "9fa0e669-f7bf-4def-898d-8061d6f71721",
   "metadata": {
    "tags": []
   },
   "outputs": [
    {
     "data": {
      "application/vnd.plotly.v1+json": {
       "config": {
        "plotlyServerURL": "https://plot.ly"
       },
       "data": [
        {
         "marker": {
          "color": "rgb(29, 105, 150)"
         },
         "name": "Left saccades",
         "orientation": "h",
         "type": "bar",
         "x": [
          0,
          125,
          9,
          64,
          223,
          0
         ],
         "xaxis": "x",
         "y": [
          "<i>Missing data<i>",
          "<i>Blink<i>",
          "<i>Accurate saccade<i>",
          "<i>Innacurate saccade<i>",
          "<i>Early saccade (< 50 ms)<i>",
          "<i>Late saccade (> 400 ms)<i>"
         ],
         "yaxis": "y"
        },
        {
         "marker": {
          "color": "rgb(204, 80, 62)"
         },
         "name": "Right saccades",
         "orientation": "h",
         "type": "bar",
         "x": [
          0,
          118,
          6,
          39,
          258,
          1
         ],
         "xaxis": "x",
         "y": [
          "<i>Missing data<i>",
          "<i>Blink<i>",
          "<i>Accurate saccade<i>",
          "<i>Innacurate saccade<i>",
          "<i>Early saccade (< 50 ms)<i>",
          "<i>Late saccade (> 400 ms)<i>"
         ],
         "yaxis": "y"
        },
        {
         "marker": {
          "color": "rgb(95, 70, 144)"
         },
         "name": "Steady 1",
         "orientation": "h",
         "type": "bar",
         "x": [
          0,
          36,
          1,
          13,
          70,
          0
         ],
         "xaxis": "x2",
         "y": [
          "<i>Missing data<i>",
          "<i>Blink<i>",
          "<i>Accurate saccade<i>",
          "<i>Innacurate saccade<i>",
          "<i>Early saccade (< 50 ms)<i>",
          "<i>Late saccade (> 400 ms)<i>"
         ],
         "yaxis": "y2"
        },
        {
         "marker": {
          "color": "rgb(56, 166, 165)"
         },
         "name": "Steady 2",
         "orientation": "h",
         "type": "bar",
         "x": [
          0,
          26,
          3,
          19,
          73,
          0
         ],
         "xaxis": "x2",
         "y": [
          "<i>Missing data<i>",
          "<i>Blink<i>",
          "<i>Accurate saccade<i>",
          "<i>Innacurate saccade<i>",
          "<i>Early saccade (< 50 ms)<i>",
          "<i>Late saccade (> 400 ms)<i>"
         ],
         "yaxis": "y2"
        },
        {
         "marker": {
          "color": "rgb(15, 133, 84)"
         },
         "name": "Steady 3",
         "orientation": "h",
         "type": "bar",
         "x": [
          0,
          35,
          6,
          12,
          67,
          0
         ],
         "xaxis": "x2",
         "y": [
          "<i>Missing data<i>",
          "<i>Blink<i>",
          "<i>Accurate saccade<i>",
          "<i>Innacurate saccade<i>",
          "<i>Early saccade (< 50 ms)<i>",
          "<i>Late saccade (> 400 ms)<i>"
         ],
         "yaxis": "y2"
        },
        {
         "marker": {
          "color": "rgb(115, 175, 72)"
         },
         "name": "Steady 4",
         "orientation": "h",
         "type": "bar",
         "x": [
          0,
          32,
          0,
          18,
          70,
          0
         ],
         "xaxis": "x2",
         "y": [
          "<i>Missing data<i>",
          "<i>Blink<i>",
          "<i>Accurate saccade<i>",
          "<i>Innacurate saccade<i>",
          "<i>Early saccade (< 50 ms)<i>",
          "<i>Late saccade (> 400 ms)<i>"
         ],
         "yaxis": "y2"
        },
        {
         "marker": {
          "color": "rgb(237, 173, 8)"
         },
         "name": "Steady 5",
         "orientation": "h",
         "type": "bar",
         "x": [
          0,
          37,
          3,
          22,
          58,
          0
         ],
         "xaxis": "x2",
         "y": [
          "<i>Missing data<i>",
          "<i>Blink<i>",
          "<i>Accurate saccade<i>",
          "<i>Innacurate saccade<i>",
          "<i>Early saccade (< 50 ms)<i>",
          "<i>Late saccade (> 400 ms)<i>"
         ],
         "yaxis": "y2"
        },
        {
         "marker": {
          "color": "rgb(225, 124, 5)"
         },
         "name": "Motion 5-4-3 (up)",
         "orientation": "h",
         "type": "bar",
         "x": [
          0,
          32,
          2,
          8,
          79,
          1
         ],
         "xaxis": "x2",
         "y": [
          "<i>Missing data<i>",
          "<i>Blink<i>",
          "<i>Accurate saccade<i>",
          "<i>Innacurate saccade<i>",
          "<i>Early saccade (< 50 ms)<i>",
          "<i>Late saccade (> 400 ms)<i>"
         ],
         "yaxis": "y2"
        },
        {
         "marker": {
          "color": "rgb(148, 52, 110)"
         },
         "name": "Motion 1-2-3 (down)",
         "orientation": "h",
         "type": "bar",
         "x": [
          0,
          45,
          0,
          11,
          64,
          0
         ],
         "xaxis": "x2",
         "y": [
          "<i>Missing data<i>",
          "<i>Blink<i>",
          "<i>Accurate saccade<i>",
          "<i>Innacurate saccade<i>",
          "<i>Early saccade (< 50 ms)<i>",
          "<i>Late saccade (> 400 ms)<i>"
         ],
         "yaxis": "y2"
        }
       ],
       "layout": {
        "annotations": [
         {
          "font": {
           "size": 16
          },
          "showarrow": false,
          "text": "<b>Trial distribution per saccade direction<b>",
          "x": 0.5,
          "xanchor": "center",
          "xref": "paper",
          "y": 1,
          "yanchor": "bottom",
          "yref": "paper"
         },
         {
          "font": {
           "size": 16
          },
          "showarrow": false,
          "text": "<b>Trial distribution per trial sequence<b>",
          "x": 0.5,
          "xanchor": "center",
          "xref": "paper",
          "y": 0.4,
          "yanchor": "bottom",
          "yref": "paper"
         },
         {
          "font": {
           "size": 13
          },
          "showarrow": false,
          "text": "Left saccades",
          "x": 1.15,
          "xanchor": "left",
          "xref": "paper",
          "y": 0.97,
          "yanchor": "middle",
          "yref": "paper"
         },
         {
          "font": {
           "size": 13
          },
          "showarrow": false,
          "text": "Right saccades",
          "x": 1.15,
          "xanchor": "left",
          "xref": "paper",
          "y": 0.9099999999999999,
          "yanchor": "middle",
          "yref": "paper"
         },
         {
          "font": {
           "size": 13
          },
          "showarrow": false,
          "text": "<i>0 %<i>",
          "x": 0,
          "xanchor": "left",
          "xref": "x",
          "y": 0,
          "yref": "y"
         },
         {
          "font": {
           "size": 13
          },
          "showarrow": false,
          "text": "<i>29 %<i>",
          "x": 243,
          "xanchor": "left",
          "xref": "x",
          "y": 1,
          "yref": "y"
         },
         {
          "font": {
           "size": 13
          },
          "showarrow": false,
          "text": "<i>2 %<i>",
          "x": 15,
          "xanchor": "left",
          "xref": "x",
          "y": 2,
          "yref": "y"
         },
         {
          "font": {
           "size": 13
          },
          "showarrow": false,
          "text": "<i>12 %<i>",
          "x": 103,
          "xanchor": "left",
          "xref": "x",
          "y": 3,
          "yref": "y"
         },
         {
          "font": {
           "size": 13
          },
          "showarrow": false,
          "text": "<i>57 %<i>",
          "x": 481,
          "xanchor": "left",
          "xref": "x",
          "y": 4,
          "yref": "y"
         },
         {
          "font": {
           "size": 13
          },
          "showarrow": false,
          "text": "<i>0 %<i>",
          "x": 1,
          "xanchor": "left",
          "xref": "x",
          "y": 5,
          "yref": "y"
         },
         {
          "font": {
           "size": 13
          },
          "showarrow": false,
          "text": "Steady 1",
          "x": 1.15,
          "xanchor": "left",
          "xref": "paper",
          "y": 0.36,
          "yanchor": "middle",
          "yref": "paper"
         },
         {
          "font": {
           "size": 13
          },
          "showarrow": false,
          "text": "Steady 2",
          "x": 1.15,
          "xanchor": "left",
          "xref": "paper",
          "y": 0.3,
          "yanchor": "middle",
          "yref": "paper"
         },
         {
          "font": {
           "size": 13
          },
          "showarrow": false,
          "text": "Steady 3",
          "x": 1.15,
          "xanchor": "left",
          "xref": "paper",
          "y": 0.24,
          "yanchor": "middle",
          "yref": "paper"
         },
         {
          "font": {
           "size": 13
          },
          "showarrow": false,
          "text": "Steady 4",
          "x": 1.15,
          "xanchor": "left",
          "xref": "paper",
          "y": 0.18,
          "yanchor": "middle",
          "yref": "paper"
         },
         {
          "font": {
           "size": 13
          },
          "showarrow": false,
          "text": "Steady 5",
          "x": 1.15,
          "xanchor": "left",
          "xref": "paper",
          "y": 0.12,
          "yanchor": "middle",
          "yref": "paper"
         },
         {
          "font": {
           "size": 13
          },
          "showarrow": false,
          "text": "Motion 5-4-3 (up)",
          "x": 1.15,
          "xanchor": "left",
          "xref": "paper",
          "y": 0.06,
          "yanchor": "middle",
          "yref": "paper"
         },
         {
          "font": {
           "size": 13
          },
          "showarrow": false,
          "text": "Motion 1-2-3 (down)",
          "x": 1.15,
          "xanchor": "left",
          "xref": "paper",
          "y": 0,
          "yanchor": "middle",
          "yref": "paper"
         },
         {
          "font": {
           "size": 13
          },
          "showarrow": false,
          "text": "<i>0 %<i>",
          "x": 0,
          "xanchor": "left",
          "xref": "x2",
          "y": 0,
          "yref": "y2"
         },
         {
          "font": {
           "size": 13
          },
          "showarrow": false,
          "text": "<i>29 %<i>",
          "x": 243,
          "xanchor": "left",
          "xref": "x2",
          "y": 1,
          "yref": "y2"
         },
         {
          "font": {
           "size": 13
          },
          "showarrow": false,
          "text": "<i>2 %<i>",
          "x": 15,
          "xanchor": "left",
          "xref": "x2",
          "y": 2,
          "yref": "y2"
         },
         {
          "font": {
           "size": 13
          },
          "showarrow": false,
          "text": "<i>12 %<i>",
          "x": 103,
          "xanchor": "left",
          "xref": "x2",
          "y": 3,
          "yref": "y2"
         },
         {
          "font": {
           "size": 13
          },
          "showarrow": false,
          "text": "<i>57 %<i>",
          "x": 481,
          "xanchor": "left",
          "xref": "x2",
          "y": 4,
          "yref": "y2"
         },
         {
          "font": {
           "size": 13
          },
          "showarrow": false,
          "text": "<i>0 %<i>",
          "x": 1,
          "xanchor": "left",
          "xref": "x2",
          "y": 5,
          "yref": "y2"
         }
        ],
        "barmode": "stack",
        "height": 600,
        "margin": {
         "b": 100,
         "l": 200,
         "r": 200,
         "t": 50
        },
        "shapes": [
         {
          "fillcolor": "rgb(29, 105, 150)",
          "line": {
           "width": 0
          },
          "type": "rect",
          "x0": 1.0799999999999998,
          "x1": 1.1199999999999999,
          "xref": "paper",
          "y0": 0.95,
          "y1": 0.99,
          "yref": "paper"
         },
         {
          "fillcolor": "rgb(204, 80, 62)",
          "line": {
           "width": 0
          },
          "type": "rect",
          "x0": 1.0799999999999998,
          "x1": 1.1199999999999999,
          "xref": "paper",
          "y0": 0.8899999999999999,
          "y1": 0.9299999999999999,
          "yref": "paper"
         },
         {
          "fillcolor": "rgb(95, 70, 144)",
          "line": {
           "width": 0
          },
          "type": "rect",
          "x0": 1.0799999999999998,
          "x1": 1.1199999999999999,
          "xref": "paper",
          "y0": 0.33999999999999997,
          "y1": 0.38,
          "yref": "paper"
         },
         {
          "fillcolor": "rgb(56, 166, 165)",
          "line": {
           "width": 0
          },
          "type": "rect",
          "x0": 1.0799999999999998,
          "x1": 1.1199999999999999,
          "xref": "paper",
          "y0": 0.27999999999999997,
          "y1": 0.32,
          "yref": "paper"
         },
         {
          "fillcolor": "rgb(15, 133, 84)",
          "line": {
           "width": 0
          },
          "type": "rect",
          "x0": 1.0799999999999998,
          "x1": 1.1199999999999999,
          "xref": "paper",
          "y0": 0.22,
          "y1": 0.26,
          "yref": "paper"
         },
         {
          "fillcolor": "rgb(115, 175, 72)",
          "line": {
           "width": 0
          },
          "type": "rect",
          "x0": 1.0799999999999998,
          "x1": 1.1199999999999999,
          "xref": "paper",
          "y0": 0.16,
          "y1": 0.19999999999999998,
          "yref": "paper"
         },
         {
          "fillcolor": "rgb(237, 173, 8)",
          "line": {
           "width": 0
          },
          "type": "rect",
          "x0": 1.0799999999999998,
          "x1": 1.1199999999999999,
          "xref": "paper",
          "y0": 0.09999999999999999,
          "y1": 0.13999999999999999,
          "yref": "paper"
         },
         {
          "fillcolor": "rgb(225, 124, 5)",
          "line": {
           "width": 0
          },
          "type": "rect",
          "x0": 1.0799999999999998,
          "x1": 1.1199999999999999,
          "xref": "paper",
          "y0": 0.039999999999999994,
          "y1": 0.08,
          "yref": "paper"
         },
         {
          "fillcolor": "rgb(148, 52, 110)",
          "line": {
           "width": 0
          },
          "type": "rect",
          "x0": 1.0799999999999998,
          "x1": 1.1199999999999999,
          "xref": "paper",
          "y0": -0.02,
          "y1": 0.02,
          "yref": "paper"
         }
        ],
        "showlegend": false,
        "template": {
         "data": {
          "barpolar": [
           {
            "marker": {
             "line": {
              "color": "rgba(0, 0, 0, 1)",
              "width": 1.5
             }
            },
            "showlegend": false,
            "thetaunit": "radians",
            "type": "barpolar"
           }
          ],
          "pie": [
           {
            "direction": "clockwise",
            "hole": 0.4,
            "marker": {
             "line": {
              "color": [
               "rgba(0, 0, 0, 1)",
               "rgba(255,255,255,0)"
              ],
              "width": [
               1.5,
               0
              ]
             }
            },
            "rotation": 0,
            "showlegend": false,
            "sort": false,
            "textposition": [
             "inside",
             "none"
            ],
            "type": "pie"
           }
          ],
          "violin": [
           {
            "box": {
             "visible": false
            },
            "hoveron": "violins",
            "line": {
             "color": "rgba(0, 0, 0, 1)",
             "width": 1.5
            },
            "marker": {
             "opacity": 0.5,
             "symbol": "x"
            },
            "meanline": {
             "color": "rgba(0, 0, 0, 1)",
             "visible": true,
             "width": 1.5
            },
            "opacity": 1,
            "points": false,
            "showlegend": false,
            "type": "violin",
            "width": 0.8
           }
          ]
         },
         "layout": {
          "annotationdefaults": {
           "font": {
            "color": "rgba(0, 0, 0, 1)",
            "family": "Helvetica",
            "size": 15
           }
          },
          "font": {
           "family": "Helvetica",
           "size": 13
          },
          "plot_bgcolor": "rgba(255, 255, 255, 1)",
          "polar": {
           "angularaxis": {
            "showticklabels": false,
            "ticks": "",
            "visible": false
           },
           "radialaxis": {
            "showticklabels": false,
            "ticks": "",
            "visible": false
           }
          },
          "xaxis": {
           "color": "rgba(0, 0, 0, 1)",
           "hoverformat": ".1f",
           "linewidth": 2,
           "range": [
            0,
            1
           ],
           "showgrid": false,
           "tickfont": {
            "family": "Helvetica",
            "size": 13
           },
           "ticklen": 8,
           "ticks": "outside",
           "tickwidth": 2,
           "title": {
            "font": {
             "family": "Helvetica",
             "size": 15
            }
           },
           "visible": true,
           "zeroline": false,
           "zerolinecolor": "rgba(0, 0, 0, 1)",
           "zerolinewidth": 2
          },
          "yaxis": {
           "color": "rgba(0, 0, 0, 1)",
           "hoverformat": ".1f",
           "linewidth": 2,
           "showgrid": false,
           "tickfont": {
            "family": "Helvetica",
            "size": 13
           },
           "ticklen": 8,
           "ticks": "outside",
           "tickwidth": 2,
           "title": {
            "font": {
             "family": "Helvetica",
             "size": 15
            }
           },
           "visible": true,
           "zeroline": false,
           "zerolinecolor": "rgba(0, 0, 0, 1)",
           "zerolinewidth": 2
          }
         }
        },
        "width": 800,
        "xaxis": {
         "anchor": "y",
         "domain": [
          0,
          1
         ],
         "linewidth": 2,
         "range": [
          0,
          2000
         ],
         "ticklen": 8,
         "type": "linear",
         "visible": true
        },
        "xaxis2": {
         "anchor": "y2",
         "domain": [
          0,
          1
         ],
         "linewidth": 2,
         "range": [
          0,
          2000
         ],
         "ticklen": 8,
         "type": "linear",
         "visible": true
        },
        "yaxis": {
         "anchor": "x",
         "autorange": true,
         "domain": [
          0.6000000000000001,
          1
         ],
         "linewidth": 2,
         "range": [
          5.5,
          -0.5
         ],
         "ticklen": 8,
         "type": "category",
         "visible": true
        },
        "yaxis2": {
         "anchor": "x2",
         "autorange": true,
         "domain": [
          0,
          0.4
         ],
         "linewidth": 2,
         "range": [
          5.5,
          -0.5
         ],
         "ticklen": 8,
         "type": "category",
         "visible": true
        }
       }
      },
      "image/png": "[encoded data removed]",
      "text/html": [
       "<div>                            <div id=\"f134d100-24fc-4b90-8d69-68b0889b146c\" class=\"plotly-graph-div\" style=\"height:600px; width:800px;\"></div>            <script type=\"text/javascript\">                require([\"plotly\"], function(Plotly) {                    window.PLOTLYENV=window.PLOTLYENV || {};                                    if (document.getElementById(\"f134d100-24fc-4b90-8d69-68b0889b146c\")) {                    Plotly.newPlot(                        \"f134d100-24fc-4b90-8d69-68b0889b146c\",                        [{\"marker\":{\"color\":\"rgb(29, 105, 150)\"},\"name\":\"Left saccades\",\"orientation\":\"h\",\"x\":[0.0,125.0,9.0,64.0,223.0,0.0],\"y\":[\"<i>Missing data<i>\",\"<i>Blink<i>\",\"<i>Accurate saccade<i>\",\"<i>Innacurate saccade<i>\",\"<i>Early saccade (< 50 ms)<i>\",\"<i>Late saccade (> 400 ms)<i>\"],\"type\":\"bar\",\"xaxis\":\"x\",\"yaxis\":\"y\"},{\"marker\":{\"color\":\"rgb(204, 80, 62)\"},\"name\":\"Right saccades\",\"orientation\":\"h\",\"x\":[0.0,118.0,6.0,39.0,258.0,1.0],\"y\":[\"<i>Missing data<i>\",\"<i>Blink<i>\",\"<i>Accurate saccade<i>\",\"<i>Innacurate saccade<i>\",\"<i>Early saccade (< 50 ms)<i>\",\"<i>Late saccade (> 400 ms)<i>\"],\"type\":\"bar\",\"xaxis\":\"x\",\"yaxis\":\"y\"},{\"marker\":{\"color\":\"rgb(95, 70, 144)\"},\"name\":\"Steady 1\",\"orientation\":\"h\",\"x\":[0.0,36.0,1.0,13.0,70.0,0.0],\"y\":[\"<i>Missing data<i>\",\"<i>Blink<i>\",\"<i>Accurate saccade<i>\",\"<i>Innacurate saccade<i>\",\"<i>Early saccade (< 50 ms)<i>\",\"<i>Late saccade (> 400 ms)<i>\"],\"type\":\"bar\",\"xaxis\":\"x2\",\"yaxis\":\"y2\"},{\"marker\":{\"color\":\"rgb(56, 166, 165)\"},\"name\":\"Steady 2\",\"orientation\":\"h\",\"x\":[0.0,26.0,3.0,19.0,73.0,0.0],\"y\":[\"<i>Missing data<i>\",\"<i>Blink<i>\",\"<i>Accurate saccade<i>\",\"<i>Innacurate saccade<i>\",\"<i>Early saccade (< 50 ms)<i>\",\"<i>Late saccade (> 400 ms)<i>\"],\"type\":\"bar\",\"xaxis\":\"x2\",\"yaxis\":\"y2\"},{\"marker\":{\"color\":\"rgb(15, 133, 84)\"},\"name\":\"Steady 3\",\"orientation\":\"h\",\"x\":[0.0,35.0,6.0,12.0,67.0,0.0],\"y\":[\"<i>Missing data<i>\",\"<i>Blink<i>\",\"<i>Accurate saccade<i>\",\"<i>Innacurate saccade<i>\",\"<i>Early saccade (< 50 ms)<i>\",\"<i>Late saccade (> 400 ms)<i>\"],\"type\":\"bar\",\"xaxis\":\"x2\",\"yaxis\":\"y2\"},{\"marker\":{\"color\":\"rgb(115, 175, 72)\"},\"name\":\"Steady 4\",\"orientation\":\"h\",\"x\":[0.0,32.0,0.0,18.0,70.0,0.0],\"y\":[\"<i>Missing data<i>\",\"<i>Blink<i>\",\"<i>Accurate saccade<i>\",\"<i>Innacurate saccade<i>\",\"<i>Early saccade (< 50 ms)<i>\",\"<i>Late saccade (> 400 ms)<i>\"],\"type\":\"bar\",\"xaxis\":\"x2\",\"yaxis\":\"y2\"},{\"marker\":{\"color\":\"rgb(237, 173, 8)\"},\"name\":\"Steady 5\",\"orientation\":\"h\",\"x\":[0.0,37.0,3.0,22.0,58.0,0.0],\"y\":[\"<i>Missing data<i>\",\"<i>Blink<i>\",\"<i>Accurate saccade<i>\",\"<i>Innacurate saccade<i>\",\"<i>Early saccade (< 50 ms)<i>\",\"<i>Late saccade (> 400 ms)<i>\"],\"type\":\"bar\",\"xaxis\":\"x2\",\"yaxis\":\"y2\"},{\"marker\":{\"color\":\"rgb(225, 124, 5)\"},\"name\":\"Motion 5-4-3 (up)\",\"orientation\":\"h\",\"x\":[0.0,32.0,2.0,8.0,79.0,1.0],\"y\":[\"<i>Missing data<i>\",\"<i>Blink<i>\",\"<i>Accurate saccade<i>\",\"<i>Innacurate saccade<i>\",\"<i>Early saccade (< 50 ms)<i>\",\"<i>Late saccade (> 400 ms)<i>\"],\"type\":\"bar\",\"xaxis\":\"x2\",\"yaxis\":\"y2\"},{\"marker\":{\"color\":\"rgb(148, 52, 110)\"},\"name\":\"Motion 1-2-3 (down)\",\"orientation\":\"h\",\"x\":[0.0,45.0,0.0,11.0,64.0,0.0],\"y\":[\"<i>Missing data<i>\",\"<i>Blink<i>\",\"<i>Accurate saccade<i>\",\"<i>Innacurate saccade<i>\",\"<i>Early saccade (< 50 ms)<i>\",\"<i>Late saccade (> 400 ms)<i>\"],\"type\":\"bar\",\"xaxis\":\"x2\",\"yaxis\":\"y2\"}],                        {\"template\":{\"data\":{\"barpolar\":[{\"marker\":{\"line\":{\"color\":\"rgba(0,0,0,1)\",\"width\":1.5}},\"showlegend\":false,\"thetaunit\":\"radians\",\"type\":\"barpolar\"}],\"pie\":[{\"direction\":\"clockwise\",\"hole\":0.4,\"marker\":{\"line\":{\"color\":[\"rgba(0,0,0,1)\",\"rgba(255,255,255,0)\"],\"width\":[1.5,0]}},\"rotation\":0,\"showlegend\":false,\"sort\":false,\"textposition\":[\"inside\",\"none\"],\"type\":\"pie\"}],\"violin\":[{\"box\":{\"visible\":false},\"hoveron\":\"violins\",\"line\":{\"color\":\"rgba(0, 0, 0, 1)\",\"width\":1.5},\"marker\":{\"opacity\":0.5,\"symbol\":\"x\"},\"meanline\":{\"color\":\"rgba(0, 0, 0, 1)\",\"visible\":true,\"width\":1.5},\"opacity\":1,\"points\":false,\"showlegend\":false,\"width\":0.8,\"type\":\"violin\"}]},\"layout\":{\"annotationdefaults\":{\"font\":{\"color\":\"rgba(0, 0, 0, 1)\",\"family\":\"Helvetica\",\"size\":15}},\"font\":{\"family\":\"Helvetica\",\"size\":13},\"plot_bgcolor\":\"rgba(255, 255, 255, 1)\",\"polar\":{\"angularaxis\":{\"showticklabels\":false,\"ticks\":\"\",\"visible\":false},\"radialaxis\":{\"showticklabels\":false,\"ticks\":\"\",\"visible\":false}},\"xaxis\":{\"color\":\"rgba(0, 0, 0, 1)\",\"hoverformat\":\".1f\",\"linewidth\":2,\"range\":[0,1],\"showgrid\":false,\"tickfont\":{\"family\":\"Helvetica\",\"size\":13},\"ticklen\":8,\"ticks\":\"outside\",\"tickwidth\":2,\"title\":{\"font\":{\"family\":\"Helvetica\",\"size\":15}},\"visible\":true,\"zeroline\":false,\"zerolinecolor\":\"rgba(0, 0, 0, 1)\",\"zerolinewidth\":2},\"yaxis\":{\"color\":\"rgba(0, 0, 0, 1)\",\"hoverformat\":\".1f\",\"linewidth\":2,\"showgrid\":false,\"tickfont\":{\"family\":\"Helvetica\",\"size\":13},\"ticklen\":8,\"ticks\":\"outside\",\"tickwidth\":2,\"title\":{\"font\":{\"family\":\"Helvetica\",\"size\":15}},\"visible\":true,\"zeroline\":false,\"zerolinecolor\":\"rgba(0, 0, 0, 1)\",\"zerolinewidth\":2}}},\"xaxis\":{\"anchor\":\"y\",\"domain\":[0.0,1.0],\"visible\":true,\"ticklen\":8,\"linewidth\":2,\"range\":[0,2000]},\"yaxis\":{\"anchor\":\"x\",\"domain\":[0.6000000000000001,1.0],\"visible\":true,\"ticklen\":8,\"linewidth\":2,\"autorange\":\"reversed\"},\"xaxis2\":{\"anchor\":\"y2\",\"domain\":[0.0,1.0],\"visible\":true,\"ticklen\":8,\"linewidth\":2,\"range\":[0,2000]},\"yaxis2\":{\"anchor\":\"x2\",\"domain\":[0.0,0.4],\"visible\":true,\"ticklen\":8,\"linewidth\":2,\"autorange\":\"reversed\"},\"annotations\":[{\"font\":{\"size\":16},\"showarrow\":false,\"text\":\"<b>Trial distribution per saccade direction<b>\",\"x\":0.5,\"xanchor\":\"center\",\"xref\":\"paper\",\"y\":1.0,\"yanchor\":\"bottom\",\"yref\":\"paper\"},{\"font\":{\"size\":16},\"showarrow\":false,\"text\":\"<b>Trial distribution per trial sequence<b>\",\"x\":0.5,\"xanchor\":\"center\",\"xref\":\"paper\",\"y\":0.4,\"yanchor\":\"bottom\",\"yref\":\"paper\"},{\"font\":{\"size\":13},\"showarrow\":false,\"text\":\"Left saccades\",\"x\":1.15,\"xanchor\":\"left\",\"xref\":\"paper\",\"y\":0.97,\"yanchor\":\"middle\",\"yref\":\"paper\"},{\"font\":{\"size\":13},\"showarrow\":false,\"text\":\"Right saccades\",\"x\":1.15,\"xanchor\":\"left\",\"xref\":\"paper\",\"y\":0.9099999999999999,\"yanchor\":\"middle\",\"yref\":\"paper\"},{\"font\":{\"size\":13},\"showarrow\":false,\"text\":\"<i>0 %<i>\",\"x\":0.0,\"xanchor\":\"left\",\"xref\":\"x\",\"y\":0,\"yref\":\"y\"},{\"font\":{\"size\":13},\"showarrow\":false,\"text\":\"<i>29 %<i>\",\"x\":243.0,\"xanchor\":\"left\",\"xref\":\"x\",\"y\":1,\"yref\":\"y\"},{\"font\":{\"size\":13},\"showarrow\":false,\"text\":\"<i>2 %<i>\",\"x\":15.0,\"xanchor\":\"left\",\"xref\":\"x\",\"y\":2,\"yref\":\"y\"},{\"font\":{\"size\":13},\"showarrow\":false,\"text\":\"<i>12 %<i>\",\"x\":103.0,\"xanchor\":\"left\",\"xref\":\"x\",\"y\":3,\"yref\":\"y\"},{\"font\":{\"size\":13},\"showarrow\":false,\"text\":\"<i>57 %<i>\",\"x\":481.0,\"xanchor\":\"left\",\"xref\":\"x\",\"y\":4,\"yref\":\"y\"},{\"font\":{\"size\":13},\"showarrow\":false,\"text\":\"<i>0 %<i>\",\"x\":1.0,\"xanchor\":\"left\",\"xref\":\"x\",\"y\":5,\"yref\":\"y\"},{\"font\":{\"size\":13},\"showarrow\":false,\"text\":\"Steady 1\",\"x\":1.15,\"xanchor\":\"left\",\"xref\":\"paper\",\"y\":0.36,\"yanchor\":\"middle\",\"yref\":\"paper\"},{\"font\":{\"size\":13},\"showarrow\":false,\"text\":\"Steady 2\",\"x\":1.15,\"xanchor\":\"left\",\"xref\":\"paper\",\"y\":0.3,\"yanchor\":\"middle\",\"yref\":\"paper\"},{\"font\":{\"size\":13},\"showarrow\":false,\"text\":\"Steady 3\",\"x\":1.15,\"xanchor\":\"left\",\"xref\":\"paper\",\"y\":0.24,\"yanchor\":\"middle\",\"yref\":\"paper\"},{\"font\":{\"size\":13},\"showarrow\":false,\"text\":\"Steady 4\",\"x\":1.15,\"xanchor\":\"left\",\"xref\":\"paper\",\"y\":0.18,\"yanchor\":\"middle\",\"yref\":\"paper\"},{\"font\":{\"size\":13},\"showarrow\":false,\"text\":\"Steady 5\",\"x\":1.15,\"xanchor\":\"left\",\"xref\":\"paper\",\"y\":0.12,\"yanchor\":\"middle\",\"yref\":\"paper\"},{\"font\":{\"size\":13},\"showarrow\":false,\"text\":\"Motion 5-4-3 (up)\",\"x\":1.15,\"xanchor\":\"left\",\"xref\":\"paper\",\"y\":0.06,\"yanchor\":\"middle\",\"yref\":\"paper\"},{\"font\":{\"size\":13},\"showarrow\":false,\"text\":\"Motion 1-2-3 (down)\",\"x\":1.15,\"xanchor\":\"left\",\"xref\":\"paper\",\"y\":0.0,\"yanchor\":\"middle\",\"yref\":\"paper\"},{\"font\":{\"size\":13},\"showarrow\":false,\"text\":\"<i>0 %<i>\",\"x\":0.0,\"xanchor\":\"left\",\"xref\":\"x2\",\"y\":0,\"yref\":\"y2\"},{\"font\":{\"size\":13},\"showarrow\":false,\"text\":\"<i>29 %<i>\",\"x\":243.0,\"xanchor\":\"left\",\"xref\":\"x2\",\"y\":1,\"yref\":\"y2\"},{\"font\":{\"size\":13},\"showarrow\":false,\"text\":\"<i>2 %<i>\",\"x\":15.0,\"xanchor\":\"left\",\"xref\":\"x2\",\"y\":2,\"yref\":\"y2\"},{\"font\":{\"size\":13},\"showarrow\":false,\"text\":\"<i>12 %<i>\",\"x\":103.0,\"xanchor\":\"left\",\"xref\":\"x2\",\"y\":3,\"yref\":\"y2\"},{\"font\":{\"size\":13},\"showarrow\":false,\"text\":\"<i>57 %<i>\",\"x\":481.0,\"xanchor\":\"left\",\"xref\":\"x2\",\"y\":4,\"yref\":\"y2\"},{\"font\":{\"size\":13},\"showarrow\":false,\"text\":\"<i>0 %<i>\",\"x\":1.0,\"xanchor\":\"left\",\"xref\":\"x2\",\"y\":5,\"yref\":\"y2\"}],\"shapes\":[{\"fillcolor\":\"rgb(29, 105, 150)\",\"line\":{\"width\":0},\"type\":\"rect\",\"x0\":1.0799999999999998,\"x1\":1.1199999999999999,\"xref\":\"paper\",\"y0\":0.95,\"y1\":0.99,\"yref\":\"paper\"},{\"fillcolor\":\"rgb(204, 80, 62)\",\"line\":{\"width\":0},\"type\":\"rect\",\"x0\":1.0799999999999998,\"x1\":1.1199999999999999,\"xref\":\"paper\",\"y0\":0.8899999999999999,\"y1\":0.9299999999999999,\"yref\":\"paper\"},{\"fillcolor\":\"rgb(95, 70, 144)\",\"line\":{\"width\":0},\"type\":\"rect\",\"x0\":1.0799999999999998,\"x1\":1.1199999999999999,\"xref\":\"paper\",\"y0\":0.33999999999999997,\"y1\":0.38,\"yref\":\"paper\"},{\"fillcolor\":\"rgb(56, 166, 165)\",\"line\":{\"width\":0},\"type\":\"rect\",\"x0\":1.0799999999999998,\"x1\":1.1199999999999999,\"xref\":\"paper\",\"y0\":0.27999999999999997,\"y1\":0.32,\"yref\":\"paper\"},{\"fillcolor\":\"rgb(15, 133, 84)\",\"line\":{\"width\":0},\"type\":\"rect\",\"x0\":1.0799999999999998,\"x1\":1.1199999999999999,\"xref\":\"paper\",\"y0\":0.22,\"y1\":0.26,\"yref\":\"paper\"},{\"fillcolor\":\"rgb(115, 175, 72)\",\"line\":{\"width\":0},\"type\":\"rect\",\"x0\":1.0799999999999998,\"x1\":1.1199999999999999,\"xref\":\"paper\",\"y0\":0.16,\"y1\":0.19999999999999998,\"yref\":\"paper\"},{\"fillcolor\":\"rgb(237, 173, 8)\",\"line\":{\"width\":0},\"type\":\"rect\",\"x0\":1.0799999999999998,\"x1\":1.1199999999999999,\"xref\":\"paper\",\"y0\":0.09999999999999999,\"y1\":0.13999999999999999,\"yref\":\"paper\"},{\"fillcolor\":\"rgb(225, 124, 5)\",\"line\":{\"width\":0},\"type\":\"rect\",\"x0\":1.0799999999999998,\"x1\":1.1199999999999999,\"xref\":\"paper\",\"y0\":0.039999999999999994,\"y1\":0.08,\"yref\":\"paper\"},{\"fillcolor\":\"rgb(148, 52, 110)\",\"line\":{\"width\":0},\"type\":\"rect\",\"x0\":1.0799999999999998,\"x1\":1.1199999999999999,\"xref\":\"paper\",\"y0\":-0.02,\"y1\":0.02,\"yref\":\"paper\"}],\"margin\":{\"l\":200,\"r\":200,\"t\":50,\"b\":100},\"width\":800,\"height\":600,\"barmode\":\"stack\",\"showlegend\":false},                        {\"responsive\": true}                    ).then(function(){\n",
       "                            \n",
       "var gd = document.getElementById('f134d100-24fc-4b90-8d69-68b0889b146c');\n",
       "var x = new MutationObserver(function (mutations, observer) {{\n",
       "        var display = window.getComputedStyle(gd).display;\n",
       "        if (!display || display === 'none') {{\n",
       "            console.log([gd, 'removed!']);\n",
       "            Plotly.purge(gd);\n",
       "            observer.disconnect();\n",
       "        }}\n",
       "}});\n",
       "\n",
       "// Listen for the removal of the full notebook cells\n",
       "var notebookContainer = gd.closest('#notebook-container');\n",
       "if (notebookContainer) {{\n",
       "    x.observe(notebookContainer, {childList: true});\n",
       "}}\n",
       "\n",
       "// Listen for the clearing of the current output cell\n",
       "var outputEl = gd.closest('.output');\n",
       "if (outputEl) {{\n",
       "    x.observe(outputEl, {childList: true});\n",
       "}}\n",
       "\n",
       "                        })                };                });            </script>        </div>"
      ]
     },
     "metadata": {},
     "output_type": "display_data"
    }
   ],
   "source": [
    "# general figure settings\n",
    "template_specs = dict(  axes_color=\"rgba(0, 0, 0, 1)\",\n",
    "                        axes_width=2,\n",
    "                        axes_font_size=13,\n",
    "                        bg_col=\"rgba(255, 255, 255, 1)\",\n",
    "                        font='Helvetica',\n",
    "                        title_font_size=15,\n",
    "                        plot_width=1.5)\n",
    "fig_template = plotly_template(template_specs)\n",
    "\n",
    "# figure specific settings\n",
    "x_range = [0,2000]\n",
    "colors_panel = px.colors.qualitative.Prism\n",
    "subplot_titles = ('<b>Trial distribution per saccade direction<b>','<b>Trial distribution per trial sequence<b>')\n",
    "analysis_crit = ['<i>Missing data<i>', '<i>Blink<i>', '<i>Accurate saccade<i>', #'<i>Corrective saccade<i>', \n",
    "                 '<i>Innacurate saccade<i>','<i>Early saccade (< 50 ms)<i>','<i>Late saccade (> 400 ms)<i>']\n",
    "analysis_crit_df = ['miss_time_trial','blink_trial','main_sac_trial',#'cor_sac_trial',\n",
    "                    'innacurate_sac_trial','early_sac_trial','late_sac_trial']\n",
    "x_label='Trials'\n",
    "tss = ['Steady 1', 'Steady 2', 'Steady 3', 'Steady 4', 'Steady 5', 'Motion 5-4-3 (up)', 'Motion 1-2-3 (down)']\n",
    "sds = ['Left saccades', 'Right saccades']\n",
    "ts_cols = [colors_panel[0], colors_panel[2], colors_panel[3], colors_panel[4], colors_panel[5], colors_panel[6], colors_panel[8]]\n",
    "sd_cols = [colors_panel[1], colors_panel[7]]\n",
    "x_legend = 1.15\n",
    "y_legend_step = 0.06\n",
    "y_legend_sd = 0.97\n",
    "y_legend_ts = 0.36\n",
    "rad_leg = 0.04\n",
    "\n",
    "# subplot settings\n",
    "rows, cols = 2, 1\n",
    "fig_height, fig_width = 600,800\n",
    "column_widths,row_heights = [1],[1,1]\n",
    "sb_specs = [[{}],[{}]]\n",
    "fig = make_subplots(rows=rows, cols=cols, specs=sb_specs, print_grid=False, vertical_spacing=0.2, horizontal_spacing=0.05, \n",
    "                    column_widths=column_widths, row_heights=row_heights, shared_yaxes=True, subplot_titles=subplot_titles)\n",
    "\n",
    "# Right / Left saccades\n",
    "# ---------------------\n",
    "for sd_num, sd in enumerate(sds):\n",
    "    # plot\n",
    "    fig.append_trace(go.Bar(y=analysis_crit, x=df_all.loc[(df_all.saccade_direction == sd_num+1)][analysis_crit_df].sum(), \n",
    "                            orientation='h', name=sd, marker_color=sd_cols[sd_num]),row=1, col=1)\n",
    "    # legend\n",
    "    fig.add_annotation(xref='paper', yref='paper', x=x_legend, y=y_legend_sd-y_legend_step*sd_num, \n",
    "                       text=sd, showarrow=False, font_size = template_specs['axes_font_size'],xanchor = 'left', yanchor='middle')\n",
    "    fig.add_shape(type='rect',xref='paper', yref='paper', fillcolor=sd_cols[sd_num],line_width=0,\n",
    "                  x0=x_legend-0.05-rad_leg/2, y0=y_legend_sd-y_legend_step*sd_num-rad_leg/2, \n",
    "                  x1=x_legend-0.05+rad_leg/2, y1=y_legend_sd-y_legend_step*sd_num+rad_leg/2)\n",
    "    \n",
    "# annotation value\n",
    "for num_crit, crit_name in enumerate(analysis_crit_df):\n",
    "    fig.add_annotation(x=df_all[crit_name].sum(), y=num_crit, text='<i>{:1.0f} %<i>'.format(df_all[crit_name].mean()*100), \n",
    "                       showarrow=False, font_size = template_specs['axes_font_size'],xanchor = 'left', row=1, col=1)\n",
    "\n",
    "# Trials sequence\n",
    "# ---------------\n",
    "for ts_num, ts in enumerate(tss):\n",
    "    # plot\n",
    "    fig.append_trace(go.Bar(y=analysis_crit, x=df_all.loc[(df_all.trial_sequence == ts_num+1)][analysis_crit_df].sum(), \n",
    "                            orientation='h', name=ts, marker_color=ts_cols[ts_num]),row=2, col=1)\n",
    "    # legend\n",
    "    fig.add_annotation(xref='paper', yref='paper', x=x_legend, y=y_legend_ts-(y_legend_step*ts_num), \n",
    "                       text=ts, showarrow=False, font_size = template_specs['axes_font_size'], xanchor = 'left', yanchor='middle')\n",
    "    fig.add_shape(type='rect',xref='paper', yref='paper', fillcolor=ts_cols[ts_num],line_width=0,\n",
    "                  x0=x_legend-0.05-rad_leg/2, y0=y_legend_ts-y_legend_step*ts_num-rad_leg/2, \n",
    "                  x1=x_legend-0.05+rad_leg/2, y1=y_legend_ts-y_legend_step*ts_num+rad_leg/2)\n",
    "\n",
    "for num_crit, crit_name in enumerate(analysis_crit_df):\n",
    "    fig.add_annotation(x=df_all[crit_name].sum(), y=num_crit, text='<i>{:1.0f} %<i>'.format(df_all[crit_name].mean()*100), \n",
    "                       showarrow=False, font_size = template_specs['axes_font_size'],xanchor = 'left', row=2, col=1)\n",
    "\n",
    "\n",
    "# axes settings\n",
    "for row in np.arange(rows):\n",
    "    for col in np.arange(cols):\n",
    "        fig.update_xaxes(visible=True, ticklen=8, linewidth=template_specs['axes_width'], range=x_range, row=row+1, col=col+1)\n",
    "        fig.update_yaxes(visible=True, ticklen=8, linewidth=template_specs['axes_width'], autorange=\"reversed\", row=row+1, col=col+1)\n",
    "    \n",
    "# Save figure\n",
    "fig.layout.update(template=fig_template, width=fig_width, height=fig_height, margin_l=200, margin_r=200, margin_t=50, margin_b=100, barmode='stack', showlegend=False)\n",
    "fig.show()\n",
    "if not os.path.exists(fig_dir):os.mkdir(fig_dir)    \n",
    "fig.write_image('{}/{}_trial_dist.pdf'.format(fig_dir, subject))"
   ]
  },
  {
   "cell_type": "markdown",
   "id": "f5ddc0f5-db49-417e-9f43-0fcc543ab698",
   "metadata": {},
   "source": [
    "#### Saccade parameter graph"
   ]
  },
  {
   "cell_type": "code",
   "execution_count": 144,
   "id": "c5034b6c-68c2-472a-af90-62e767faf903",
   "metadata": {
    "tags": []
   },
   "outputs": [
    {
     "data": {
      "application/vnd.plotly.v1+json": {
       "config": {
        "plotlyServerURL": "https://plot.ly"
       },
       "data": [
        {
         "marker": {
          "color": "rgb(29, 105, 150)"
         },
         "name": "Left saccades",
         "type": "histogram",
         "x": [
          134,
          274,
          369,
          331,
          255,
          215,
          212,
          60,
          70
         ],
         "xaxis": "x",
         "xbins": {
          "size": 20
         },
         "yaxis": "y"
        },
        {
         "marker": {
          "color": "rgb(29, 105, 150)"
         },
         "name": "Left saccades",
         "type": "histogram",
         "x": [
          6.744394536212799,
          5.736495092674658,
          4.832265391676897,
          2.199195575501998,
          4.370162048651341,
          3.2911471384474016,
          3.794376103191648,
          2.702765092379852,
          3.8029259188722095
         ],
         "xaxis": "x2",
         "xbins": {
          "size": 0.25
         },
         "yaxis": "y2"
        },
        {
         "marker": {
          "color": "rgb(29, 105, 150)"
         },
         "name": "Left saccades",
         "type": "histogram",
         "x": [
          492.25649770208975,
          297.18596849061504,
          354.59825902962774,
          160.9622783856298,
          243.7917108515611,
          247.4887892751024,
          232.70634503299755,
          223.00629583568107,
          298.6255615725206
         ],
         "xaxis": "x3",
         "xbins": {
          "size": 25
         },
         "yaxis": "y3"
        },
        {
         "line": {
          "width": 0
         },
         "marker": {
          "color": "rgb(29, 105, 150)"
         },
         "mode": "markers",
         "name": "Left saccades",
         "opacity": 0.5,
         "type": "scatter",
         "x": [
          6.744394536212799,
          5.736495092674658,
          4.832265391676897,
          2.199195575501998,
          4.370162048651341,
          3.2911471384474016,
          3.794376103191648,
          2.702765092379852,
          3.8029259188722095
         ],
         "xaxis": "x4",
         "y": [
          492.25649770208975,
          297.18596849061504,
          354.59825902962774,
          160.9622783856298,
          243.7917108515611,
          247.4887892751024,
          232.70634503299755,
          223.00629583568107,
          298.6255615725206
         ],
         "yaxis": "y4"
        },
        {
         "marker": {
          "color": "rgb(204, 80, 62)"
         },
         "name": "Right saccades",
         "type": "histogram",
         "x": [
          176,
          93,
          81,
          296,
          229,
          275
         ],
         "xaxis": "x",
         "xbins": {
          "size": 20
         },
         "yaxis": "y"
        },
        {
         "marker": {
          "color": "rgb(204, 80, 62)"
         },
         "name": "Right saccades",
         "type": "histogram",
         "x": [
          5.96533276630688,
          3.6187715238251097,
          5.540619864648193,
          2.803056736557111,
          4.089805715939156,
          0.8611148245446801
         ],
         "xaxis": "x2",
         "xbins": {
          "size": 0.25
         },
         "yaxis": "y2"
        },
        {
         "marker": {
          "color": "rgb(204, 80, 62)"
         },
         "name": "Right saccades",
         "type": "histogram",
         "x": [
          423.9921588033857,
          319.98115507343044,
          288.4523576500824,
          210.6958406055184,
          273.960217350364,
          102.1738513016001
         ],
         "xaxis": "x3",
         "xbins": {
          "size": 25
         },
         "yaxis": "y3"
        },
        {
         "line": {
          "width": 0
         },
         "marker": {
          "color": "rgb(204, 80, 62)"
         },
         "mode": "markers",
         "name": "Right saccades",
         "opacity": 0.5,
         "type": "scatter",
         "x": [
          5.96533276630688,
          3.6187715238251097,
          5.540619864648193,
          2.803056736557111,
          4.089805715939156,
          0.8611148245446801
         ],
         "xaxis": "x4",
         "y": [
          423.9921588033857,
          319.98115507343044,
          288.4523576500824,
          210.6958406055184,
          273.960217350364,
          102.1738513016001
         ],
         "yaxis": "y4"
        },
        {
         "marker": {
          "color": "rgb(95, 70, 144)"
         },
         "name": "Steady 1",
         "type": "histogram",
         "x": [
          369
         ],
         "xaxis": "x5",
         "xbins": {
          "size": 20
         },
         "yaxis": "y5"
        },
        {
         "marker": {
          "color": "rgb(95, 70, 144)"
         },
         "name": "Steady 1",
         "type": "histogram",
         "x": [
          4.832265391676897
         ],
         "xaxis": "x6",
         "xbins": {
          "size": 0.25
         },
         "yaxis": "y6"
        },
        {
         "marker": {
          "color": "rgb(95, 70, 144)"
         },
         "name": "Steady 1",
         "type": "histogram",
         "x": [
          354.59825902962774
         ],
         "xaxis": "x7",
         "xbins": {
          "size": 25
         },
         "yaxis": "y7"
        },
        {
         "line": {
          "width": 0
         },
         "marker": {
          "color": "rgb(95, 70, 144)"
         },
         "mode": "markers",
         "name": "Steady 1",
         "opacity": 0.5,
         "type": "scatter",
         "x": [
          4.832265391676897
         ],
         "xaxis": "x8",
         "y": [
          354.59825902962774
         ],
         "yaxis": "y8"
        },
        {
         "marker": {
          "color": "rgb(56, 166, 165)"
         },
         "name": "Steady 2",
         "type": "histogram",
         "x": [
          215,
          296,
          229
         ],
         "xaxis": "x5",
         "xbins": {
          "size": 20
         },
         "yaxis": "y5"
        },
        {
         "marker": {
          "color": "rgb(56, 166, 165)"
         },
         "name": "Steady 2",
         "type": "histogram",
         "x": [
          3.2911471384474016,
          2.803056736557111,
          4.089805715939156
         ],
         "xaxis": "x6",
         "xbins": {
          "size": 0.25
         },
         "yaxis": "y6"
        },
        {
         "marker": {
          "color": "rgb(56, 166, 165)"
         },
         "name": "Steady 2",
         "type": "histogram",
         "x": [
          247.4887892751024,
          210.6958406055184,
          273.960217350364
         ],
         "xaxis": "x7",
         "xbins": {
          "size": 25
         },
         "yaxis": "y7"
        },
        {
         "line": {
          "width": 0
         },
         "marker": {
          "color": "rgb(56, 166, 165)"
         },
         "mode": "markers",
         "name": "Steady 2",
         "opacity": 0.5,
         "type": "scatter",
         "x": [
          3.2911471384474016,
          2.803056736557111,
          4.089805715939156
         ],
         "xaxis": "x8",
         "y": [
          247.4887892751024,
          210.6958406055184,
          273.960217350364
         ],
         "yaxis": "y8"
        },
        {
         "marker": {
          "color": "rgb(15, 133, 84)"
         },
         "name": "Steady 3",
         "type": "histogram",
         "x": [
          134,
          93,
          274,
          212,
          60,
          275
         ],
         "xaxis": "x5",
         "xbins": {
          "size": 20
         },
         "yaxis": "y5"
        },
        {
         "marker": {
          "color": "rgb(15, 133, 84)"
         },
         "name": "Steady 3",
         "type": "histogram",
         "x": [
          6.744394536212799,
          3.6187715238251097,
          5.736495092674658,
          3.794376103191648,
          2.702765092379852,
          0.8611148245446801
         ],
         "xaxis": "x6",
         "xbins": {
          "size": 0.25
         },
         "yaxis": "y6"
        },
        {
         "marker": {
          "color": "rgb(15, 133, 84)"
         },
         "name": "Steady 3",
         "type": "histogram",
         "x": [
          492.25649770208975,
          319.98115507343044,
          297.18596849061504,
          232.70634503299755,
          223.00629583568107,
          102.1738513016001
         ],
         "xaxis": "x7",
         "xbins": {
          "size": 25
         },
         "yaxis": "y7"
        },
        {
         "line": {
          "width": 0
         },
         "marker": {
          "color": "rgb(15, 133, 84)"
         },
         "mode": "markers",
         "name": "Steady 3",
         "opacity": 0.5,
         "type": "scatter",
         "x": [
          6.744394536212799,
          3.6187715238251097,
          5.736495092674658,
          3.794376103191648,
          2.702765092379852,
          0.8611148245446801
         ],
         "xaxis": "x8",
         "y": [
          492.25649770208975,
          319.98115507343044,
          297.18596849061504,
          232.70634503299755,
          223.00629583568107,
          102.1738513016001
         ],
         "yaxis": "y8"
        },
        {
         "marker": {
          "color": "rgb(115, 175, 72)"
         },
         "name": "Steady 4",
         "type": "histogram",
         "x": [],
         "xaxis": "x5",
         "xbins": {
          "size": 20
         },
         "yaxis": "y5"
        },
        {
         "marker": {
          "color": "rgb(115, 175, 72)"
         },
         "name": "Steady 4",
         "type": "histogram",
         "x": [],
         "xaxis": "x6",
         "xbins": {
          "size": 0.25
         },
         "yaxis": "y6"
        },
        {
         "marker": {
          "color": "rgb(115, 175, 72)"
         },
         "name": "Steady 4",
         "type": "histogram",
         "x": [],
         "xaxis": "x7",
         "xbins": {
          "size": 25
         },
         "yaxis": "y7"
        },
        {
         "line": {
          "width": 0
         },
         "marker": {
          "color": "rgb(115, 175, 72)"
         },
         "mode": "markers",
         "name": "Steady 4",
         "opacity": 0.5,
         "type": "scatter",
         "x": [],
         "xaxis": "x8",
         "y": [],
         "yaxis": "y8"
        },
        {
         "marker": {
          "color": "rgb(237, 173, 8)"
         },
         "name": "Steady 5",
         "type": "histogram",
         "x": [
          81,
          255,
          70
         ],
         "xaxis": "x5",
         "xbins": {
          "size": 20
         },
         "yaxis": "y5"
        },
        {
         "marker": {
          "color": "rgb(237, 173, 8)"
         },
         "name": "Steady 5",
         "type": "histogram",
         "x": [
          5.540619864648193,
          4.370162048651341,
          3.8029259188722095
         ],
         "xaxis": "x6",
         "xbins": {
          "size": 0.25
         },
         "yaxis": "y6"
        },
        {
         "marker": {
          "color": "rgb(237, 173, 8)"
         },
         "name": "Steady 5",
         "type": "histogram",
         "x": [
          288.4523576500824,
          243.7917108515611,
          298.6255615725206
         ],
         "xaxis": "x7",
         "xbins": {
          "size": 25
         },
         "yaxis": "y7"
        },
        {
         "line": {
          "width": 0
         },
         "marker": {
          "color": "rgb(237, 173, 8)"
         },
         "mode": "markers",
         "name": "Steady 5",
         "opacity": 0.5,
         "type": "scatter",
         "x": [
          5.540619864648193,
          4.370162048651341,
          3.8029259188722095
         ],
         "xaxis": "x8",
         "y": [
          288.4523576500824,
          243.7917108515611,
          298.6255615725206
         ],
         "yaxis": "y8"
        },
        {
         "marker": {
          "color": "rgb(225, 124, 5)"
         },
         "name": "Motion 5-4-3 (up)",
         "type": "histogram",
         "x": [
          176,
          331
         ],
         "xaxis": "x5",
         "xbins": {
          "size": 20
         },
         "yaxis": "y5"
        },
        {
         "marker": {
          "color": "rgb(225, 124, 5)"
         },
         "name": "Motion 5-4-3 (up)",
         "type": "histogram",
         "x": [
          5.96533276630688,
          2.199195575501998
         ],
         "xaxis": "x6",
         "xbins": {
          "size": 0.25
         },
         "yaxis": "y6"
        },
        {
         "marker": {
          "color": "rgb(225, 124, 5)"
         },
         "name": "Motion 5-4-3 (up)",
         "type": "histogram",
         "x": [
          423.9921588033857,
          160.9622783856298
         ],
         "xaxis": "x7",
         "xbins": {
          "size": 25
         },
         "yaxis": "y7"
        },
        {
         "line": {
          "width": 0
         },
         "marker": {
          "color": "rgb(225, 124, 5)"
         },
         "mode": "markers",
         "name": "Motion 5-4-3 (up)",
         "opacity": 0.5,
         "type": "scatter",
         "x": [
          5.96533276630688,
          2.199195575501998
         ],
         "xaxis": "x8",
         "y": [
          423.9921588033857,
          160.9622783856298
         ],
         "yaxis": "y8"
        },
        {
         "marker": {
          "color": "rgb(148, 52, 110)"
         },
         "name": "Motion 1-2-3 (down)",
         "type": "histogram",
         "x": [],
         "xaxis": "x5",
         "xbins": {
          "size": 20
         },
         "yaxis": "y5"
        },
        {
         "marker": {
          "color": "rgb(148, 52, 110)"
         },
         "name": "Motion 1-2-3 (down)",
         "type": "histogram",
         "x": [],
         "xaxis": "x6",
         "xbins": {
          "size": 0.25
         },
         "yaxis": "y6"
        },
        {
         "marker": {
          "color": "rgb(148, 52, 110)"
         },
         "name": "Motion 1-2-3 (down)",
         "type": "histogram",
         "x": [],
         "xaxis": "x7",
         "xbins": {
          "size": 25
         },
         "yaxis": "y7"
        },
        {
         "line": {
          "width": 0
         },
         "marker": {
          "color": "rgb(148, 52, 110)"
         },
         "mode": "markers",
         "name": "Motion 1-2-3 (down)",
         "opacity": 0.5,
         "type": "scatter",
         "x": [],
         "xaxis": "x8",
         "y": [],
         "yaxis": "y8"
        }
       ],
       "layout": {
        "annotations": [
         {
          "font": {
           "size": 16
          },
          "showarrow": false,
          "text": "<b>Latency per sac. direction<b>",
          "x": 0.11,
          "xanchor": "center",
          "xref": "paper",
          "y": 1,
          "yanchor": "bottom",
          "yref": "paper"
         },
         {
          "font": {
           "size": 16
          },
          "showarrow": false,
          "text": "<b>Amplitude per sac. direction<b>",
          "x": 0.37,
          "xanchor": "center",
          "xref": "paper",
          "y": 1,
          "yanchor": "bottom",
          "yref": "paper"
         },
         {
          "font": {
           "size": 16
          },
          "showarrow": false,
          "text": "<b>Velocity per sac. direction<b>",
          "x": 0.63,
          "xanchor": "center",
          "xref": "paper",
          "y": 1,
          "yanchor": "bottom",
          "yref": "paper"
         },
         {
          "font": {
           "size": 16
          },
          "showarrow": false,
          "text": "<b>Main sequence per sac. direction<b>",
          "x": 0.89,
          "xanchor": "center",
          "xref": "paper",
          "y": 1,
          "yanchor": "bottom",
          "yref": "paper"
         },
         {
          "font": {
           "size": 16
          },
          "showarrow": false,
          "text": "<b>Latency per trial seq.<b>",
          "x": 0.11,
          "xanchor": "center",
          "xref": "paper",
          "y": 0.4,
          "yanchor": "bottom",
          "yref": "paper"
         },
         {
          "font": {
           "size": 16
          },
          "showarrow": false,
          "text": "<b>Amplitude per trial seq.<b>",
          "x": 0.37,
          "xanchor": "center",
          "xref": "paper",
          "y": 0.4,
          "yanchor": "bottom",
          "yref": "paper"
         },
         {
          "font": {
           "size": 16
          },
          "showarrow": false,
          "text": "<b>Velocity per trial seq.<b>",
          "x": 0.63,
          "xanchor": "center",
          "xref": "paper",
          "y": 0.4,
          "yanchor": "bottom",
          "yref": "paper"
         },
         {
          "font": {
           "size": 16
          },
          "showarrow": false,
          "text": "<b>Main sequence per trial seq.<b>",
          "x": 0.89,
          "xanchor": "center",
          "xref": "paper",
          "y": 0.4,
          "yanchor": "bottom",
          "yref": "paper"
         },
         {
          "font": {
           "size": 13
          },
          "showarrow": false,
          "text": "Left saccades",
          "x": 1.05,
          "xanchor": "left",
          "xref": "paper",
          "y": 0.97,
          "yanchor": "middle",
          "yref": "paper"
         },
         {
          "font": {
           "size": 13
          },
          "showarrow": false,
          "text": "Right saccades",
          "x": 1.05,
          "xanchor": "left",
          "xref": "paper",
          "y": 0.9099999999999999,
          "yanchor": "middle",
          "yref": "paper"
         },
         {
          "font": {
           "size": 13
          },
          "showarrow": false,
          "text": "Steady 1",
          "x": 1.05,
          "xanchor": "left",
          "xref": "paper",
          "y": 0.36,
          "yanchor": "middle",
          "yref": "paper"
         },
         {
          "font": {
           "size": 13
          },
          "showarrow": false,
          "text": "Steady 2",
          "x": 1.05,
          "xanchor": "left",
          "xref": "paper",
          "y": 0.3,
          "yanchor": "middle",
          "yref": "paper"
         },
         {
          "font": {
           "size": 13
          },
          "showarrow": false,
          "text": "Steady 3",
          "x": 1.05,
          "xanchor": "left",
          "xref": "paper",
          "y": 0.24,
          "yanchor": "middle",
          "yref": "paper"
         },
         {
          "font": {
           "size": 13
          },
          "showarrow": false,
          "text": "Steady 4",
          "x": 1.05,
          "xanchor": "left",
          "xref": "paper",
          "y": 0.18,
          "yanchor": "middle",
          "yref": "paper"
         },
         {
          "font": {
           "size": 13
          },
          "showarrow": false,
          "text": "Steady 5",
          "x": 1.05,
          "xanchor": "left",
          "xref": "paper",
          "y": 0.12,
          "yanchor": "middle",
          "yref": "paper"
         },
         {
          "font": {
           "size": 13
          },
          "showarrow": false,
          "text": "Motion 5-4-3 (up)",
          "x": 1.05,
          "xanchor": "left",
          "xref": "paper",
          "y": 0.06,
          "yanchor": "middle",
          "yref": "paper"
         },
         {
          "font": {
           "size": 13
          },
          "showarrow": false,
          "text": "Motion 1-2-3 (down)",
          "x": 1.05,
          "xanchor": "left",
          "xref": "paper",
          "y": 0,
          "yanchor": "middle",
          "yref": "paper"
         }
        ],
        "barmode": "stack",
        "height": 600,
        "margin": {
         "b": 100,
         "l": 50,
         "r": 200,
         "t": 50
        },
        "shapes": [
         {
          "fillcolor": "rgb(29, 105, 150)",
          "line": {
           "width": 0
          },
          "type": "rect",
          "x0": 1.0333333333333334,
          "x1": 1.0466666666666666,
          "xref": "paper",
          "y0": 0.95,
          "y1": 0.99,
          "yref": "paper"
         },
         {
          "fillcolor": "rgb(204, 80, 62)",
          "line": {
           "width": 0
          },
          "type": "rect",
          "x0": 1.0333333333333334,
          "x1": 1.0466666666666666,
          "xref": "paper",
          "y0": 0.8899999999999999,
          "y1": 0.9299999999999999,
          "yref": "paper"
         },
         {
          "fillcolor": "rgb(95, 70, 144)",
          "line": {
           "width": 0
          },
          "type": "rect",
          "x0": 1.0333333333333334,
          "x1": 1.0466666666666666,
          "xref": "paper",
          "y0": 0.33999999999999997,
          "y1": 0.38,
          "yref": "paper"
         },
         {
          "fillcolor": "rgb(56, 166, 165)",
          "line": {
           "width": 0
          },
          "type": "rect",
          "x0": 1.0333333333333334,
          "x1": 1.0466666666666666,
          "xref": "paper",
          "y0": 0.27999999999999997,
          "y1": 0.32,
          "yref": "paper"
         },
         {
          "fillcolor": "rgb(15, 133, 84)",
          "line": {
           "width": 0
          },
          "type": "rect",
          "x0": 1.0333333333333334,
          "x1": 1.0466666666666666,
          "xref": "paper",
          "y0": 0.22,
          "y1": 0.26,
          "yref": "paper"
         },
         {
          "fillcolor": "rgb(115, 175, 72)",
          "line": {
           "width": 0
          },
          "type": "rect",
          "x0": 1.0333333333333334,
          "x1": 1.0466666666666666,
          "xref": "paper",
          "y0": 0.16,
          "y1": 0.19999999999999998,
          "yref": "paper"
         },
         {
          "fillcolor": "rgb(237, 173, 8)",
          "line": {
           "width": 0
          },
          "type": "rect",
          "x0": 1.0333333333333334,
          "x1": 1.0466666666666666,
          "xref": "paper",
          "y0": 0.09999999999999999,
          "y1": 0.13999999999999999,
          "yref": "paper"
         },
         {
          "fillcolor": "rgb(225, 124, 5)",
          "line": {
           "width": 0
          },
          "type": "rect",
          "x0": 1.0333333333333334,
          "x1": 1.0466666666666666,
          "xref": "paper",
          "y0": 0.039999999999999994,
          "y1": 0.08,
          "yref": "paper"
         },
         {
          "fillcolor": "rgb(148, 52, 110)",
          "line": {
           "width": 0
          },
          "type": "rect",
          "x0": 1.0333333333333334,
          "x1": 1.0466666666666666,
          "xref": "paper",
          "y0": -0.02,
          "y1": 0.02,
          "yref": "paper"
         }
        ],
        "showlegend": false,
        "template": {
         "data": {
          "barpolar": [
           {
            "marker": {
             "line": {
              "color": "rgba(0, 0, 0, 1)",
              "width": 1.5
             }
            },
            "showlegend": false,
            "thetaunit": "radians",
            "type": "barpolar"
           }
          ],
          "pie": [
           {
            "direction": "clockwise",
            "hole": 0.4,
            "marker": {
             "line": {
              "color": [
               "rgba(0, 0, 0, 1)",
               "rgba(255,255,255,0)"
              ],
              "width": [
               1.5,
               0
              ]
             }
            },
            "rotation": 0,
            "showlegend": false,
            "sort": false,
            "textposition": [
             "inside",
             "none"
            ],
            "type": "pie"
           }
          ],
          "violin": [
           {
            "box": {
             "visible": false
            },
            "hoveron": "violins",
            "line": {
             "color": "rgba(0, 0, 0, 1)",
             "width": 1.5
            },
            "marker": {
             "opacity": 0.5,
             "symbol": "x"
            },
            "meanline": {
             "color": "rgba(0, 0, 0, 1)",
             "visible": true,
             "width": 1.5
            },
            "opacity": 1,
            "points": false,
            "showlegend": false,
            "type": "violin",
            "width": 0.8
           }
          ]
         },
         "layout": {
          "annotationdefaults": {
           "font": {
            "color": "rgba(0, 0, 0, 1)",
            "family": "Helvetica",
            "size": 15
           }
          },
          "font": {
           "family": "Helvetica",
           "size": 13
          },
          "plot_bgcolor": "rgba(255, 255, 255, 1)",
          "polar": {
           "angularaxis": {
            "showticklabels": false,
            "ticks": "",
            "visible": false
           },
           "radialaxis": {
            "showticklabels": false,
            "ticks": "",
            "visible": false
           }
          },
          "xaxis": {
           "color": "rgba(0, 0, 0, 1)",
           "hoverformat": ".1f",
           "linewidth": 2,
           "range": [
            0,
            1
           ],
           "showgrid": false,
           "tickfont": {
            "family": "Helvetica",
            "size": 13
           },
           "ticklen": 8,
           "ticks": "outside",
           "tickwidth": 2,
           "title": {
            "font": {
             "family": "Helvetica",
             "size": 15
            }
           },
           "visible": true,
           "zeroline": false,
           "zerolinecolor": "rgba(0, 0, 0, 1)",
           "zerolinewidth": 2
          },
          "yaxis": {
           "color": "rgba(0, 0, 0, 1)",
           "hoverformat": ".1f",
           "linewidth": 2,
           "showgrid": false,
           "tickfont": {
            "family": "Helvetica",
            "size": 13
           },
           "ticklen": 8,
           "ticks": "outside",
           "tickwidth": 2,
           "title": {
            "font": {
             "family": "Helvetica",
             "size": 15
            }
           },
           "visible": true,
           "zeroline": false,
           "zerolinecolor": "rgba(0, 0, 0, 1)",
           "zerolinewidth": 2
          }
         }
        },
        "width": 1600,
        "xaxis": {
         "anchor": "y",
         "domain": [
          0,
          0.22
         ],
         "linewidth": 2,
         "range": [
          -100,
          500
         ],
         "ticklen": 8,
         "title": {
          "text": "Latency (msec)"
         },
         "type": "linear",
         "visible": true
        },
        "xaxis2": {
         "anchor": "y2",
         "domain": [
          0.26,
          0.48
         ],
         "linewidth": 2,
         "range": [
          2,
          10
         ],
         "ticklen": 8,
         "title": {
          "text": "Amplitude (dva)"
         },
         "type": "linear",
         "visible": true
        },
        "xaxis3": {
         "anchor": "y3",
         "domain": [
          0.52,
          0.74
         ],
         "linewidth": 2,
         "range": [
          0,
          600
         ],
         "ticklen": 8,
         "title": {
          "text": "Velocity peak (dva/s)"
         },
         "type": "linear",
         "visible": true
        },
        "xaxis4": {
         "anchor": "y4",
         "domain": [
          0.78,
          1
         ],
         "linewidth": 2,
         "range": [
          2,
          10
         ],
         "ticklen": 8,
         "title": {
          "text": "Amplitude (dva)"
         },
         "type": "linear",
         "visible": true
        },
        "xaxis5": {
         "anchor": "y5",
         "domain": [
          0,
          0.22
         ],
         "linewidth": 2,
         "range": [
          -100,
          500
         ],
         "ticklen": 8,
         "title": {
          "text": "Latency (msec)"
         },
         "type": "linear",
         "visible": true
        },
        "xaxis6": {
         "anchor": "y6",
         "domain": [
          0.26,
          0.48
         ],
         "linewidth": 2,
         "range": [
          2,
          10
         ],
         "ticklen": 8,
         "title": {
          "text": "Amplitude (dva)"
         },
         "type": "linear",
         "visible": true
        },
        "xaxis7": {
         "anchor": "y7",
         "domain": [
          0.52,
          0.74
         ],
         "linewidth": 2,
         "range": [
          0,
          600
         ],
         "ticklen": 8,
         "title": {
          "text": "Velocity peak (dva/s)"
         },
         "type": "linear",
         "visible": true
        },
        "xaxis8": {
         "anchor": "y8",
         "domain": [
          0.78,
          1
         ],
         "linewidth": 2,
         "range": [
          2,
          10
         ],
         "ticklen": 8,
         "title": {
          "text": "Amplitude (dva)"
         },
         "type": "linear",
         "visible": true
        },
        "yaxis": {
         "anchor": "x",
         "domain": [
          0.6000000000000001,
          1
         ],
         "linewidth": 2,
         "range": [
          0,
          300
         ],
         "ticklen": 8,
         "title": {
          "text": "Trials"
         },
         "visible": true
        },
        "yaxis2": {
         "anchor": "x2",
         "domain": [
          0.6000000000000001,
          1
         ],
         "linewidth": 2,
         "range": [
          0,
          300
         ],
         "ticklen": 8,
         "title": {
          "text": "Trials"
         },
         "visible": true
        },
        "yaxis3": {
         "anchor": "x3",
         "domain": [
          0.6000000000000001,
          1
         ],
         "linewidth": 2,
         "range": [
          0,
          300
         ],
         "ticklen": 8,
         "title": {
          "text": "Trials"
         },
         "visible": true
        },
        "yaxis4": {
         "anchor": "x4",
         "domain": [
          0.6000000000000001,
          1
         ],
         "linewidth": 2,
         "range": [
          0,
          600
         ],
         "ticklen": 8,
         "title": {
          "text": "Velocity peak (dva/s)"
         },
         "type": "linear",
         "visible": true
        },
        "yaxis5": {
         "anchor": "x5",
         "domain": [
          0,
          0.4
         ],
         "linewidth": 2,
         "range": [
          0,
          300
         ],
         "ticklen": 8,
         "title": {
          "text": "Trials"
         },
         "visible": true
        },
        "yaxis6": {
         "anchor": "x6",
         "domain": [
          0,
          0.4
         ],
         "linewidth": 2,
         "range": [
          0,
          300
         ],
         "ticklen": 8,
         "title": {
          "text": "Trials"
         },
         "visible": true
        },
        "yaxis7": {
         "anchor": "x7",
         "domain": [
          0,
          0.4
         ],
         "linewidth": 2,
         "range": [
          0,
          300
         ],
         "ticklen": 8,
         "title": {
          "text": "Trials"
         },
         "visible": true
        },
        "yaxis8": {
         "anchor": "x8",
         "domain": [
          0,
          0.4
         ],
         "linewidth": 2,
         "range": [
          0,
          600
         ],
         "ticklen": 8,
         "title": {
          "text": "Velocity peak (dva/s)"
         },
         "type": "linear",
         "visible": true
        }
       }
      },
      "image/png": "[encoded data removed]",
      "text/html": [
       "<div>                            <div id=\"128ac5dd-0f5f-4ab5-a499-f59931317b4d\" class=\"plotly-graph-div\" style=\"height:600px; width:1600px;\"></div>            <script type=\"text/javascript\">                require([\"plotly\"], function(Plotly) {                    window.PLOTLYENV=window.PLOTLYENV || {};                                    if (document.getElementById(\"128ac5dd-0f5f-4ab5-a499-f59931317b4d\")) {                    Plotly.newPlot(                        \"128ac5dd-0f5f-4ab5-a499-f59931317b4d\",                        [{\"marker\":{\"color\":\"rgb(29, 105, 150)\"},\"name\":\"Left saccades\",\"x\":[134.0,274.0,369.0,331.0,255.0,215.0,212.0,60.0,70.0],\"xbins\":{\"size\":20},\"type\":\"histogram\",\"xaxis\":\"x\",\"yaxis\":\"y\"},{\"marker\":{\"color\":\"rgb(29, 105, 150)\"},\"name\":\"Left saccades\",\"x\":[6.744394536212799,5.736495092674658,4.832265391676897,2.199195575501998,4.370162048651341,3.2911471384474016,3.794376103191648,2.702765092379852,3.8029259188722095],\"xbins\":{\"size\":0.25},\"type\":\"histogram\",\"xaxis\":\"x2\",\"yaxis\":\"y2\"},{\"marker\":{\"color\":\"rgb(29, 105, 150)\"},\"name\":\"Left saccades\",\"x\":[492.25649770208975,297.18596849061504,354.59825902962774,160.9622783856298,243.7917108515611,247.4887892751024,232.70634503299755,223.00629583568107,298.6255615725206],\"xbins\":{\"size\":25},\"type\":\"histogram\",\"xaxis\":\"x3\",\"yaxis\":\"y3\"},{\"line\":{\"width\":0},\"marker\":{\"color\":\"rgb(29, 105, 150)\"},\"mode\":\"markers\",\"name\":\"Left saccades\",\"opacity\":0.5,\"x\":[6.744394536212799,5.736495092674658,4.832265391676897,2.199195575501998,4.370162048651341,3.2911471384474016,3.794376103191648,2.702765092379852,3.8029259188722095],\"y\":[492.25649770208975,297.18596849061504,354.59825902962774,160.9622783856298,243.7917108515611,247.4887892751024,232.70634503299755,223.00629583568107,298.6255615725206],\"type\":\"scatter\",\"xaxis\":\"x4\",\"yaxis\":\"y4\"},{\"marker\":{\"color\":\"rgb(204, 80, 62)\"},\"name\":\"Right saccades\",\"x\":[176.0,93.0,81.0,296.0,229.0,275.0],\"xbins\":{\"size\":20},\"type\":\"histogram\",\"xaxis\":\"x\",\"yaxis\":\"y\"},{\"marker\":{\"color\":\"rgb(204, 80, 62)\"},\"name\":\"Right saccades\",\"x\":[5.96533276630688,3.6187715238251097,5.540619864648193,2.803056736557111,4.089805715939156,0.8611148245446801],\"xbins\":{\"size\":0.25},\"type\":\"histogram\",\"xaxis\":\"x2\",\"yaxis\":\"y2\"},{\"marker\":{\"color\":\"rgb(204, 80, 62)\"},\"name\":\"Right saccades\",\"x\":[423.9921588033857,319.98115507343044,288.4523576500824,210.6958406055184,273.960217350364,102.1738513016001],\"xbins\":{\"size\":25},\"type\":\"histogram\",\"xaxis\":\"x3\",\"yaxis\":\"y3\"},{\"line\":{\"width\":0},\"marker\":{\"color\":\"rgb(204, 80, 62)\"},\"mode\":\"markers\",\"name\":\"Right saccades\",\"opacity\":0.5,\"x\":[5.96533276630688,3.6187715238251097,5.540619864648193,2.803056736557111,4.089805715939156,0.8611148245446801],\"y\":[423.9921588033857,319.98115507343044,288.4523576500824,210.6958406055184,273.960217350364,102.1738513016001],\"type\":\"scatter\",\"xaxis\":\"x4\",\"yaxis\":\"y4\"},{\"marker\":{\"color\":\"rgb(95, 70, 144)\"},\"name\":\"Steady 1\",\"x\":[369.0],\"xbins\":{\"size\":20},\"type\":\"histogram\",\"xaxis\":\"x5\",\"yaxis\":\"y5\"},{\"marker\":{\"color\":\"rgb(95, 70, 144)\"},\"name\":\"Steady 1\",\"x\":[4.832265391676897],\"xbins\":{\"size\":0.25},\"type\":\"histogram\",\"xaxis\":\"x6\",\"yaxis\":\"y6\"},{\"marker\":{\"color\":\"rgb(95, 70, 144)\"},\"name\":\"Steady 1\",\"x\":[354.59825902962774],\"xbins\":{\"size\":25},\"type\":\"histogram\",\"xaxis\":\"x7\",\"yaxis\":\"y7\"},{\"line\":{\"width\":0},\"marker\":{\"color\":\"rgb(95, 70, 144)\"},\"mode\":\"markers\",\"name\":\"Steady 1\",\"opacity\":0.5,\"x\":[4.832265391676897],\"y\":[354.59825902962774],\"type\":\"scatter\",\"xaxis\":\"x8\",\"yaxis\":\"y8\"},{\"marker\":{\"color\":\"rgb(56, 166, 165)\"},\"name\":\"Steady 2\",\"x\":[215.0,296.0,229.0],\"xbins\":{\"size\":20},\"type\":\"histogram\",\"xaxis\":\"x5\",\"yaxis\":\"y5\"},{\"marker\":{\"color\":\"rgb(56, 166, 165)\"},\"name\":\"Steady 2\",\"x\":[3.2911471384474016,2.803056736557111,4.089805715939156],\"xbins\":{\"size\":0.25},\"type\":\"histogram\",\"xaxis\":\"x6\",\"yaxis\":\"y6\"},{\"marker\":{\"color\":\"rgb(56, 166, 165)\"},\"name\":\"Steady 2\",\"x\":[247.4887892751024,210.6958406055184,273.960217350364],\"xbins\":{\"size\":25},\"type\":\"histogram\",\"xaxis\":\"x7\",\"yaxis\":\"y7\"},{\"line\":{\"width\":0},\"marker\":{\"color\":\"rgb(56, 166, 165)\"},\"mode\":\"markers\",\"name\":\"Steady 2\",\"opacity\":0.5,\"x\":[3.2911471384474016,2.803056736557111,4.089805715939156],\"y\":[247.4887892751024,210.6958406055184,273.960217350364],\"type\":\"scatter\",\"xaxis\":\"x8\",\"yaxis\":\"y8\"},{\"marker\":{\"color\":\"rgb(15, 133, 84)\"},\"name\":\"Steady 3\",\"x\":[134.0,93.0,274.0,212.0,60.0,275.0],\"xbins\":{\"size\":20},\"type\":\"histogram\",\"xaxis\":\"x5\",\"yaxis\":\"y5\"},{\"marker\":{\"color\":\"rgb(15, 133, 84)\"},\"name\":\"Steady 3\",\"x\":[6.744394536212799,3.6187715238251097,5.736495092674658,3.794376103191648,2.702765092379852,0.8611148245446801],\"xbins\":{\"size\":0.25},\"type\":\"histogram\",\"xaxis\":\"x6\",\"yaxis\":\"y6\"},{\"marker\":{\"color\":\"rgb(15, 133, 84)\"},\"name\":\"Steady 3\",\"x\":[492.25649770208975,319.98115507343044,297.18596849061504,232.70634503299755,223.00629583568107,102.1738513016001],\"xbins\":{\"size\":25},\"type\":\"histogram\",\"xaxis\":\"x7\",\"yaxis\":\"y7\"},{\"line\":{\"width\":0},\"marker\":{\"color\":\"rgb(15, 133, 84)\"},\"mode\":\"markers\",\"name\":\"Steady 3\",\"opacity\":0.5,\"x\":[6.744394536212799,3.6187715238251097,5.736495092674658,3.794376103191648,2.702765092379852,0.8611148245446801],\"y\":[492.25649770208975,319.98115507343044,297.18596849061504,232.70634503299755,223.00629583568107,102.1738513016001],\"type\":\"scatter\",\"xaxis\":\"x8\",\"yaxis\":\"y8\"},{\"marker\":{\"color\":\"rgb(115, 175, 72)\"},\"name\":\"Steady 4\",\"x\":[],\"xbins\":{\"size\":20},\"type\":\"histogram\",\"xaxis\":\"x5\",\"yaxis\":\"y5\"},{\"marker\":{\"color\":\"rgb(115, 175, 72)\"},\"name\":\"Steady 4\",\"x\":[],\"xbins\":{\"size\":0.25},\"type\":\"histogram\",\"xaxis\":\"x6\",\"yaxis\":\"y6\"},{\"marker\":{\"color\":\"rgb(115, 175, 72)\"},\"name\":\"Steady 4\",\"x\":[],\"xbins\":{\"size\":25},\"type\":\"histogram\",\"xaxis\":\"x7\",\"yaxis\":\"y7\"},{\"line\":{\"width\":0},\"marker\":{\"color\":\"rgb(115, 175, 72)\"},\"mode\":\"markers\",\"name\":\"Steady 4\",\"opacity\":0.5,\"x\":[],\"y\":[],\"type\":\"scatter\",\"xaxis\":\"x8\",\"yaxis\":\"y8\"},{\"marker\":{\"color\":\"rgb(237, 173, 8)\"},\"name\":\"Steady 5\",\"x\":[81.0,255.0,70.0],\"xbins\":{\"size\":20},\"type\":\"histogram\",\"xaxis\":\"x5\",\"yaxis\":\"y5\"},{\"marker\":{\"color\":\"rgb(237, 173, 8)\"},\"name\":\"Steady 5\",\"x\":[5.540619864648193,4.370162048651341,3.8029259188722095],\"xbins\":{\"size\":0.25},\"type\":\"histogram\",\"xaxis\":\"x6\",\"yaxis\":\"y6\"},{\"marker\":{\"color\":\"rgb(237, 173, 8)\"},\"name\":\"Steady 5\",\"x\":[288.4523576500824,243.7917108515611,298.6255615725206],\"xbins\":{\"size\":25},\"type\":\"histogram\",\"xaxis\":\"x7\",\"yaxis\":\"y7\"},{\"line\":{\"width\":0},\"marker\":{\"color\":\"rgb(237, 173, 8)\"},\"mode\":\"markers\",\"name\":\"Steady 5\",\"opacity\":0.5,\"x\":[5.540619864648193,4.370162048651341,3.8029259188722095],\"y\":[288.4523576500824,243.7917108515611,298.6255615725206],\"type\":\"scatter\",\"xaxis\":\"x8\",\"yaxis\":\"y8\"},{\"marker\":{\"color\":\"rgb(225, 124, 5)\"},\"name\":\"Motion 5-4-3 (up)\",\"x\":[176.0,331.0],\"xbins\":{\"size\":20},\"type\":\"histogram\",\"xaxis\":\"x5\",\"yaxis\":\"y5\"},{\"marker\":{\"color\":\"rgb(225, 124, 5)\"},\"name\":\"Motion 5-4-3 (up)\",\"x\":[5.96533276630688,2.199195575501998],\"xbins\":{\"size\":0.25},\"type\":\"histogram\",\"xaxis\":\"x6\",\"yaxis\":\"y6\"},{\"marker\":{\"color\":\"rgb(225, 124, 5)\"},\"name\":\"Motion 5-4-3 (up)\",\"x\":[423.9921588033857,160.9622783856298],\"xbins\":{\"size\":25},\"type\":\"histogram\",\"xaxis\":\"x7\",\"yaxis\":\"y7\"},{\"line\":{\"width\":0},\"marker\":{\"color\":\"rgb(225, 124, 5)\"},\"mode\":\"markers\",\"name\":\"Motion 5-4-3 (up)\",\"opacity\":0.5,\"x\":[5.96533276630688,2.199195575501998],\"y\":[423.9921588033857,160.9622783856298],\"type\":\"scatter\",\"xaxis\":\"x8\",\"yaxis\":\"y8\"},{\"marker\":{\"color\":\"rgb(148, 52, 110)\"},\"name\":\"Motion 1-2-3 (down)\",\"x\":[],\"xbins\":{\"size\":20},\"type\":\"histogram\",\"xaxis\":\"x5\",\"yaxis\":\"y5\"},{\"marker\":{\"color\":\"rgb(148, 52, 110)\"},\"name\":\"Motion 1-2-3 (down)\",\"x\":[],\"xbins\":{\"size\":0.25},\"type\":\"histogram\",\"xaxis\":\"x6\",\"yaxis\":\"y6\"},{\"marker\":{\"color\":\"rgb(148, 52, 110)\"},\"name\":\"Motion 1-2-3 (down)\",\"x\":[],\"xbins\":{\"size\":25},\"type\":\"histogram\",\"xaxis\":\"x7\",\"yaxis\":\"y7\"},{\"line\":{\"width\":0},\"marker\":{\"color\":\"rgb(148, 52, 110)\"},\"mode\":\"markers\",\"name\":\"Motion 1-2-3 (down)\",\"opacity\":0.5,\"x\":[],\"y\":[],\"type\":\"scatter\",\"xaxis\":\"x8\",\"yaxis\":\"y8\"}],                        {\"template\":{\"data\":{\"barpolar\":[{\"marker\":{\"line\":{\"color\":\"rgba(0,0,0,1)\",\"width\":1.5}},\"showlegend\":false,\"thetaunit\":\"radians\",\"type\":\"barpolar\"}],\"pie\":[{\"direction\":\"clockwise\",\"hole\":0.4,\"marker\":{\"line\":{\"color\":[\"rgba(0,0,0,1)\",\"rgba(255,255,255,0)\"],\"width\":[1.5,0]}},\"rotation\":0,\"showlegend\":false,\"sort\":false,\"textposition\":[\"inside\",\"none\"],\"type\":\"pie\"}],\"violin\":[{\"box\":{\"visible\":false},\"hoveron\":\"violins\",\"line\":{\"color\":\"rgba(0, 0, 0, 1)\",\"width\":1.5},\"marker\":{\"opacity\":0.5,\"symbol\":\"x\"},\"meanline\":{\"color\":\"rgba(0, 0, 0, 1)\",\"visible\":true,\"width\":1.5},\"opacity\":1,\"points\":false,\"showlegend\":false,\"width\":0.8,\"type\":\"violin\"}]},\"layout\":{\"annotationdefaults\":{\"font\":{\"color\":\"rgba(0, 0, 0, 1)\",\"family\":\"Helvetica\",\"size\":15}},\"font\":{\"family\":\"Helvetica\",\"size\":13},\"plot_bgcolor\":\"rgba(255, 255, 255, 1)\",\"polar\":{\"angularaxis\":{\"showticklabels\":false,\"ticks\":\"\",\"visible\":false},\"radialaxis\":{\"showticklabels\":false,\"ticks\":\"\",\"visible\":false}},\"xaxis\":{\"color\":\"rgba(0, 0, 0, 1)\",\"hoverformat\":\".1f\",\"linewidth\":2,\"range\":[0,1],\"showgrid\":false,\"tickfont\":{\"family\":\"Helvetica\",\"size\":13},\"ticklen\":8,\"ticks\":\"outside\",\"tickwidth\":2,\"title\":{\"font\":{\"family\":\"Helvetica\",\"size\":15}},\"visible\":true,\"zeroline\":false,\"zerolinecolor\":\"rgba(0, 0, 0, 1)\",\"zerolinewidth\":2},\"yaxis\":{\"color\":\"rgba(0, 0, 0, 1)\",\"hoverformat\":\".1f\",\"linewidth\":2,\"showgrid\":false,\"tickfont\":{\"family\":\"Helvetica\",\"size\":13},\"ticklen\":8,\"ticks\":\"outside\",\"tickwidth\":2,\"title\":{\"font\":{\"family\":\"Helvetica\",\"size\":15}},\"visible\":true,\"zeroline\":false,\"zerolinecolor\":\"rgba(0, 0, 0, 1)\",\"zerolinewidth\":2}}},\"xaxis\":{\"anchor\":\"y\",\"domain\":[0.0,0.22],\"visible\":true,\"ticklen\":8,\"linewidth\":2,\"range\":[-100,500],\"title\":{\"text\":\"Latency (msec)\"}},\"yaxis\":{\"anchor\":\"x\",\"domain\":[0.6000000000000001,1.0],\"visible\":true,\"ticklen\":8,\"linewidth\":2,\"range\":[0,300],\"title\":{\"text\":\"Trials\"}},\"xaxis2\":{\"anchor\":\"y2\",\"domain\":[0.26,0.48],\"visible\":true,\"ticklen\":8,\"linewidth\":2,\"range\":[2,10],\"title\":{\"text\":\"Amplitude (dva)\"}},\"yaxis2\":{\"anchor\":\"x2\",\"domain\":[0.6000000000000001,1.0],\"visible\":true,\"ticklen\":8,\"linewidth\":2,\"range\":[0,300],\"title\":{\"text\":\"Trials\"}},\"xaxis3\":{\"anchor\":\"y3\",\"domain\":[0.52,0.74],\"visible\":true,\"ticklen\":8,\"linewidth\":2,\"range\":[0,600],\"title\":{\"text\":\"Velocity peak (dva/s)\"}},\"yaxis3\":{\"anchor\":\"x3\",\"domain\":[0.6000000000000001,1.0],\"visible\":true,\"ticklen\":8,\"linewidth\":2,\"range\":[0,300],\"title\":{\"text\":\"Trials\"}},\"xaxis4\":{\"anchor\":\"y4\",\"domain\":[0.78,1.0],\"visible\":true,\"ticklen\":8,\"linewidth\":2,\"range\":[2,10],\"title\":{\"text\":\"Amplitude (dva)\"}},\"yaxis4\":{\"anchor\":\"x4\",\"domain\":[0.6000000000000001,1.0],\"visible\":true,\"ticklen\":8,\"linewidth\":2,\"range\":[0,600],\"title\":{\"text\":\"Velocity peak (dva/s)\"}},\"xaxis5\":{\"anchor\":\"y5\",\"domain\":[0.0,0.22],\"visible\":true,\"ticklen\":8,\"linewidth\":2,\"range\":[-100,500],\"title\":{\"text\":\"Latency (msec)\"}},\"yaxis5\":{\"anchor\":\"x5\",\"domain\":[0.0,0.4],\"visible\":true,\"ticklen\":8,\"linewidth\":2,\"range\":[0,300],\"title\":{\"text\":\"Trials\"}},\"xaxis6\":{\"anchor\":\"y6\",\"domain\":[0.26,0.48],\"visible\":true,\"ticklen\":8,\"linewidth\":2,\"range\":[2,10],\"title\":{\"text\":\"Amplitude (dva)\"}},\"yaxis6\":{\"anchor\":\"x6\",\"domain\":[0.0,0.4],\"visible\":true,\"ticklen\":8,\"linewidth\":2,\"range\":[0,300],\"title\":{\"text\":\"Trials\"}},\"xaxis7\":{\"anchor\":\"y7\",\"domain\":[0.52,0.74],\"visible\":true,\"ticklen\":8,\"linewidth\":2,\"range\":[0,600],\"title\":{\"text\":\"Velocity peak (dva/s)\"}},\"yaxis7\":{\"anchor\":\"x7\",\"domain\":[0.0,0.4],\"visible\":true,\"ticklen\":8,\"linewidth\":2,\"range\":[0,300],\"title\":{\"text\":\"Trials\"}},\"xaxis8\":{\"anchor\":\"y8\",\"domain\":[0.78,1.0],\"visible\":true,\"ticklen\":8,\"linewidth\":2,\"range\":[2,10],\"title\":{\"text\":\"Amplitude (dva)\"}},\"yaxis8\":{\"anchor\":\"x8\",\"domain\":[0.0,0.4],\"visible\":true,\"ticklen\":8,\"linewidth\":2,\"range\":[0,600],\"title\":{\"text\":\"Velocity peak (dva/s)\"}},\"annotations\":[{\"font\":{\"size\":16},\"showarrow\":false,\"text\":\"<b>Latency per sac. direction<b>\",\"x\":0.11,\"xanchor\":\"center\",\"xref\":\"paper\",\"y\":1.0,\"yanchor\":\"bottom\",\"yref\":\"paper\"},{\"font\":{\"size\":16},\"showarrow\":false,\"text\":\"<b>Amplitude per sac. direction<b>\",\"x\":0.37,\"xanchor\":\"center\",\"xref\":\"paper\",\"y\":1.0,\"yanchor\":\"bottom\",\"yref\":\"paper\"},{\"font\":{\"size\":16},\"showarrow\":false,\"text\":\"<b>Velocity per sac. direction<b>\",\"x\":0.63,\"xanchor\":\"center\",\"xref\":\"paper\",\"y\":1.0,\"yanchor\":\"bottom\",\"yref\":\"paper\"},{\"font\":{\"size\":16},\"showarrow\":false,\"text\":\"<b>Main sequence per sac. direction<b>\",\"x\":0.89,\"xanchor\":\"center\",\"xref\":\"paper\",\"y\":1.0,\"yanchor\":\"bottom\",\"yref\":\"paper\"},{\"font\":{\"size\":16},\"showarrow\":false,\"text\":\"<b>Latency per trial seq.<b>\",\"x\":0.11,\"xanchor\":\"center\",\"xref\":\"paper\",\"y\":0.4,\"yanchor\":\"bottom\",\"yref\":\"paper\"},{\"font\":{\"size\":16},\"showarrow\":false,\"text\":\"<b>Amplitude per trial seq.<b>\",\"x\":0.37,\"xanchor\":\"center\",\"xref\":\"paper\",\"y\":0.4,\"yanchor\":\"bottom\",\"yref\":\"paper\"},{\"font\":{\"size\":16},\"showarrow\":false,\"text\":\"<b>Velocity per trial seq.<b>\",\"x\":0.63,\"xanchor\":\"center\",\"xref\":\"paper\",\"y\":0.4,\"yanchor\":\"bottom\",\"yref\":\"paper\"},{\"font\":{\"size\":16},\"showarrow\":false,\"text\":\"<b>Main sequence per trial seq.<b>\",\"x\":0.89,\"xanchor\":\"center\",\"xref\":\"paper\",\"y\":0.4,\"yanchor\":\"bottom\",\"yref\":\"paper\"},{\"font\":{\"size\":13},\"showarrow\":false,\"text\":\"Left saccades\",\"x\":1.05,\"xanchor\":\"left\",\"xref\":\"paper\",\"y\":0.97,\"yanchor\":\"middle\",\"yref\":\"paper\"},{\"font\":{\"size\":13},\"showarrow\":false,\"text\":\"Right saccades\",\"x\":1.05,\"xanchor\":\"left\",\"xref\":\"paper\",\"y\":0.9099999999999999,\"yanchor\":\"middle\",\"yref\":\"paper\"},{\"font\":{\"size\":13},\"showarrow\":false,\"text\":\"Steady 1\",\"x\":1.05,\"xanchor\":\"left\",\"xref\":\"paper\",\"y\":0.36,\"yanchor\":\"middle\",\"yref\":\"paper\"},{\"font\":{\"size\":13},\"showarrow\":false,\"text\":\"Steady 2\",\"x\":1.05,\"xanchor\":\"left\",\"xref\":\"paper\",\"y\":0.3,\"yanchor\":\"middle\",\"yref\":\"paper\"},{\"font\":{\"size\":13},\"showarrow\":false,\"text\":\"Steady 3\",\"x\":1.05,\"xanchor\":\"left\",\"xref\":\"paper\",\"y\":0.24,\"yanchor\":\"middle\",\"yref\":\"paper\"},{\"font\":{\"size\":13},\"showarrow\":false,\"text\":\"Steady 4\",\"x\":1.05,\"xanchor\":\"left\",\"xref\":\"paper\",\"y\":0.18,\"yanchor\":\"middle\",\"yref\":\"paper\"},{\"font\":{\"size\":13},\"showarrow\":false,\"text\":\"Steady 5\",\"x\":1.05,\"xanchor\":\"left\",\"xref\":\"paper\",\"y\":0.12,\"yanchor\":\"middle\",\"yref\":\"paper\"},{\"font\":{\"size\":13},\"showarrow\":false,\"text\":\"Motion 5-4-3 (up)\",\"x\":1.05,\"xanchor\":\"left\",\"xref\":\"paper\",\"y\":0.06,\"yanchor\":\"middle\",\"yref\":\"paper\"},{\"font\":{\"size\":13},\"showarrow\":false,\"text\":\"Motion 1-2-3 (down)\",\"x\":1.05,\"xanchor\":\"left\",\"xref\":\"paper\",\"y\":0.0,\"yanchor\":\"middle\",\"yref\":\"paper\"}],\"shapes\":[{\"fillcolor\":\"rgb(29, 105, 150)\",\"line\":{\"width\":0},\"type\":\"rect\",\"x0\":1.0333333333333334,\"x1\":1.0466666666666666,\"xref\":\"paper\",\"y0\":0.95,\"y1\":0.99,\"yref\":\"paper\"},{\"fillcolor\":\"rgb(204, 80, 62)\",\"line\":{\"width\":0},\"type\":\"rect\",\"x0\":1.0333333333333334,\"x1\":1.0466666666666666,\"xref\":\"paper\",\"y0\":0.8899999999999999,\"y1\":0.9299999999999999,\"yref\":\"paper\"},{\"fillcolor\":\"rgb(95, 70, 144)\",\"line\":{\"width\":0},\"type\":\"rect\",\"x0\":1.0333333333333334,\"x1\":1.0466666666666666,\"xref\":\"paper\",\"y0\":0.33999999999999997,\"y1\":0.38,\"yref\":\"paper\"},{\"fillcolor\":\"rgb(56, 166, 165)\",\"line\":{\"width\":0},\"type\":\"rect\",\"x0\":1.0333333333333334,\"x1\":1.0466666666666666,\"xref\":\"paper\",\"y0\":0.27999999999999997,\"y1\":0.32,\"yref\":\"paper\"},{\"fillcolor\":\"rgb(15, 133, 84)\",\"line\":{\"width\":0},\"type\":\"rect\",\"x0\":1.0333333333333334,\"x1\":1.0466666666666666,\"xref\":\"paper\",\"y0\":0.22,\"y1\":0.26,\"yref\":\"paper\"},{\"fillcolor\":\"rgb(115, 175, 72)\",\"line\":{\"width\":0},\"type\":\"rect\",\"x0\":1.0333333333333334,\"x1\":1.0466666666666666,\"xref\":\"paper\",\"y0\":0.16,\"y1\":0.19999999999999998,\"yref\":\"paper\"},{\"fillcolor\":\"rgb(237, 173, 8)\",\"line\":{\"width\":0},\"type\":\"rect\",\"x0\":1.0333333333333334,\"x1\":1.0466666666666666,\"xref\":\"paper\",\"y0\":0.09999999999999999,\"y1\":0.13999999999999999,\"yref\":\"paper\"},{\"fillcolor\":\"rgb(225, 124, 5)\",\"line\":{\"width\":0},\"type\":\"rect\",\"x0\":1.0333333333333334,\"x1\":1.0466666666666666,\"xref\":\"paper\",\"y0\":0.039999999999999994,\"y1\":0.08,\"yref\":\"paper\"},{\"fillcolor\":\"rgb(148, 52, 110)\",\"line\":{\"width\":0},\"type\":\"rect\",\"x0\":1.0333333333333334,\"x1\":1.0466666666666666,\"xref\":\"paper\",\"y0\":-0.02,\"y1\":0.02,\"yref\":\"paper\"}],\"margin\":{\"l\":50,\"r\":200,\"t\":50,\"b\":100},\"width\":1600,\"height\":600,\"barmode\":\"stack\",\"showlegend\":false},                        {\"responsive\": true}                    ).then(function(){\n",
       "                            \n",
       "var gd = document.getElementById('128ac5dd-0f5f-4ab5-a499-f59931317b4d');\n",
       "var x = new MutationObserver(function (mutations, observer) {{\n",
       "        var display = window.getComputedStyle(gd).display;\n",
       "        if (!display || display === 'none') {{\n",
       "            console.log([gd, 'removed!']);\n",
       "            Plotly.purge(gd);\n",
       "            observer.disconnect();\n",
       "        }}\n",
       "}});\n",
       "\n",
       "// Listen for the removal of the full notebook cells\n",
       "var notebookContainer = gd.closest('#notebook-container');\n",
       "if (notebookContainer) {{\n",
       "    x.observe(notebookContainer, {childList: true});\n",
       "}}\n",
       "\n",
       "// Listen for the clearing of the current output cell\n",
       "var outputEl = gd.closest('.output');\n",
       "if (outputEl) {{\n",
       "    x.observe(outputEl, {childList: true});\n",
       "}}\n",
       "\n",
       "                        })                };                });            </script>        </div>"
      ]
     },
     "metadata": {},
     "output_type": "display_data"
    }
   ],
   "source": [
    "# figure specific settings\n",
    "subplot_titles = ('<b>Latency per sac. direction<b>', '<b>Amplitude per sac. direction<b>', '<b>Velocity per sac. direction<b>', '<b>Main sequence per sac. direction<b>',\n",
    "                  '<b>Latency per trial seq.<b>', '<b>Amplitude per trial seq.<b>', '<b>Velocity per trial seq.<b>', '<b>Main sequence per trial seq.<b>',)\n",
    "# subplot settings\n",
    "rows, cols = 2, 4\n",
    "leg_mergin = 200\n",
    "fig_height, fig_width = 600,350*4+leg_mergin\n",
    "column_widths,row_heights = [1,1,1,1],[1,1]\n",
    "sb_specs = [[{},{},{},{}],[{},{},{},{}]]\n",
    "fig = make_subplots(rows=rows, cols=cols, print_grid=False, vertical_spacing=0.2, horizontal_spacing=0.04, \n",
    "                    column_widths=column_widths, row_heights=row_heights, subplot_titles=subplot_titles)\n",
    "\n",
    "x_legend = 1.05\n",
    "y_legend_step = 0.06\n",
    "y_legend_sd = 0.97\n",
    "y_legend_ts = 0.36\n",
    "rad_leg = 0.04\n",
    "\n",
    "# Right / Left saccades\n",
    "# ---------------------\n",
    "for sd_num, sd in enumerate(sds):\n",
    "    # plot\n",
    "    fig.append_trace(go.Histogram(x=df_all.loc[(df_all.main_sac_trial == 1) & (df_all.saccade_direction == sd_num+1)]['sac_lat_trial'], name=sd, marker_color=sd_cols[sd_num], xbins_size = 20),row=1, col=1)\n",
    "    fig.append_trace(go.Histogram(x=df_all.loc[(df_all.main_sac_trial == 1) & (df_all.saccade_direction == sd_num+1)]['sac_amp_trial'], name=sd, marker_color=sd_cols[sd_num], xbins_size = 0.25),row=1, col=2)\n",
    "    fig.append_trace(go.Histogram(x=df_all.loc[(df_all.main_sac_trial == 1) & (df_all.saccade_direction == sd_num+1)]['sac_vpeak_trial'], name=sd, marker_color=sd_cols[sd_num], xbins_size = 25),row=1, col=3)\n",
    "    fig.append_trace(go.Scatter(x=df_all.loc[(df_all.main_sac_trial == 1) & (df_all.saccade_direction == sd_num+1)]['sac_amp_trial'],\n",
    "                                y=df_all.loc[(df_all.main_sac_trial == 1) & (df_all.saccade_direction == sd_num+1)]['sac_vpeak_trial'],name=sd, mode='markers',marker_color=sd_cols[sd_num],\n",
    "                                line_width=0, opacity=0.5\n",
    "                               ),row=1, col=4)\n",
    "    \n",
    "    # legend\n",
    "    fig.add_annotation(xref='paper', yref='paper', x=x_legend, y=y_legend_sd-y_legend_step*sd_num, \n",
    "                       text=sd, showarrow=False, font_size = template_specs['axes_font_size'],xanchor = 'left', yanchor='middle')\n",
    "    fig.add_shape(type='rect',xref='paper', yref='paper', fillcolor=sd_cols[sd_num],line_width=0,\n",
    "                  x0=x_legend-0.01-rad_leg/6, y0=y_legend_sd-y_legend_step*sd_num-rad_leg/2, \n",
    "                  x1=x_legend-0.01+rad_leg/6, y1=y_legend_sd-y_legend_step*sd_num+rad_leg/2)\n",
    "\n",
    "# Trials sequence\n",
    "# ---------------\n",
    "for ts_num, ts in enumerate(tss):\n",
    "    # plot\n",
    "    fig.append_trace(go.Histogram(x=df_all.loc[(df_all.main_sac_trial == 1) & (df_all.trial_sequence == ts_num+1)]['sac_lat_trial'], name=ts, marker_color=ts_cols[ts_num], xbins_size = 20),row=2, col=1)\n",
    "    fig.append_trace(go.Histogram(x=df_all.loc[(df_all.main_sac_trial == 1) & (df_all.trial_sequence == ts_num+1)]['sac_amp_trial'], name=ts, marker_color=ts_cols[ts_num], xbins_size = 0.25),row=2, col=2)\n",
    "    fig.append_trace(go.Histogram(x=df_all.loc[(df_all.main_sac_trial == 1) & (df_all.trial_sequence == ts_num+1)]['sac_vpeak_trial'], name=ts, marker_color=ts_cols[ts_num], xbins_size = 25),row=2, col=3)\n",
    "    fig.append_trace(go.Scatter(x=df_all.loc[(df_all.main_sac_trial == 1) & (df_all.trial_sequence == ts_num+1)]['sac_amp_trial'],\n",
    "                                y=df_all.loc[(df_all.main_sac_trial == 1) & (df_all.trial_sequence == ts_num+1)]['sac_vpeak_trial'],name=ts, mode='markers',marker_color=ts_cols[ts_num],\n",
    "                                line_width=0, opacity=0.5\n",
    "                               ),row=2, col=4)\n",
    "    \n",
    "    # legend\n",
    "    fig.add_annotation(xref='paper', yref='paper', x=x_legend, y=y_legend_ts-(y_legend_step*ts_num), \n",
    "                       text=ts, showarrow=False, font_size = template_specs['axes_font_size'], xanchor = 'left', yanchor='middle')\n",
    "    fig.add_shape(type='rect',xref='paper', yref='paper', fillcolor=ts_cols[ts_num],line_width=0,\n",
    "                  x0=x_legend-0.01-rad_leg/6, y0=y_legend_ts-y_legend_step*ts_num-rad_leg/2, \n",
    "                  x1=x_legend-0.01+rad_leg/6, y1=y_legend_ts-y_legend_step*ts_num+rad_leg/2)\n",
    "\n",
    "# axes settings\n",
    "for row in np.arange(rows):\n",
    "    for col in np.arange(cols):\n",
    "        fig.update_xaxes(visible=True, ticklen=8, linewidth=template_specs['axes_width'], row=row+1, col=col+1)\n",
    "        fig.update_yaxes(visible=True, ticklen=8, linewidth=template_specs['axes_width'], range=[0,300], title='Trials',row=row+1, col=col+1)\n",
    "\n",
    "fig.layout.update(xaxis_range =[-100,500],  xaxis5_range=[-100,500], \n",
    "                  xaxis2_range=[2,10],   xaxis6_range=[2,10],\n",
    "                  xaxis3_range=[0,600],  xaxis7_range=[0,600],\n",
    "                  xaxis4_range=[2,10],   xaxis8_range=[2,10],\n",
    "                  yaxis4_range=[0,600],  yaxis8_range=[0,600],    \n",
    "                  xaxis_title ='Latency (msec)',        xaxis5_title='Latency (msec)',\n",
    "                  xaxis2_title='Amplitude (dva)',       xaxis6_title='Amplitude (dva)',\n",
    "                  xaxis3_title='Velocity peak (dva/s)', xaxis7_title='Velocity peak (dva/s)',\n",
    "                  xaxis4_title='Amplitude (dva)',       xaxis8_title='Amplitude (dva)',\n",
    "                  yaxis4_title='Velocity peak (dva/s)', yaxis8_title='Velocity peak (dva/s)',\n",
    "                 )\n",
    "    \n",
    "# Save figure\n",
    "fig.layout.update(template=fig_template, width=fig_width, height=fig_height, margin_l=50, margin_r=leg_mergin, margin_t=50, margin_b=100, barmode='stack', showlegend=False)\n",
    "fig.show()\n",
    "if not os.path.exists(fig_dir):os.mkdir(fig_dir)    \n",
    "fig.write_image('{}/{}_saccade_dist.pdf'.format(fig_dir, subject))"
   ]
  },
  {
   "cell_type": "markdown",
   "id": "c8c1f5a3-7ae9-4c05-8287-c4878eccd9c9",
   "metadata": {},
   "source": [
    "#### Saccade coordinates"
   ]
  },
  {
   "cell_type": "code",
   "execution_count": 145,
   "id": "d081a4e9-649d-4bfe-8910-bc9f619ecd56",
   "metadata": {
    "tags": []
   },
   "outputs": [
    {
     "data": {
      "application/vnd.plotly.v1+json": {
       "config": {
        "plotlyServerURL": "https://plot.ly"
       },
       "data": [
        {
         "marker": {
          "color": "rgb(29, 105, 150)",
          "line": {
           "width": 0
          },
          "opacity": 0.3,
          "size": 8,
          "symbol": "circle"
         },
         "mode": "markers",
         "name": "Left saccades",
         "type": "scatter",
         "x": [
          -0.311155104274745,
          1.148845881990883,
          -0.12037982946743275,
          -1.2511524742330697,
          -0.4776914352265578,
          -0.7788447313476512,
          -0.5511491866809743,
          -0.9334570939439926,
          -0.6657707544231819
         ],
         "xaxis": "x",
         "y": [
          4.571527372372356,
          4.421142118443969,
          4.944990055154913,
          4.72883569057939,
          4.616910078447872,
          4.994225300514304,
          4.166528112071577,
          5.0515319749452905,
          4.168458491153634
         ],
         "yaxis": "y"
        },
        {
         "marker": {
          "color": "rgb(29, 105, 150)",
          "line": {
           "width": 0
          },
          "opacity": 0.3,
          "size": 8,
          "symbol": "circle"
         },
         "mode": "markers",
         "name": "Left saccades",
         "type": "scatter",
         "x": [
          -6.174990548287727,
          -3.880760316445281,
          -4.893832649593703,
          -2.857303386878892,
          -4.333838238432265,
          -4.008454217335911,
          -4.251527043617148,
          -3.505375473460906,
          -3.393458080209625
         ],
         "xaxis": "x2",
         "y": [
          2.2176855176327877,
          3.555759083613245,
          4.304606609380178,
          4.185375144705696,
          2.6472982911731444,
          4.374611047575507,
          3.740759658934861,
          4.220764261507796,
          3.8292283414999906
         ],
         "yaxis": "y2"
        },
        {
         "marker": {
          "color": "rgb(204, 80, 62)",
          "line": {
           "width": 0
          },
          "opacity": 0.3,
          "size": 8,
          "symbol": "circle"
         },
         "mode": "markers",
         "name": "Right saccades",
         "type": "scatter",
         "x": [
          0.25692717371876617,
          1.2996139241835896,
          0.9696117872747259,
          1.3907703434791703,
          0.15730831820703434,
          1.2626936543242255
         ],
         "xaxis": "x",
         "y": [
          5.184609568177063,
          4.14653271464451,
          4.359225547080713,
          5.469986356658806,
          4.482684120423148,
          4.098836841222624
         ],
         "yaxis": "y"
        },
        {
         "marker": {
          "color": "rgb(204, 80, 62)",
          "line": {
           "width": 0
          },
          "opacity": 0.3,
          "size": 8,
          "symbol": "circle"
         },
         "mode": "markers",
         "name": "Right saccades",
         "type": "scatter",
         "x": [
          5.220764261507792,
          3.8023016609140443,
          5.088835033068975,
          3.8588427588163965,
          3.69153263245571,
          2.1592304784088543
         ],
         "xaxis": "x2",
         "y": [
          3.588843251949208,
          3.907686997031232,
          2.0607682065703106,
          4.483449696951782,
          3.4269168179296656,
          3.9603755556497084
         ],
         "yaxis": "y2"
        },
        {
         "marker": {
          "color": "rgb(95, 70, 144)",
          "line": {
           "width": 0
          },
          "opacity": 0.3,
          "size": 8,
          "symbol": "circle"
         },
         "mode": "markers",
         "name": "Steady 1",
         "type": "scatter",
         "x": [
          -0.12037982946743275
         ],
         "xaxis": "x3",
         "y": [
          4.944990055154913
         ],
         "yaxis": "y3"
        },
        {
         "marker": {
          "color": "rgb(95, 70, 144)",
          "line": {
           "width": 0
          },
          "opacity": 0.3,
          "size": 8,
          "symbol": "circle"
         },
         "mode": "markers",
         "name": "Steady 1",
         "type": "scatter",
         "x": [
          -4.893832649593703
         ],
         "xaxis": "x4",
         "y": [
          4.304606609380178
         ],
         "yaxis": "y4"
        },
        {
         "marker": {
          "color": "rgb(56, 166, 165)",
          "line": {
           "width": 0
          },
          "opacity": 0.3,
          "size": 8,
          "symbol": "circle"
         },
         "mode": "markers",
         "name": "Steady 2",
         "type": "scatter",
         "x": [
          -0.7788447313476512,
          1.3907703434791703,
          0.15730831820703434
         ],
         "xaxis": "x3",
         "y": [
          4.994225300514304,
          5.469986356658806,
          4.482684120423148
         ],
         "yaxis": "y3"
        },
        {
         "marker": {
          "color": "rgb(56, 166, 165)",
          "line": {
           "width": 0
          },
          "opacity": 0.3,
          "size": 8,
          "symbol": "circle"
         },
         "mode": "markers",
         "name": "Steady 2",
         "type": "scatter",
         "x": [
          -4.008454217335911,
          3.8588427588163965,
          3.69153263245571
         ],
         "xaxis": "x4",
         "y": [
          4.374611047575507,
          4.483449696951782,
          3.4269168179296656
         ],
         "yaxis": "y4"
        },
        {
         "marker": {
          "color": "rgb(15, 133, 84)",
          "line": {
           "width": 0
          },
          "opacity": 0.3,
          "size": 8,
          "symbol": "circle"
         },
         "mode": "markers",
         "name": "Steady 3",
         "type": "scatter",
         "x": [
          -0.311155104274745,
          1.2996139241835896,
          1.148845881990883,
          -0.5511491866809743,
          -0.9334570939439926,
          1.2626936543242255
         ],
         "xaxis": "x3",
         "y": [
          4.571527372372356,
          4.14653271464451,
          4.421142118443969,
          4.166528112071577,
          5.0515319749452905,
          4.098836841222624
         ],
         "yaxis": "y3"
        },
        {
         "marker": {
          "color": "rgb(15, 133, 84)",
          "line": {
           "width": 0
          },
          "opacity": 0.3,
          "size": 8,
          "symbol": "circle"
         },
         "mode": "markers",
         "name": "Steady 3",
         "type": "scatter",
         "x": [
          -6.174990548287727,
          3.8023016609140443,
          -3.880760316445281,
          -4.251527043617148,
          -3.505375473460906,
          2.1592304784088543
         ],
         "xaxis": "x4",
         "y": [
          2.2176855176327877,
          3.907686997031232,
          3.555759083613245,
          3.740759658934861,
          4.220764261507796,
          3.9603755556497084
         ],
         "yaxis": "y4"
        },
        {
         "marker": {
          "color": "rgb(115, 175, 72)",
          "line": {
           "width": 0
          },
          "opacity": 0.3,
          "size": 8,
          "symbol": "circle"
         },
         "mode": "markers",
         "name": "Steady 4",
         "type": "scatter",
         "x": [],
         "xaxis": "x3",
         "y": [],
         "yaxis": "y3"
        },
        {
         "marker": {
          "color": "rgb(115, 175, 72)",
          "line": {
           "width": 0
          },
          "opacity": 0.3,
          "size": 8,
          "symbol": "circle"
         },
         "mode": "markers",
         "name": "Steady 4",
         "type": "scatter",
         "x": [],
         "xaxis": "x4",
         "y": [],
         "yaxis": "y4"
        },
        {
         "marker": {
          "color": "rgb(237, 173, 8)",
          "line": {
           "width": 0
          },
          "opacity": 0.3,
          "size": 8,
          "symbol": "circle"
         },
         "mode": "markers",
         "name": "Steady 5",
         "type": "scatter",
         "x": [
          0.9696117872747259,
          -0.4776914352265578,
          -0.6657707544231819
         ],
         "xaxis": "x3",
         "y": [
          4.359225547080713,
          4.616910078447872,
          4.168458491153634
         ],
         "yaxis": "y3"
        },
        {
         "marker": {
          "color": "rgb(237, 173, 8)",
          "line": {
           "width": 0
          },
          "opacity": 0.3,
          "size": 8,
          "symbol": "circle"
         },
         "mode": "markers",
         "name": "Steady 5",
         "type": "scatter",
         "x": [
          5.088835033068975,
          -4.333838238432265,
          -3.393458080209625
         ],
         "xaxis": "x4",
         "y": [
          2.0607682065703106,
          2.6472982911731444,
          3.8292283414999906
         ],
         "yaxis": "y4"
        },
        {
         "marker": {
          "color": "rgb(225, 124, 5)",
          "line": {
           "width": 0
          },
          "opacity": 0.3,
          "size": 8,
          "symbol": "circle"
         },
         "mode": "markers",
         "name": "Motion 5-4-3 (up)",
         "type": "scatter",
         "x": [
          0.25692717371876617,
          -1.2511524742330697
         ],
         "xaxis": "x3",
         "y": [
          5.184609568177063,
          4.72883569057939
         ],
         "yaxis": "y3"
        },
        {
         "marker": {
          "color": "rgb(225, 124, 5)",
          "line": {
           "width": 0
          },
          "opacity": 0.3,
          "size": 8,
          "symbol": "circle"
         },
         "mode": "markers",
         "name": "Motion 5-4-3 (up)",
         "type": "scatter",
         "x": [
          5.220764261507792,
          -2.857303386878892
         ],
         "xaxis": "x4",
         "y": [
          3.588843251949208,
          4.185375144705696
         ],
         "yaxis": "y4"
        },
        {
         "marker": {
          "color": "rgb(148, 52, 110)",
          "line": {
           "width": 0
          },
          "opacity": 0.3,
          "size": 8,
          "symbol": "circle"
         },
         "mode": "markers",
         "name": "Motion 1-2-3 (down)",
         "type": "scatter",
         "x": [],
         "xaxis": "x3",
         "y": [],
         "yaxis": "y3"
        },
        {
         "marker": {
          "color": "rgb(148, 52, 110)",
          "line": {
           "width": 0
          },
          "opacity": 0.3,
          "size": 8,
          "symbol": "circle"
         },
         "mode": "markers",
         "name": "Motion 1-2-3 (down)",
         "type": "scatter",
         "x": [],
         "xaxis": "x4",
         "y": [],
         "yaxis": "y4"
        }
       ],
       "layout": {
        "annotations": [
         {
          "font": {
           "size": 16
          },
          "showarrow": false,
          "text": "<b>Sac. onset per direction<b>",
          "x": 0.2125,
          "xanchor": "center",
          "xref": "paper",
          "y": 1,
          "yanchor": "bottom",
          "yref": "paper"
         },
         {
          "font": {
           "size": 16
          },
          "showarrow": false,
          "text": "<b>Sac. offset per direction<b>",
          "x": 0.7875,
          "xanchor": "center",
          "xref": "paper",
          "y": 1,
          "yanchor": "bottom",
          "yref": "paper"
         },
         {
          "font": {
           "size": 16
          },
          "showarrow": false,
          "text": "<b>Sac. onset per trial seq.<b>",
          "x": 0.2125,
          "xanchor": "center",
          "xref": "paper",
          "y": 0.4,
          "yanchor": "bottom",
          "yref": "paper"
         },
         {
          "font": {
           "size": 16
          },
          "showarrow": false,
          "text": "<b>Sac. offset per trial seq.<b>",
          "x": 0.7875,
          "xanchor": "center",
          "xref": "paper",
          "y": 0.4,
          "yanchor": "bottom",
          "yref": "paper"
         },
         {
          "font": {
           "size": 13
          },
          "showarrow": false,
          "text": "Left saccades",
          "x": 1.13,
          "xanchor": "left",
          "xref": "paper",
          "y": 0.97,
          "yanchor": "middle",
          "yref": "paper"
         },
         {
          "font": {
           "size": 13
          },
          "showarrow": false,
          "text": "Right saccades",
          "x": 1.13,
          "xanchor": "left",
          "xref": "paper",
          "y": 0.9099999999999999,
          "yanchor": "middle",
          "yref": "paper"
         },
         {
          "font": {
           "size": 13
          },
          "showarrow": false,
          "text": "Steady 1",
          "x": 1.13,
          "xanchor": "left",
          "xref": "paper",
          "y": 0.36,
          "yanchor": "middle",
          "yref": "paper"
         },
         {
          "font": {
           "size": 13
          },
          "showarrow": false,
          "text": "Steady 2",
          "x": 1.13,
          "xanchor": "left",
          "xref": "paper",
          "y": 0.3,
          "yanchor": "middle",
          "yref": "paper"
         },
         {
          "font": {
           "size": 13
          },
          "showarrow": false,
          "text": "Steady 3",
          "x": 1.13,
          "xanchor": "left",
          "xref": "paper",
          "y": 0.24,
          "yanchor": "middle",
          "yref": "paper"
         },
         {
          "font": {
           "size": 13
          },
          "showarrow": false,
          "text": "Steady 4",
          "x": 1.13,
          "xanchor": "left",
          "xref": "paper",
          "y": 0.18,
          "yanchor": "middle",
          "yref": "paper"
         },
         {
          "font": {
           "size": 13
          },
          "showarrow": false,
          "text": "Steady 5",
          "x": 1.13,
          "xanchor": "left",
          "xref": "paper",
          "y": 0.12,
          "yanchor": "middle",
          "yref": "paper"
         },
         {
          "font": {
           "size": 13
          },
          "showarrow": false,
          "text": "Motion 5-4-3 (up)",
          "x": 1.13,
          "xanchor": "left",
          "xref": "paper",
          "y": 0.06,
          "yanchor": "middle",
          "yref": "paper"
         },
         {
          "font": {
           "size": 13
          },
          "showarrow": false,
          "text": "Motion 1-2-3 (down)",
          "x": 1.13,
          "xanchor": "left",
          "xref": "paper",
          "y": 0,
          "yanchor": "middle",
          "yref": "paper"
         }
        ],
        "barmode": "stack",
        "height": 600,
        "margin": {
         "b": 100,
         "l": 50,
         "r": 200,
         "t": 50
        },
        "shapes": [
         {
          "fillcolor": "rgb(29, 105, 150)",
          "line": {
           "width": 0
          },
          "opacity": 0.3,
          "type": "circle",
          "x0": 1.0839999999999999,
          "x1": 1.1159999999999999,
          "xref": "paper",
          "y0": 0.95,
          "y1": 0.99,
          "yref": "paper"
         },
         {
          "fillcolor": "rgb(204, 80, 62)",
          "line": {
           "width": 0
          },
          "opacity": 0.3,
          "type": "circle",
          "x0": 1.0839999999999999,
          "x1": 1.1159999999999999,
          "xref": "paper",
          "y0": 0.8899999999999999,
          "y1": 0.9299999999999999,
          "yref": "paper"
         },
         {
          "opacity": 0.25,
          "type": "line",
          "x0": 0,
          "x1": 1,
          "xref": "x domain",
          "y0": 5,
          "y1": 5,
          "yref": "y"
         },
         {
          "opacity": 0.25,
          "type": "line",
          "x0": 0,
          "x1": 0,
          "xref": "x",
          "y0": 0,
          "y1": 1,
          "yref": "y domain"
         },
         {
          "opacity": 0.25,
          "type": "line",
          "x0": -5,
          "x1": -5,
          "xref": "x2",
          "y0": 0,
          "y1": 1,
          "yref": "y2 domain"
         },
         {
          "opacity": 0.25,
          "type": "line",
          "x0": 5,
          "x1": 5,
          "xref": "x2",
          "y0": 0,
          "y1": 1,
          "yref": "y2 domain"
         },
         {
          "opacity": 0.25,
          "type": "line",
          "x0": 0,
          "x1": 1,
          "xref": "x2 domain",
          "y0": 4,
          "y1": 4,
          "yref": "y2"
         },
         {
          "opacity": 0.25,
          "type": "line",
          "x0": 0,
          "x1": 1,
          "xref": "x2 domain",
          "y0": 3.5,
          "y1": 3.5,
          "yref": "y2"
         },
         {
          "opacity": 0.25,
          "type": "line",
          "x0": 0,
          "x1": 1,
          "xref": "x2 domain",
          "y0": 3,
          "y1": 3,
          "yref": "y2"
         },
         {
          "opacity": 0.25,
          "type": "line",
          "x0": 0,
          "x1": 1,
          "xref": "x2 domain",
          "y0": 2.5,
          "y1": 2.5,
          "yref": "y2"
         },
         {
          "opacity": 0.25,
          "type": "line",
          "x0": 0,
          "x1": 1,
          "xref": "x2 domain",
          "y0": 2,
          "y1": 2,
          "yref": "y2"
         },
         {
          "fillcolor": "rgb(95, 70, 144)",
          "line": {
           "width": 0
          },
          "opacity": 0.3,
          "type": "circle",
          "x0": 1.0839999999999999,
          "x1": 1.1159999999999999,
          "xref": "paper",
          "y0": 0.33999999999999997,
          "y1": 0.38,
          "yref": "paper"
         },
         {
          "fillcolor": "rgb(56, 166, 165)",
          "line": {
           "width": 0
          },
          "opacity": 0.3,
          "type": "circle",
          "x0": 1.0839999999999999,
          "x1": 1.1159999999999999,
          "xref": "paper",
          "y0": 0.27999999999999997,
          "y1": 0.32,
          "yref": "paper"
         },
         {
          "fillcolor": "rgb(15, 133, 84)",
          "line": {
           "width": 0
          },
          "opacity": 0.3,
          "type": "circle",
          "x0": 1.0839999999999999,
          "x1": 1.1159999999999999,
          "xref": "paper",
          "y0": 0.22,
          "y1": 0.26,
          "yref": "paper"
         },
         {
          "fillcolor": "rgb(115, 175, 72)",
          "line": {
           "width": 0
          },
          "opacity": 0.3,
          "type": "circle",
          "x0": 1.0839999999999999,
          "x1": 1.1159999999999999,
          "xref": "paper",
          "y0": 0.16,
          "y1": 0.19999999999999998,
          "yref": "paper"
         },
         {
          "fillcolor": "rgb(237, 173, 8)",
          "line": {
           "width": 0
          },
          "opacity": 0.3,
          "type": "circle",
          "x0": 1.0839999999999999,
          "x1": 1.1159999999999999,
          "xref": "paper",
          "y0": 0.09999999999999999,
          "y1": 0.13999999999999999,
          "yref": "paper"
         },
         {
          "fillcolor": "rgb(225, 124, 5)",
          "line": {
           "width": 0
          },
          "opacity": 0.3,
          "type": "circle",
          "x0": 1.0839999999999999,
          "x1": 1.1159999999999999,
          "xref": "paper",
          "y0": 0.039999999999999994,
          "y1": 0.08,
          "yref": "paper"
         },
         {
          "fillcolor": "rgb(148, 52, 110)",
          "line": {
           "width": 0
          },
          "opacity": 0.3,
          "type": "circle",
          "x0": 1.0839999999999999,
          "x1": 1.1159999999999999,
          "xref": "paper",
          "y0": -0.02,
          "y1": 0.02,
          "yref": "paper"
         },
         {
          "opacity": 0.25,
          "type": "line",
          "x0": 0,
          "x1": 1,
          "xref": "x3 domain",
          "y0": 5,
          "y1": 5,
          "yref": "y3"
         },
         {
          "opacity": 0.25,
          "type": "line",
          "x0": 0,
          "x1": 0,
          "xref": "x3",
          "y0": 0,
          "y1": 1,
          "yref": "y3 domain"
         },
         {
          "opacity": 0.25,
          "type": "line",
          "x0": -5,
          "x1": -5,
          "xref": "x4",
          "y0": 0,
          "y1": 1,
          "yref": "y4 domain"
         },
         {
          "opacity": 0.25,
          "type": "line",
          "x0": 5,
          "x1": 5,
          "xref": "x4",
          "y0": 0,
          "y1": 1,
          "yref": "y4 domain"
         },
         {
          "opacity": 0.25,
          "type": "line",
          "x0": 0,
          "x1": 1,
          "xref": "x4 domain",
          "y0": 4,
          "y1": 4,
          "yref": "y4"
         },
         {
          "opacity": 0.25,
          "type": "line",
          "x0": 0,
          "x1": 1,
          "xref": "x4 domain",
          "y0": 3.5,
          "y1": 3.5,
          "yref": "y4"
         },
         {
          "opacity": 0.25,
          "type": "line",
          "x0": 0,
          "x1": 1,
          "xref": "x4 domain",
          "y0": 3,
          "y1": 3,
          "yref": "y4"
         },
         {
          "opacity": 0.25,
          "type": "line",
          "x0": 0,
          "x1": 1,
          "xref": "x4 domain",
          "y0": 2.5,
          "y1": 2.5,
          "yref": "y4"
         },
         {
          "opacity": 0.25,
          "type": "line",
          "x0": 0,
          "x1": 1,
          "xref": "x4 domain",
          "y0": 2,
          "y1": 2,
          "yref": "y4"
         }
        ],
        "showlegend": false,
        "template": {
         "data": {
          "barpolar": [
           {
            "marker": {
             "line": {
              "color": "rgba(0, 0, 0, 1)",
              "width": 1.5
             }
            },
            "showlegend": false,
            "thetaunit": "radians",
            "type": "barpolar"
           }
          ],
          "pie": [
           {
            "direction": "clockwise",
            "hole": 0.4,
            "marker": {
             "line": {
              "color": [
               "rgba(0, 0, 0, 1)",
               "rgba(255,255,255,0)"
              ],
              "width": [
               1.5,
               0
              ]
             }
            },
            "rotation": 0,
            "showlegend": false,
            "sort": false,
            "textposition": [
             "inside",
             "none"
            ],
            "type": "pie"
           }
          ],
          "violin": [
           {
            "box": {
             "visible": false
            },
            "hoveron": "violins",
            "line": {
             "color": "rgba(0, 0, 0, 1)",
             "width": 1.5
            },
            "marker": {
             "opacity": 0.5,
             "symbol": "x"
            },
            "meanline": {
             "color": "rgba(0, 0, 0, 1)",
             "visible": true,
             "width": 1.5
            },
            "opacity": 1,
            "points": false,
            "showlegend": false,
            "type": "violin",
            "width": 0.8
           }
          ]
         },
         "layout": {
          "annotationdefaults": {
           "font": {
            "color": "rgba(0, 0, 0, 1)",
            "family": "Helvetica",
            "size": 15
           }
          },
          "font": {
           "family": "Helvetica",
           "size": 13
          },
          "plot_bgcolor": "rgba(255, 255, 255, 1)",
          "polar": {
           "angularaxis": {
            "showticklabels": false,
            "ticks": "",
            "visible": false
           },
           "radialaxis": {
            "showticklabels": false,
            "ticks": "",
            "visible": false
           }
          },
          "xaxis": {
           "color": "rgba(0, 0, 0, 1)",
           "hoverformat": ".1f",
           "linewidth": 2,
           "range": [
            0,
            1
           ],
           "showgrid": false,
           "tickfont": {
            "family": "Helvetica",
            "size": 13
           },
           "ticklen": 8,
           "ticks": "outside",
           "tickwidth": 2,
           "title": {
            "font": {
             "family": "Helvetica",
             "size": 15
            }
           },
           "visible": true,
           "zeroline": false,
           "zerolinecolor": "rgba(0, 0, 0, 1)",
           "zerolinewidth": 2
          },
          "yaxis": {
           "color": "rgba(0, 0, 0, 1)",
           "hoverformat": ".1f",
           "linewidth": 2,
           "showgrid": false,
           "tickfont": {
            "family": "Helvetica",
            "size": 13
           },
           "ticklen": 8,
           "ticks": "outside",
           "tickwidth": 2,
           "title": {
            "font": {
             "family": "Helvetica",
             "size": 15
            }
           },
           "visible": true,
           "zeroline": false,
           "zerolinecolor": "rgba(0, 0, 0, 1)",
           "zerolinewidth": 2
          }
         }
        },
        "width": 800,
        "xaxis": {
         "anchor": "y",
         "domain": [
          0,
          0.425
         ],
         "linewidth": 2,
         "range": [
          -10,
          10
         ],
         "ticklen": 8,
         "title": {
          "text": "X coordinates (dva)"
         },
         "type": "linear",
         "visible": true
        },
        "xaxis2": {
         "anchor": "y2",
         "domain": [
          0.575,
          1
         ],
         "linewidth": 2,
         "range": [
          -10,
          10
         ],
         "ticklen": 8,
         "title": {
          "text": "X coordinates (dva)"
         },
         "type": "linear",
         "visible": true
        },
        "xaxis3": {
         "anchor": "y3",
         "domain": [
          0,
          0.425
         ],
         "linewidth": 2,
         "range": [
          -10,
          10
         ],
         "ticklen": 8,
         "title": {
          "text": "X coordinates (dva)"
         },
         "type": "linear",
         "visible": true
        },
        "xaxis4": {
         "anchor": "y4",
         "domain": [
          0.575,
          1
         ],
         "linewidth": 2,
         "range": [
          -10,
          10
         ],
         "ticklen": 8,
         "title": {
          "text": "X coordinates (dva)"
         },
         "type": "linear",
         "visible": true
        },
        "yaxis": {
         "anchor": "x",
         "domain": [
          0.6000000000000001,
          1
         ],
         "linewidth": 2,
         "range": [
          -10,
          10
         ],
         "ticklen": 8,
         "title": {
          "text": "Y coordinates (dva)"
         },
         "type": "linear",
         "visible": true
        },
        "yaxis2": {
         "anchor": "x2",
         "domain": [
          0.6000000000000001,
          1
         ],
         "linewidth": 2,
         "range": [
          -10,
          10
         ],
         "ticklen": 8,
         "title": {
          "text": "Y coordinates (dva)"
         },
         "type": "linear",
         "visible": true
        },
        "yaxis3": {
         "anchor": "x3",
         "domain": [
          0,
          0.4
         ],
         "linewidth": 2,
         "range": [
          -10,
          10
         ],
         "ticklen": 8,
         "title": {
          "text": "Y coordinates (dva)"
         },
         "type": "linear",
         "visible": true
        },
        "yaxis4": {
         "anchor": "x4",
         "domain": [
          0,
          0.4
         ],
         "linewidth": 2,
         "range": [
          -10,
          10
         ],
         "ticklen": 8,
         "title": {
          "text": "Y coordinates (dva)"
         },
         "type": "linear",
         "visible": true
        }
       }
      },
      "image/png": "[encoded data removed]",
      "text/html": [
       "<div>                            <div id=\"eeea6a88-2173-4f7c-a880-a981ca930678\" class=\"plotly-graph-div\" style=\"height:600px; width:800px;\"></div>            <script type=\"text/javascript\">                require([\"plotly\"], function(Plotly) {                    window.PLOTLYENV=window.PLOTLYENV || {};                                    if (document.getElementById(\"eeea6a88-2173-4f7c-a880-a981ca930678\")) {                    Plotly.newPlot(                        \"eeea6a88-2173-4f7c-a880-a981ca930678\",                        [{\"marker\":{\"color\":\"rgb(29, 105, 150)\",\"line\":{\"width\":0},\"opacity\":0.3,\"size\":8,\"symbol\":\"circle\"},\"mode\":\"markers\",\"name\":\"Left saccades\",\"x\":[-0.311155104274745,1.148845881990883,-0.12037982946743275,-1.2511524742330697,-0.4776914352265578,-0.7788447313476512,-0.5511491866809743,-0.9334570939439926,-0.6657707544231819],\"y\":[4.571527372372356,4.421142118443969,4.944990055154913,4.72883569057939,4.616910078447872,4.994225300514304,4.166528112071577,5.0515319749452905,4.168458491153634],\"type\":\"scatter\",\"xaxis\":\"x\",\"yaxis\":\"y\"},{\"marker\":{\"color\":\"rgb(29, 105, 150)\",\"line\":{\"width\":0},\"opacity\":0.3,\"size\":8,\"symbol\":\"circle\"},\"mode\":\"markers\",\"name\":\"Left saccades\",\"x\":[-6.174990548287727,-3.880760316445281,-4.893832649593703,-2.857303386878892,-4.333838238432265,-4.008454217335911,-4.251527043617148,-3.505375473460906,-3.393458080209625],\"y\":[2.2176855176327877,3.555759083613245,4.304606609380178,4.185375144705696,2.6472982911731444,4.374611047575507,3.740759658934861,4.220764261507796,3.8292283414999906],\"type\":\"scatter\",\"xaxis\":\"x2\",\"yaxis\":\"y2\"},{\"marker\":{\"color\":\"rgb(204, 80, 62)\",\"line\":{\"width\":0},\"opacity\":0.3,\"size\":8,\"symbol\":\"circle\"},\"mode\":\"markers\",\"name\":\"Right saccades\",\"x\":[0.25692717371876617,1.2996139241835896,0.9696117872747259,1.3907703434791703,0.15730831820703434,1.2626936543242255],\"y\":[5.184609568177063,4.14653271464451,4.359225547080713,5.469986356658806,4.482684120423148,4.098836841222624],\"type\":\"scatter\",\"xaxis\":\"x\",\"yaxis\":\"y\"},{\"marker\":{\"color\":\"rgb(204, 80, 62)\",\"line\":{\"width\":0},\"opacity\":0.3,\"size\":8,\"symbol\":\"circle\"},\"mode\":\"markers\",\"name\":\"Right saccades\",\"x\":[5.220764261507792,3.8023016609140443,5.088835033068975,3.8588427588163965,3.69153263245571,2.1592304784088543],\"y\":[3.588843251949208,3.907686997031232,2.0607682065703106,4.483449696951782,3.4269168179296656,3.9603755556497084],\"type\":\"scatter\",\"xaxis\":\"x2\",\"yaxis\":\"y2\"},{\"marker\":{\"color\":\"rgb(95, 70, 144)\",\"line\":{\"width\":0},\"opacity\":0.3,\"size\":8,\"symbol\":\"circle\"},\"mode\":\"markers\",\"name\":\"Steady 1\",\"x\":[-0.12037982946743275],\"y\":[4.944990055154913],\"type\":\"scatter\",\"xaxis\":\"x3\",\"yaxis\":\"y3\"},{\"marker\":{\"color\":\"rgb(95, 70, 144)\",\"line\":{\"width\":0},\"opacity\":0.3,\"size\":8,\"symbol\":\"circle\"},\"mode\":\"markers\",\"name\":\"Steady 1\",\"x\":[-4.893832649593703],\"y\":[4.304606609380178],\"type\":\"scatter\",\"xaxis\":\"x4\",\"yaxis\":\"y4\"},{\"marker\":{\"color\":\"rgb(56, 166, 165)\",\"line\":{\"width\":0},\"opacity\":0.3,\"size\":8,\"symbol\":\"circle\"},\"mode\":\"markers\",\"name\":\"Steady 2\",\"x\":[-0.7788447313476512,1.3907703434791703,0.15730831820703434],\"y\":[4.994225300514304,5.469986356658806,4.482684120423148],\"type\":\"scatter\",\"xaxis\":\"x3\",\"yaxis\":\"y3\"},{\"marker\":{\"color\":\"rgb(56, 166, 165)\",\"line\":{\"width\":0},\"opacity\":0.3,\"size\":8,\"symbol\":\"circle\"},\"mode\":\"markers\",\"name\":\"Steady 2\",\"x\":[-4.008454217335911,3.8588427588163965,3.69153263245571],\"y\":[4.374611047575507,4.483449696951782,3.4269168179296656],\"type\":\"scatter\",\"xaxis\":\"x4\",\"yaxis\":\"y4\"},{\"marker\":{\"color\":\"rgb(15, 133, 84)\",\"line\":{\"width\":0},\"opacity\":0.3,\"size\":8,\"symbol\":\"circle\"},\"mode\":\"markers\",\"name\":\"Steady 3\",\"x\":[-0.311155104274745,1.2996139241835896,1.148845881990883,-0.5511491866809743,-0.9334570939439926,1.2626936543242255],\"y\":[4.571527372372356,4.14653271464451,4.421142118443969,4.166528112071577,5.0515319749452905,4.098836841222624],\"type\":\"scatter\",\"xaxis\":\"x3\",\"yaxis\":\"y3\"},{\"marker\":{\"color\":\"rgb(15, 133, 84)\",\"line\":{\"width\":0},\"opacity\":0.3,\"size\":8,\"symbol\":\"circle\"},\"mode\":\"markers\",\"name\":\"Steady 3\",\"x\":[-6.174990548287727,3.8023016609140443,-3.880760316445281,-4.251527043617148,-3.505375473460906,2.1592304784088543],\"y\":[2.2176855176327877,3.907686997031232,3.555759083613245,3.740759658934861,4.220764261507796,3.9603755556497084],\"type\":\"scatter\",\"xaxis\":\"x4\",\"yaxis\":\"y4\"},{\"marker\":{\"color\":\"rgb(115, 175, 72)\",\"line\":{\"width\":0},\"opacity\":0.3,\"size\":8,\"symbol\":\"circle\"},\"mode\":\"markers\",\"name\":\"Steady 4\",\"x\":[],\"y\":[],\"type\":\"scatter\",\"xaxis\":\"x3\",\"yaxis\":\"y3\"},{\"marker\":{\"color\":\"rgb(115, 175, 72)\",\"line\":{\"width\":0},\"opacity\":0.3,\"size\":8,\"symbol\":\"circle\"},\"mode\":\"markers\",\"name\":\"Steady 4\",\"x\":[],\"y\":[],\"type\":\"scatter\",\"xaxis\":\"x4\",\"yaxis\":\"y4\"},{\"marker\":{\"color\":\"rgb(237, 173, 8)\",\"line\":{\"width\":0},\"opacity\":0.3,\"size\":8,\"symbol\":\"circle\"},\"mode\":\"markers\",\"name\":\"Steady 5\",\"x\":[0.9696117872747259,-0.4776914352265578,-0.6657707544231819],\"y\":[4.359225547080713,4.616910078447872,4.168458491153634],\"type\":\"scatter\",\"xaxis\":\"x3\",\"yaxis\":\"y3\"},{\"marker\":{\"color\":\"rgb(237, 173, 8)\",\"line\":{\"width\":0},\"opacity\":0.3,\"size\":8,\"symbol\":\"circle\"},\"mode\":\"markers\",\"name\":\"Steady 5\",\"x\":[5.088835033068975,-4.333838238432265,-3.393458080209625],\"y\":[2.0607682065703106,2.6472982911731444,3.8292283414999906],\"type\":\"scatter\",\"xaxis\":\"x4\",\"yaxis\":\"y4\"},{\"marker\":{\"color\":\"rgb(225, 124, 5)\",\"line\":{\"width\":0},\"opacity\":0.3,\"size\":8,\"symbol\":\"circle\"},\"mode\":\"markers\",\"name\":\"Motion 5-4-3 (up)\",\"x\":[0.25692717371876617,-1.2511524742330697],\"y\":[5.184609568177063,4.72883569057939],\"type\":\"scatter\",\"xaxis\":\"x3\",\"yaxis\":\"y3\"},{\"marker\":{\"color\":\"rgb(225, 124, 5)\",\"line\":{\"width\":0},\"opacity\":0.3,\"size\":8,\"symbol\":\"circle\"},\"mode\":\"markers\",\"name\":\"Motion 5-4-3 (up)\",\"x\":[5.220764261507792,-2.857303386878892],\"y\":[3.588843251949208,4.185375144705696],\"type\":\"scatter\",\"xaxis\":\"x4\",\"yaxis\":\"y4\"},{\"marker\":{\"color\":\"rgb(148, 52, 110)\",\"line\":{\"width\":0},\"opacity\":0.3,\"size\":8,\"symbol\":\"circle\"},\"mode\":\"markers\",\"name\":\"Motion 1-2-3 (down)\",\"x\":[],\"y\":[],\"type\":\"scatter\",\"xaxis\":\"x3\",\"yaxis\":\"y3\"},{\"marker\":{\"color\":\"rgb(148, 52, 110)\",\"line\":{\"width\":0},\"opacity\":0.3,\"size\":8,\"symbol\":\"circle\"},\"mode\":\"markers\",\"name\":\"Motion 1-2-3 (down)\",\"x\":[],\"y\":[],\"type\":\"scatter\",\"xaxis\":\"x4\",\"yaxis\":\"y4\"}],                        {\"template\":{\"data\":{\"barpolar\":[{\"marker\":{\"line\":{\"color\":\"rgba(0,0,0,1)\",\"width\":1.5}},\"showlegend\":false,\"thetaunit\":\"radians\",\"type\":\"barpolar\"}],\"pie\":[{\"direction\":\"clockwise\",\"hole\":0.4,\"marker\":{\"line\":{\"color\":[\"rgba(0,0,0,1)\",\"rgba(255,255,255,0)\"],\"width\":[1.5,0]}},\"rotation\":0,\"showlegend\":false,\"sort\":false,\"textposition\":[\"inside\",\"none\"],\"type\":\"pie\"}],\"violin\":[{\"box\":{\"visible\":false},\"hoveron\":\"violins\",\"line\":{\"color\":\"rgba(0, 0, 0, 1)\",\"width\":1.5},\"marker\":{\"opacity\":0.5,\"symbol\":\"x\"},\"meanline\":{\"color\":\"rgba(0, 0, 0, 1)\",\"visible\":true,\"width\":1.5},\"opacity\":1,\"points\":false,\"showlegend\":false,\"width\":0.8,\"type\":\"violin\"}]},\"layout\":{\"annotationdefaults\":{\"font\":{\"color\":\"rgba(0, 0, 0, 1)\",\"family\":\"Helvetica\",\"size\":15}},\"font\":{\"family\":\"Helvetica\",\"size\":13},\"plot_bgcolor\":\"rgba(255, 255, 255, 1)\",\"polar\":{\"angularaxis\":{\"showticklabels\":false,\"ticks\":\"\",\"visible\":false},\"radialaxis\":{\"showticklabels\":false,\"ticks\":\"\",\"visible\":false}},\"xaxis\":{\"color\":\"rgba(0, 0, 0, 1)\",\"hoverformat\":\".1f\",\"linewidth\":2,\"range\":[0,1],\"showgrid\":false,\"tickfont\":{\"family\":\"Helvetica\",\"size\":13},\"ticklen\":8,\"ticks\":\"outside\",\"tickwidth\":2,\"title\":{\"font\":{\"family\":\"Helvetica\",\"size\":15}},\"visible\":true,\"zeroline\":false,\"zerolinecolor\":\"rgba(0, 0, 0, 1)\",\"zerolinewidth\":2},\"yaxis\":{\"color\":\"rgba(0, 0, 0, 1)\",\"hoverformat\":\".1f\",\"linewidth\":2,\"showgrid\":false,\"tickfont\":{\"family\":\"Helvetica\",\"size\":13},\"ticklen\":8,\"ticks\":\"outside\",\"tickwidth\":2,\"title\":{\"font\":{\"family\":\"Helvetica\",\"size\":15}},\"visible\":true,\"zeroline\":false,\"zerolinecolor\":\"rgba(0, 0, 0, 1)\",\"zerolinewidth\":2}}},\"xaxis\":{\"anchor\":\"y\",\"domain\":[0.0,0.425],\"visible\":true,\"ticklen\":8,\"linewidth\":2,\"range\":[-10,10],\"title\":{\"text\":\"X coordinates (dva)\"}},\"yaxis\":{\"anchor\":\"x\",\"domain\":[0.6000000000000001,1.0],\"visible\":true,\"ticklen\":8,\"linewidth\":2,\"range\":[-10,10],\"title\":{\"text\":\"Y coordinates (dva)\"}},\"xaxis2\":{\"anchor\":\"y2\",\"domain\":[0.575,1.0],\"visible\":true,\"ticklen\":8,\"linewidth\":2,\"range\":[-10,10],\"title\":{\"text\":\"X coordinates (dva)\"}},\"yaxis2\":{\"anchor\":\"x2\",\"domain\":[0.6000000000000001,1.0],\"visible\":true,\"ticklen\":8,\"linewidth\":2,\"range\":[-10,10],\"title\":{\"text\":\"Y coordinates (dva)\"}},\"xaxis3\":{\"anchor\":\"y3\",\"domain\":[0.0,0.425],\"visible\":true,\"ticklen\":8,\"linewidth\":2,\"range\":[-10,10],\"title\":{\"text\":\"X coordinates (dva)\"}},\"yaxis3\":{\"anchor\":\"x3\",\"domain\":[0.0,0.4],\"visible\":true,\"ticklen\":8,\"linewidth\":2,\"range\":[-10,10],\"title\":{\"text\":\"Y coordinates (dva)\"}},\"xaxis4\":{\"anchor\":\"y4\",\"domain\":[0.575,1.0],\"visible\":true,\"ticklen\":8,\"linewidth\":2,\"range\":[-10,10],\"title\":{\"text\":\"X coordinates (dva)\"}},\"yaxis4\":{\"anchor\":\"x4\",\"domain\":[0.0,0.4],\"visible\":true,\"ticklen\":8,\"linewidth\":2,\"range\":[-10,10],\"title\":{\"text\":\"Y coordinates (dva)\"}},\"annotations\":[{\"font\":{\"size\":16},\"showarrow\":false,\"text\":\"<b>Sac. onset per direction<b>\",\"x\":0.2125,\"xanchor\":\"center\",\"xref\":\"paper\",\"y\":1.0,\"yanchor\":\"bottom\",\"yref\":\"paper\"},{\"font\":{\"size\":16},\"showarrow\":false,\"text\":\"<b>Sac. offset per direction<b>\",\"x\":0.7875,\"xanchor\":\"center\",\"xref\":\"paper\",\"y\":1.0,\"yanchor\":\"bottom\",\"yref\":\"paper\"},{\"font\":{\"size\":16},\"showarrow\":false,\"text\":\"<b>Sac. onset per trial seq.<b>\",\"x\":0.2125,\"xanchor\":\"center\",\"xref\":\"paper\",\"y\":0.4,\"yanchor\":\"bottom\",\"yref\":\"paper\"},{\"font\":{\"size\":16},\"showarrow\":false,\"text\":\"<b>Sac. offset per trial seq.<b>\",\"x\":0.7875,\"xanchor\":\"center\",\"xref\":\"paper\",\"y\":0.4,\"yanchor\":\"bottom\",\"yref\":\"paper\"},{\"font\":{\"size\":13},\"showarrow\":false,\"text\":\"Left saccades\",\"x\":1.13,\"xanchor\":\"left\",\"xref\":\"paper\",\"y\":0.97,\"yanchor\":\"middle\",\"yref\":\"paper\"},{\"font\":{\"size\":13},\"showarrow\":false,\"text\":\"Right saccades\",\"x\":1.13,\"xanchor\":\"left\",\"xref\":\"paper\",\"y\":0.9099999999999999,\"yanchor\":\"middle\",\"yref\":\"paper\"},{\"font\":{\"size\":13},\"showarrow\":false,\"text\":\"Steady 1\",\"x\":1.13,\"xanchor\":\"left\",\"xref\":\"paper\",\"y\":0.36,\"yanchor\":\"middle\",\"yref\":\"paper\"},{\"font\":{\"size\":13},\"showarrow\":false,\"text\":\"Steady 2\",\"x\":1.13,\"xanchor\":\"left\",\"xref\":\"paper\",\"y\":0.3,\"yanchor\":\"middle\",\"yref\":\"paper\"},{\"font\":{\"size\":13},\"showarrow\":false,\"text\":\"Steady 3\",\"x\":1.13,\"xanchor\":\"left\",\"xref\":\"paper\",\"y\":0.24,\"yanchor\":\"middle\",\"yref\":\"paper\"},{\"font\":{\"size\":13},\"showarrow\":false,\"text\":\"Steady 4\",\"x\":1.13,\"xanchor\":\"left\",\"xref\":\"paper\",\"y\":0.18,\"yanchor\":\"middle\",\"yref\":\"paper\"},{\"font\":{\"size\":13},\"showarrow\":false,\"text\":\"Steady 5\",\"x\":1.13,\"xanchor\":\"left\",\"xref\":\"paper\",\"y\":0.12,\"yanchor\":\"middle\",\"yref\":\"paper\"},{\"font\":{\"size\":13},\"showarrow\":false,\"text\":\"Motion 5-4-3 (up)\",\"x\":1.13,\"xanchor\":\"left\",\"xref\":\"paper\",\"y\":0.06,\"yanchor\":\"middle\",\"yref\":\"paper\"},{\"font\":{\"size\":13},\"showarrow\":false,\"text\":\"Motion 1-2-3 (down)\",\"x\":1.13,\"xanchor\":\"left\",\"xref\":\"paper\",\"y\":0.0,\"yanchor\":\"middle\",\"yref\":\"paper\"}],\"shapes\":[{\"fillcolor\":\"rgb(29, 105, 150)\",\"line\":{\"width\":0},\"opacity\":0.3,\"type\":\"circle\",\"x0\":1.0839999999999999,\"x1\":1.1159999999999999,\"xref\":\"paper\",\"y0\":0.95,\"y1\":0.99,\"yref\":\"paper\"},{\"fillcolor\":\"rgb(204, 80, 62)\",\"line\":{\"width\":0},\"opacity\":0.3,\"type\":\"circle\",\"x0\":1.0839999999999999,\"x1\":1.1159999999999999,\"xref\":\"paper\",\"y0\":0.8899999999999999,\"y1\":0.9299999999999999,\"yref\":\"paper\"},{\"opacity\":0.25,\"type\":\"line\",\"x0\":0,\"x1\":1,\"xref\":\"x domain\",\"y0\":5,\"y1\":5,\"yref\":\"y\"},{\"opacity\":0.25,\"type\":\"line\",\"x0\":0,\"x1\":0,\"xref\":\"x\",\"y0\":0,\"y1\":1,\"yref\":\"y domain\"},{\"opacity\":0.25,\"type\":\"line\",\"x0\":-5,\"x1\":-5,\"xref\":\"x2\",\"y0\":0,\"y1\":1,\"yref\":\"y2 domain\"},{\"opacity\":0.25,\"type\":\"line\",\"x0\":5,\"x1\":5,\"xref\":\"x2\",\"y0\":0,\"y1\":1,\"yref\":\"y2 domain\"},{\"opacity\":0.25,\"type\":\"line\",\"x0\":0,\"x1\":1,\"xref\":\"x2 domain\",\"y0\":4,\"y1\":4,\"yref\":\"y2\"},{\"opacity\":0.25,\"type\":\"line\",\"x0\":0,\"x1\":1,\"xref\":\"x2 domain\",\"y0\":3.5,\"y1\":3.5,\"yref\":\"y2\"},{\"opacity\":0.25,\"type\":\"line\",\"x0\":0,\"x1\":1,\"xref\":\"x2 domain\",\"y0\":3,\"y1\":3,\"yref\":\"y2\"},{\"opacity\":0.25,\"type\":\"line\",\"x0\":0,\"x1\":1,\"xref\":\"x2 domain\",\"y0\":2.5,\"y1\":2.5,\"yref\":\"y2\"},{\"opacity\":0.25,\"type\":\"line\",\"x0\":0,\"x1\":1,\"xref\":\"x2 domain\",\"y0\":2,\"y1\":2,\"yref\":\"y2\"},{\"fillcolor\":\"rgb(95, 70, 144)\",\"line\":{\"width\":0},\"opacity\":0.3,\"type\":\"circle\",\"x0\":1.0839999999999999,\"x1\":1.1159999999999999,\"xref\":\"paper\",\"y0\":0.33999999999999997,\"y1\":0.38,\"yref\":\"paper\"},{\"fillcolor\":\"rgb(56, 166, 165)\",\"line\":{\"width\":0},\"opacity\":0.3,\"type\":\"circle\",\"x0\":1.0839999999999999,\"x1\":1.1159999999999999,\"xref\":\"paper\",\"y0\":0.27999999999999997,\"y1\":0.32,\"yref\":\"paper\"},{\"fillcolor\":\"rgb(15, 133, 84)\",\"line\":{\"width\":0},\"opacity\":0.3,\"type\":\"circle\",\"x0\":1.0839999999999999,\"x1\":1.1159999999999999,\"xref\":\"paper\",\"y0\":0.22,\"y1\":0.26,\"yref\":\"paper\"},{\"fillcolor\":\"rgb(115, 175, 72)\",\"line\":{\"width\":0},\"opacity\":0.3,\"type\":\"circle\",\"x0\":1.0839999999999999,\"x1\":1.1159999999999999,\"xref\":\"paper\",\"y0\":0.16,\"y1\":0.19999999999999998,\"yref\":\"paper\"},{\"fillcolor\":\"rgb(237, 173, 8)\",\"line\":{\"width\":0},\"opacity\":0.3,\"type\":\"circle\",\"x0\":1.0839999999999999,\"x1\":1.1159999999999999,\"xref\":\"paper\",\"y0\":0.09999999999999999,\"y1\":0.13999999999999999,\"yref\":\"paper\"},{\"fillcolor\":\"rgb(225, 124, 5)\",\"line\":{\"width\":0},\"opacity\":0.3,\"type\":\"circle\",\"x0\":1.0839999999999999,\"x1\":1.1159999999999999,\"xref\":\"paper\",\"y0\":0.039999999999999994,\"y1\":0.08,\"yref\":\"paper\"},{\"fillcolor\":\"rgb(148, 52, 110)\",\"line\":{\"width\":0},\"opacity\":0.3,\"type\":\"circle\",\"x0\":1.0839999999999999,\"x1\":1.1159999999999999,\"xref\":\"paper\",\"y0\":-0.02,\"y1\":0.02,\"yref\":\"paper\"},{\"opacity\":0.25,\"type\":\"line\",\"x0\":0,\"x1\":1,\"xref\":\"x3 domain\",\"y0\":5,\"y1\":5,\"yref\":\"y3\"},{\"opacity\":0.25,\"type\":\"line\",\"x0\":0,\"x1\":0,\"xref\":\"x3\",\"y0\":0,\"y1\":1,\"yref\":\"y3 domain\"},{\"opacity\":0.25,\"type\":\"line\",\"x0\":-5,\"x1\":-5,\"xref\":\"x4\",\"y0\":0,\"y1\":1,\"yref\":\"y4 domain\"},{\"opacity\":0.25,\"type\":\"line\",\"x0\":5,\"x1\":5,\"xref\":\"x4\",\"y0\":0,\"y1\":1,\"yref\":\"y4 domain\"},{\"opacity\":0.25,\"type\":\"line\",\"x0\":0,\"x1\":1,\"xref\":\"x4 domain\",\"y0\":4,\"y1\":4,\"yref\":\"y4\"},{\"opacity\":0.25,\"type\":\"line\",\"x0\":0,\"x1\":1,\"xref\":\"x4 domain\",\"y0\":3.5,\"y1\":3.5,\"yref\":\"y4\"},{\"opacity\":0.25,\"type\":\"line\",\"x0\":0,\"x1\":1,\"xref\":\"x4 domain\",\"y0\":3,\"y1\":3,\"yref\":\"y4\"},{\"opacity\":0.25,\"type\":\"line\",\"x0\":0,\"x1\":1,\"xref\":\"x4 domain\",\"y0\":2.5,\"y1\":2.5,\"yref\":\"y4\"},{\"opacity\":0.25,\"type\":\"line\",\"x0\":0,\"x1\":1,\"xref\":\"x4 domain\",\"y0\":2,\"y1\":2,\"yref\":\"y4\"}],\"margin\":{\"l\":50,\"r\":200,\"t\":50,\"b\":100},\"width\":800,\"height\":600,\"barmode\":\"stack\",\"showlegend\":false},                        {\"responsive\": true}                    ).then(function(){\n",
       "                            \n",
       "var gd = document.getElementById('eeea6a88-2173-4f7c-a880-a981ca930678');\n",
       "var x = new MutationObserver(function (mutations, observer) {{\n",
       "        var display = window.getComputedStyle(gd).display;\n",
       "        if (!display || display === 'none') {{\n",
       "            console.log([gd, 'removed!']);\n",
       "            Plotly.purge(gd);\n",
       "            observer.disconnect();\n",
       "        }}\n",
       "}});\n",
       "\n",
       "// Listen for the removal of the full notebook cells\n",
       "var notebookContainer = gd.closest('#notebook-container');\n",
       "if (notebookContainer) {{\n",
       "    x.observe(notebookContainer, {childList: true});\n",
       "}}\n",
       "\n",
       "// Listen for the clearing of the current output cell\n",
       "var outputEl = gd.closest('.output');\n",
       "if (outputEl) {{\n",
       "    x.observe(outputEl, {childList: true});\n",
       "}}\n",
       "\n",
       "                        })                };                });            </script>        </div>"
      ]
     },
     "metadata": {},
     "output_type": "display_data"
    }
   ],
   "source": [
    "# figure specific settings\n",
    "subplot_titles = ('<b>Sac. onset per direction<b>', '<b>Sac. offset per direction<b>',\n",
    "                  '<b>Sac. onset per trial seq.<b>', '<b>Sac. offset per trial seq.<b>',)\n",
    "\n",
    "# subplot settings\n",
    "rows, cols = 2, 2\n",
    "leg_mergin = 200\n",
    "fig_height, fig_width = 600,300*2+leg_mergin\n",
    "column_widths,row_heights = [1,1],[1,1]\n",
    "sb_specs = [[{},{}],[{},{}]]\n",
    "fig = make_subplots(rows=rows, cols=cols, print_grid=False, vertical_spacing=0.2, horizontal_spacing=0.15, \n",
    "                    column_widths=column_widths, row_heights=row_heights, subplot_titles=subplot_titles)\n",
    "\n",
    "x_legend = 1.13\n",
    "y_legend_step = 0.06\n",
    "y_legend_sd = 0.97\n",
    "y_legend_ts = 0.36\n",
    "rad_leg = 0.04\n",
    "\n",
    "# Right / Left saccades\n",
    "# ---------------------\n",
    "for sd_num, sd in enumerate(sds):\n",
    "\n",
    "    \n",
    "    # plot\n",
    "    df_cond = df_all.loc[(df_all.main_sac_trial == 1) & (df_all.saccade_direction == sd_num+1)]\n",
    "    fig.append_trace(go.Scatter(x=df_cond['sac_x_onset_trial']-df_cond['jitter_x_trial'],\n",
    "                                y=df_cond['sac_y_onset_trial']-df_cond['jitter_y_trial'],\n",
    "                                name=sd, mode='markers',marker_color=sd_cols[sd_num],marker_size=8,marker_opacity=0.3,\n",
    "                                marker_line_width=0,marker_symbol='circle'),row=1, col=1)\n",
    "    \n",
    "    fig.append_trace(go.Scatter(x=df_cond['sac_x_offset_trial']-df_cond['jitter_x_trial'],\n",
    "                                y=df_cond['sac_y_offset_trial']-df_cond['jitter_y_trial'],\n",
    "                                name=sd, mode='markers',marker_color=sd_cols[sd_num],marker_size=8,marker_opacity=0.3,\n",
    "                                marker_line_width=0,marker_symbol='circle'),row=1, col=2)\n",
    "    \n",
    "    # legend\n",
    "    fig.add_annotation(xref='paper', yref='paper', x=x_legend, y=y_legend_sd-y_legend_step*sd_num, \n",
    "                       text=sd, showarrow=False, font_size = template_specs['axes_font_size'],xanchor = 'left', yanchor='middle')\n",
    "    fig.add_shape(type='circle',xref='paper', yref='paper', fillcolor=sd_cols[sd_num],line_width=0, opacity=0.3,\n",
    "                  x0=x_legend-0.03-rad_leg/2.5, y0=y_legend_sd-y_legend_step*sd_num-rad_leg/2, \n",
    "                  x1=x_legend-0.03+rad_leg/2.5, y1=y_legend_sd-y_legend_step*sd_num+rad_leg/2)\n",
    "\n",
    "# ref lines\n",
    "fig.add_hline(y=5,opacity=0.25, row=1, col=1)\n",
    "fig.add_vline(x=0,opacity=0.25, row=1, col=1)\n",
    "fig.add_vline(x=-5, opacity=0.25, row=1, col=2)\n",
    "fig.add_vline(x=5,  opacity=0.25, row=1, col=2)\n",
    "fig.add_hline(y=4,  opacity=0.25, row=1, col=2)\n",
    "fig.add_hline(y=3.5,opacity=0.25, row=1, col=2)\n",
    "fig.add_hline(y=3,  opacity=0.25, row=1, col=2)\n",
    "fig.add_hline(y=2.5,opacity=0.25, row=1, col=2)\n",
    "fig.add_hline(y=2,  opacity=0.25, row=1, col=2)\n",
    "    \n",
    "    \n",
    "# Trials sequence\n",
    "# ---------------\n",
    "for ts_num, ts in enumerate(tss):\n",
    "    # plot\n",
    "    df_cond = df_all.loc[(df_all.main_sac_trial == 1) & (df_all.trial_sequence == ts_num+1)]\n",
    "    fig.append_trace(go.Scatter(x=df_cond['sac_x_onset_trial']-df_cond['jitter_x_trial'],\n",
    "                                y=df_cond['sac_y_onset_trial']-df_cond['jitter_y_trial'],\n",
    "                                name=ts, mode='markers',marker_color=ts_cols[ts_num],marker_size=8,marker_opacity=0.3,\n",
    "                                marker_line_width=0,marker_symbol='circle'),row=2, col=1)\n",
    "\n",
    "    fig.append_trace(go.Scatter(x=df_cond['sac_x_offset_trial']-df_cond['jitter_x_trial'],\n",
    "                                y=df_cond['sac_y_offset_trial']-df_cond['jitter_y_trial'],\n",
    "                                name=ts, mode='markers',marker_color=ts_cols[ts_num],marker_size=8,marker_opacity=0.3,\n",
    "                                marker_line_width=0,marker_symbol='circle'),row=2, col=2)\n",
    "    \n",
    "    # legend\n",
    "    fig.add_annotation(xref='paper', yref='paper', x=x_legend, y=y_legend_ts-(y_legend_step*ts_num), \n",
    "                       text=ts, showarrow=False, font_size = template_specs['axes_font_size'], xanchor = 'left', yanchor='middle')\n",
    "    fig.add_shape(type='circle',xref='paper', yref='paper', fillcolor=ts_cols[ts_num],line_width=0, opacity=0.3,\n",
    "                  x0=x_legend-0.03-rad_leg/2.5, y0=y_legend_ts-y_legend_step*ts_num-rad_leg/2, \n",
    "                  x1=x_legend-0.03+rad_leg/2.5, y1=y_legend_ts-y_legend_step*ts_num+rad_leg/2)\n",
    "\n",
    "\n",
    "# ref lines\n",
    "fig.add_hline(y=5,opacity=0.25, row=2, col=1)\n",
    "fig.add_vline(x=0,opacity=0.25, row=2, col=1)\n",
    "fig.add_vline(x=-5, opacity=0.25, row=2, col=2)\n",
    "fig.add_vline(x=5,  opacity=0.25, row=2, col=2)\n",
    "fig.add_hline(y=4,  opacity=0.25, row=2, col=2)\n",
    "fig.add_hline(y=3.5,opacity=0.25, row=2, col=2)\n",
    "fig.add_hline(y=3,  opacity=0.25, row=2, col=2)\n",
    "fig.add_hline(y=2.5,opacity=0.25, row=2, col=2)\n",
    "fig.add_hline(y=2,  opacity=0.25, row=2, col=2)    \n",
    "    \n",
    "# axes settings\n",
    "for row in np.arange(rows):\n",
    "    for col in np.arange(cols):\n",
    "        fig.update_xaxes(visible=True, ticklen=8, linewidth=template_specs['axes_width'], range=[-10,10], title='X coordinates (dva)', row=row+1, col=col+1)\n",
    "        fig.update_yaxes(visible=True, ticklen=8, linewidth=template_specs['axes_width'], range=[-10,10], title='Y coordinates (dva)',row=row+1, col=col+1)\n",
    "    \n",
    "fig.layout.update(template=fig_template, width=fig_width, height=fig_height, margin_l=50, margin_r=leg_mergin, margin_t=50, margin_b=100, barmode='stack', showlegend=False)    \n",
    "fig.show()\n",
    "if not os.path.exists(fig_dir):os.mkdir(fig_dir)\n",
    "fig.write_image('{}/{}_saccade_landing.pdf'.format(fig_dir, subject))"
   ]
  },
  {
   "cell_type": "markdown",
   "id": "579cbed7-caf8-458d-990c-266dcc2d2e82",
   "metadata": {},
   "source": [
    "#### Sacade landing map per trial sequence"
   ]
  },
  {
   "cell_type": "code",
   "execution_count": 146,
   "id": "e93cccdd-ad78-435f-9756-db9aaa28f01a",
   "metadata": {},
   "outputs": [
    {
     "data": {
      "application/vnd.plotly.v1+json": {
       "config": {
        "plotlyServerURL": "https://plot.ly"
       },
       "data": [
        {
         "marker": {
          "color": "rgb(95, 70, 144)",
          "line": {
           "width": 0
          },
          "opacity": 0.3,
          "size": 8,
          "symbol": "circle"
         },
         "mode": "markers",
         "name": "Steady 1",
         "type": "scatter",
         "x": [
          4.893832649593703
         ],
         "xaxis": "x",
         "y": [
          4.304606609380178
         ],
         "yaxis": "y"
        },
        {
         "marker": {
          "color": "rgb(95, 70, 144)",
          "line": {
           "width": 0
          },
          "size": 15,
          "symbol": "triangle-left"
         },
         "mode": "markers",
         "name": "Steady 1",
         "type": "scatter",
         "x": [
          0.5
         ],
         "xaxis": "x",
         "y": [
          4.304606609380178
         ],
         "yaxis": "y"
        },
        {
         "marker": {
          "color": "rgb(95, 70, 144)",
          "line": {
           "width": 0
          },
          "size": 15,
          "symbol": "triangle-down"
         },
         "mode": "markers",
         "name": "Steady 1",
         "type": "scatter",
         "x": [
          4.893832649593703
         ],
         "xaxis": "x",
         "y": [
          -1.5
         ],
         "yaxis": "y"
        },
        {
         "marker": {
          "color": "rgb(56, 166, 165)",
          "line": {
           "width": 0
          },
          "opacity": 0.3,
          "size": 8,
          "symbol": "circle"
         },
         "mode": "markers",
         "name": "Steady 2",
         "type": "scatter",
         "x": [
          4.008454217335911,
          3.8588427588163965,
          3.69153263245571
         ],
         "xaxis": "x2",
         "y": [
          4.374611047575507,
          4.483449696951782,
          3.4269168179296656
         ],
         "yaxis": "y2"
        },
        {
         "marker": {
          "color": "rgb(56, 166, 165)",
          "line": {
           "width": 0
          },
          "size": 15,
          "symbol": "triangle-left"
         },
         "mode": "markers",
         "name": "Steady 2",
         "type": "scatter",
         "x": [
          0.5
         ],
         "xaxis": "x2",
         "y": [
          4.374611047575507
         ],
         "yaxis": "y2"
        },
        {
         "marker": {
          "color": "rgb(56, 166, 165)",
          "line": {
           "width": 0
          },
          "size": 15,
          "symbol": "triangle-down"
         },
         "mode": "markers",
         "name": "Steady 2",
         "type": "scatter",
         "x": [
          3.8588427588163965
         ],
         "xaxis": "x2",
         "y": [
          -1.5
         ],
         "yaxis": "y2"
        },
        {
         "marker": {
          "color": "rgb(15, 133, 84)",
          "line": {
           "width": 0
          },
          "opacity": 0.3,
          "size": 8,
          "symbol": "circle"
         },
         "mode": "markers",
         "name": "Steady 3",
         "type": "scatter",
         "x": [
          6.174990548287727,
          3.8023016609140443,
          3.880760316445281,
          4.251527043617148,
          3.505375473460906,
          2.1592304784088543
         ],
         "xaxis": "x3",
         "y": [
          2.2176855176327877,
          3.907686997031232,
          3.555759083613245,
          3.740759658934861,
          4.220764261507796,
          3.9603755556497084
         ],
         "yaxis": "y3"
        },
        {
         "marker": {
          "color": "rgb(15, 133, 84)",
          "line": {
           "width": 0
          },
          "size": 15,
          "symbol": "triangle-left"
         },
         "mode": "markers",
         "name": "Steady 3",
         "type": "scatter",
         "x": [
          0.5
         ],
         "xaxis": "x3",
         "y": [
          3.8242233279830464
         ],
         "yaxis": "y3"
        },
        {
         "marker": {
          "color": "rgb(15, 133, 84)",
          "line": {
           "width": 0
          },
          "size": 15,
          "symbol": "triangle-down"
         },
         "mode": "markers",
         "name": "Steady 3",
         "type": "scatter",
         "x": [
          3.8415309886796627
         ],
         "xaxis": "x3",
         "y": [
          -1.5
         ],
         "yaxis": "y3"
        },
        {
         "marker": {
          "color": "rgb(115, 175, 72)",
          "line": {
           "width": 0
          },
          "opacity": 0.3,
          "size": 8,
          "symbol": "circle"
         },
         "mode": "markers",
         "name": "Steady 4",
         "type": "scatter",
         "x": [],
         "xaxis": "x4",
         "y": [],
         "yaxis": "y4"
        },
        {
         "marker": {
          "color": "rgb(115, 175, 72)",
          "line": {
           "width": 0
          },
          "size": 15,
          "symbol": "triangle-left"
         },
         "mode": "markers",
         "name": "Steady 4",
         "type": "scatter",
         "x": [
          0.5
         ],
         "xaxis": "x4",
         "y": [
          null
         ],
         "yaxis": "y4"
        },
        {
         "marker": {
          "color": "rgb(115, 175, 72)",
          "line": {
           "width": 0
          },
          "size": 15,
          "symbol": "triangle-down"
         },
         "mode": "markers",
         "name": "Steady 4",
         "type": "scatter",
         "x": [
          null
         ],
         "xaxis": "x4",
         "y": [
          -1.5
         ],
         "yaxis": "y4"
        },
        {
         "marker": {
          "color": "rgb(237, 173, 8)",
          "line": {
           "width": 0
          },
          "opacity": 0.3,
          "size": 8,
          "symbol": "circle"
         },
         "mode": "markers",
         "name": "Steady 5",
         "type": "scatter",
         "x": [
          5.088835033068975,
          4.333838238432265,
          3.393458080209625
         ],
         "xaxis": "x5",
         "y": [
          2.0607682065703106,
          2.6472982911731444,
          3.8292283414999906
         ],
         "yaxis": "y5"
        },
        {
         "marker": {
          "color": "rgb(237, 173, 8)",
          "line": {
           "width": 0
          },
          "size": 15,
          "symbol": "triangle-left"
         },
         "mode": "markers",
         "name": "Steady 5",
         "type": "scatter",
         "x": [
          0.5
         ],
         "xaxis": "x5",
         "y": [
          2.6472982911731444
         ],
         "yaxis": "y5"
        },
        {
         "marker": {
          "color": "rgb(237, 173, 8)",
          "line": {
           "width": 0
          },
          "size": 15,
          "symbol": "triangle-down"
         },
         "mode": "markers",
         "name": "Steady 5",
         "type": "scatter",
         "x": [
          4.333838238432265
         ],
         "xaxis": "x5",
         "y": [
          -1.5
         ],
         "yaxis": "y5"
        },
        {
         "marker": {
          "color": "rgb(225, 124, 5)",
          "line": {
           "width": 0
          },
          "opacity": 0.3,
          "size": 8,
          "symbol": "circle"
         },
         "mode": "markers",
         "name": "Motion 5-4-3 (up)",
         "type": "scatter",
         "x": [
          5.220764261507792,
          2.857303386878892
         ],
         "xaxis": "x6",
         "y": [
          3.588843251949208,
          4.185375144705696
         ],
         "yaxis": "y6"
        },
        {
         "marker": {
          "color": "rgb(225, 124, 5)",
          "line": {
           "width": 0
          },
          "size": 15,
          "symbol": "triangle-left"
         },
         "mode": "markers",
         "name": "Motion 5-4-3 (up)",
         "type": "scatter",
         "x": [
          0.5
         ],
         "xaxis": "x6",
         "y": [
          3.887109198327452
         ],
         "yaxis": "y6"
        },
        {
         "marker": {
          "color": "rgb(225, 124, 5)",
          "line": {
           "width": 0
          },
          "size": 15,
          "symbol": "triangle-down"
         },
         "mode": "markers",
         "name": "Motion 5-4-3 (up)",
         "type": "scatter",
         "x": [
          4.039033824193342
         ],
         "xaxis": "x6",
         "y": [
          -1.5
         ],
         "yaxis": "y6"
        },
        {
         "marker": {
          "color": "rgb(148, 52, 110)",
          "line": {
           "width": 0
          },
          "opacity": 0.3,
          "size": 8,
          "symbol": "circle"
         },
         "mode": "markers",
         "name": "Motion 1-2-3 (down)",
         "type": "scatter",
         "x": [],
         "xaxis": "x7",
         "y": [],
         "yaxis": "y7"
        },
        {
         "marker": {
          "color": "rgb(148, 52, 110)",
          "line": {
           "width": 0
          },
          "size": 15,
          "symbol": "triangle-left"
         },
         "mode": "markers",
         "name": "Motion 1-2-3 (down)",
         "type": "scatter",
         "x": [
          0.5
         ],
         "xaxis": "x7",
         "y": [
          null
         ],
         "yaxis": "y7"
        },
        {
         "marker": {
          "color": "rgb(148, 52, 110)",
          "line": {
           "width": 0
          },
          "size": 15,
          "symbol": "triangle-down"
         },
         "mode": "markers",
         "name": "Motion 1-2-3 (down)",
         "type": "scatter",
         "x": [
          null
         ],
         "xaxis": "x7",
         "y": [
          -1.5
         ],
         "yaxis": "y7"
        }
       ],
       "layout": {
        "annotations": [
         {
          "font": {
           "size": 13
          },
          "showarrow": false,
          "text": "Steady 1",
          "x": 1.05,
          "xanchor": "left",
          "xref": "paper",
          "y": 0.97,
          "yanchor": "middle",
          "yref": "paper"
         },
         {
          "font": {
           "size": 13
          },
          "showarrow": false,
          "text": "Steady 2",
          "x": 1.05,
          "xanchor": "left",
          "xref": "paper",
          "y": 0.9099999999999999,
          "yanchor": "middle",
          "yref": "paper"
         },
         {
          "font": {
           "size": 13
          },
          "showarrow": false,
          "text": "Steady 3",
          "x": 1.05,
          "xanchor": "left",
          "xref": "paper",
          "y": 0.85,
          "yanchor": "middle",
          "yref": "paper"
         },
         {
          "font": {
           "size": 13
          },
          "showarrow": false,
          "text": "Steady 4",
          "x": 1.05,
          "xanchor": "left",
          "xref": "paper",
          "y": 0.79,
          "yanchor": "middle",
          "yref": "paper"
         },
         {
          "font": {
           "size": 13
          },
          "showarrow": false,
          "text": "Steady 5",
          "x": 1.05,
          "xanchor": "left",
          "xref": "paper",
          "y": 0.73,
          "yanchor": "middle",
          "yref": "paper"
         },
         {
          "font": {
           "size": 13
          },
          "showarrow": false,
          "text": "Motion 5-4-3 (up)",
          "x": 0.42,
          "xanchor": "left",
          "xref": "paper",
          "y": 0.36,
          "yanchor": "middle",
          "yref": "paper"
         },
         {
          "font": {
           "size": 13
          },
          "showarrow": false,
          "text": "Motion 1-2-3 (down)",
          "x": 0.42,
          "xanchor": "left",
          "xref": "paper",
          "y": 0.3,
          "yanchor": "middle",
          "yref": "paper"
         },
         {
          "font": {
           "size": 15
          },
          "showarrow": false,
          "text": "<b>Steady sequences: saccade offset<b>",
          "x": 0,
          "xanchor": "left",
          "xref": "paper",
          "y": 1.03,
          "yanchor": "middle",
          "yref": "paper"
         },
         {
          "font": {
           "size": 15
          },
          "showarrow": false,
          "text": "<b>Motion sequences: saccade offset<b>",
          "x": 0,
          "xanchor": "left",
          "xref": "paper",
          "y": 0.43,
          "yanchor": "middle",
          "yref": "paper"
         }
        ],
        "barmode": "stack",
        "height": 600,
        "margin": {
         "b": 100,
         "l": 50,
         "r": 200,
         "t": 50
        },
        "shapes": [
         {
          "fillcolor": "rgb(95, 70, 144)",
          "line": {
           "width": 0
          },
          "opacity": 0.3,
          "type": "circle",
          "x0": 1.0227272727272727,
          "x1": 1.0372727272727273,
          "xref": "paper",
          "y0": 0.95,
          "y1": 0.99,
          "yref": "paper"
         },
         {
          "opacity": 0.25,
          "type": "line",
          "x0": 5,
          "x1": 5,
          "xref": "x",
          "y0": 0,
          "y1": 1,
          "yref": "y domain"
         },
         {
          "opacity": 0.25,
          "type": "line",
          "x0": 0,
          "x1": 1,
          "xref": "x domain",
          "y0": 4,
          "y1": 4,
          "yref": "y"
         },
         {
          "fillcolor": "rgb(56, 166, 165)",
          "line": {
           "width": 0
          },
          "opacity": 0.3,
          "type": "circle",
          "x0": 1.0227272727272727,
          "x1": 1.0372727272727273,
          "xref": "paper",
          "y0": 0.8899999999999999,
          "y1": 0.9299999999999999,
          "yref": "paper"
         },
         {
          "opacity": 0.25,
          "type": "line",
          "x0": 5,
          "x1": 5,
          "xref": "x2",
          "y0": 0,
          "y1": 1,
          "yref": "y2 domain"
         },
         {
          "opacity": 0.25,
          "type": "line",
          "x0": 0,
          "x1": 1,
          "xref": "x2 domain",
          "y0": 3.5,
          "y1": 3.5,
          "yref": "y2"
         },
         {
          "fillcolor": "rgb(15, 133, 84)",
          "line": {
           "width": 0
          },
          "opacity": 0.3,
          "type": "circle",
          "x0": 1.0227272727272727,
          "x1": 1.0372727272727273,
          "xref": "paper",
          "y0": 0.83,
          "y1": 0.87,
          "yref": "paper"
         },
         {
          "opacity": 0.25,
          "type": "line",
          "x0": 5,
          "x1": 5,
          "xref": "x3",
          "y0": 0,
          "y1": 1,
          "yref": "y3 domain"
         },
         {
          "opacity": 0.25,
          "type": "line",
          "x0": 0,
          "x1": 1,
          "xref": "x3 domain",
          "y0": 3,
          "y1": 3,
          "yref": "y3"
         },
         {
          "fillcolor": "rgb(115, 175, 72)",
          "line": {
           "width": 0
          },
          "opacity": 0.3,
          "type": "circle",
          "x0": 1.0227272727272727,
          "x1": 1.0372727272727273,
          "xref": "paper",
          "y0": 0.77,
          "y1": 0.81,
          "yref": "paper"
         },
         {
          "opacity": 0.25,
          "type": "line",
          "x0": 5,
          "x1": 5,
          "xref": "x4",
          "y0": 0,
          "y1": 1,
          "yref": "y4 domain"
         },
         {
          "opacity": 0.25,
          "type": "line",
          "x0": 0,
          "x1": 1,
          "xref": "x4 domain",
          "y0": 2.5,
          "y1": 2.5,
          "yref": "y4"
         },
         {
          "fillcolor": "rgb(237, 173, 8)",
          "line": {
           "width": 0
          },
          "opacity": 0.3,
          "type": "circle",
          "x0": 1.0227272727272727,
          "x1": 1.0372727272727273,
          "xref": "paper",
          "y0": 0.71,
          "y1": 0.75,
          "yref": "paper"
         },
         {
          "opacity": 0.25,
          "type": "line",
          "x0": 5,
          "x1": 5,
          "xref": "x5",
          "y0": 0,
          "y1": 1,
          "yref": "y5 domain"
         },
         {
          "opacity": 0.25,
          "type": "line",
          "x0": 0,
          "x1": 1,
          "xref": "x5 domain",
          "y0": 2,
          "y1": 2,
          "yref": "y5"
         },
         {
          "fillcolor": "rgb(225, 124, 5)",
          "line": {
           "width": 0
          },
          "opacity": 0.3,
          "type": "circle",
          "x0": 0.3927272727272727,
          "x1": 0.40727272727272723,
          "xref": "paper",
          "y0": 0.33999999999999997,
          "y1": 0.38,
          "yref": "paper"
         },
         {
          "opacity": 0.25,
          "type": "line",
          "x0": 5,
          "x1": 5,
          "xref": "x6",
          "y0": 0,
          "y1": 1,
          "yref": "y6 domain"
         },
         {
          "opacity": 0.25,
          "type": "line",
          "x0": 0,
          "x1": 1,
          "xref": "x6 domain",
          "y0": 3,
          "y1": 3,
          "yref": "y6"
         },
         {
          "fillcolor": "rgb(148, 52, 110)",
          "line": {
           "width": 0
          },
          "opacity": 0.3,
          "type": "circle",
          "x0": 0.3927272727272727,
          "x1": 0.40727272727272723,
          "xref": "paper",
          "y0": 0.27999999999999997,
          "y1": 0.32,
          "yref": "paper"
         },
         {
          "opacity": 0.25,
          "type": "line",
          "x0": 5,
          "x1": 5,
          "xref": "x7",
          "y0": 0,
          "y1": 1,
          "yref": "y7 domain"
         },
         {
          "opacity": 0.25,
          "type": "line",
          "x0": 0,
          "x1": 1,
          "xref": "x7 domain",
          "y0": 3,
          "y1": 3,
          "yref": "y7"
         }
        ],
        "showlegend": false,
        "template": {
         "data": {
          "barpolar": [
           {
            "marker": {
             "line": {
              "color": "rgba(0, 0, 0, 1)",
              "width": 1.5
             }
            },
            "showlegend": false,
            "thetaunit": "radians",
            "type": "barpolar"
           }
          ],
          "pie": [
           {
            "direction": "clockwise",
            "hole": 0.4,
            "marker": {
             "line": {
              "color": [
               "rgba(0, 0, 0, 1)",
               "rgba(255,255,255,0)"
              ],
              "width": [
               1.5,
               0
              ]
             }
            },
            "rotation": 0,
            "showlegend": false,
            "sort": false,
            "textposition": [
             "inside",
             "none"
            ],
            "type": "pie"
           }
          ],
          "violin": [
           {
            "box": {
             "visible": false
            },
            "hoveron": "violins",
            "line": {
             "color": "rgba(0, 0, 0, 1)",
             "width": 1.5
            },
            "marker": {
             "opacity": 0.5,
             "symbol": "x"
            },
            "meanline": {
             "color": "rgba(0, 0, 0, 1)",
             "visible": true,
             "width": 1.5
            },
            "opacity": 1,
            "points": false,
            "showlegend": false,
            "type": "violin",
            "width": 0.8
           }
          ]
         },
         "layout": {
          "annotationdefaults": {
           "font": {
            "color": "rgba(0, 0, 0, 1)",
            "family": "Helvetica",
            "size": 15
           }
          },
          "font": {
           "family": "Helvetica",
           "size": 13
          },
          "plot_bgcolor": "rgba(255, 255, 255, 1)",
          "polar": {
           "angularaxis": {
            "showticklabels": false,
            "ticks": "",
            "visible": false
           },
           "radialaxis": {
            "showticklabels": false,
            "ticks": "",
            "visible": false
           }
          },
          "xaxis": {
           "color": "rgba(0, 0, 0, 1)",
           "hoverformat": ".1f",
           "linewidth": 2,
           "range": [
            0,
            1
           ],
           "showgrid": false,
           "tickfont": {
            "family": "Helvetica",
            "size": 13
           },
           "ticklen": 8,
           "ticks": "outside",
           "tickwidth": 2,
           "title": {
            "font": {
             "family": "Helvetica",
             "size": 15
            }
           },
           "visible": true,
           "zeroline": false,
           "zerolinecolor": "rgba(0, 0, 0, 1)",
           "zerolinewidth": 2
          },
          "yaxis": {
           "color": "rgba(0, 0, 0, 1)",
           "hoverformat": ".1f",
           "linewidth": 2,
           "showgrid": false,
           "tickfont": {
            "family": "Helvetica",
            "size": 13
           },
           "ticklen": 8,
           "ticks": "outside",
           "tickwidth": 2,
           "title": {
            "font": {
             "family": "Helvetica",
             "size": 15
            }
           },
           "visible": true,
           "zeroline": false,
           "zerolinecolor": "rgba(0, 0, 0, 1)",
           "zerolinewidth": 2
          }
         }
        },
        "width": 1450,
        "xaxis": {
         "anchor": "y",
         "domain": [
          0,
          0.16000000000000003
         ],
         "linewidth": 2,
         "range": [
          0,
          10
         ],
         "ticklen": 8,
         "title": {
          "text": "X coordinate (dva)"
         },
         "type": "linear",
         "visible": true
        },
        "xaxis10": {
         "anchor": "y10",
         "domain": [
          0.8400000000000001,
          1
         ],
         "linewidth": 2,
         "range": [
          0,
          10
         ],
         "ticklen": 8,
         "title": {
          "text": "X coordinate (dva)"
         },
         "visible": true
        },
        "xaxis2": {
         "anchor": "y2",
         "domain": [
          0.21000000000000002,
          0.37000000000000005
         ],
         "linewidth": 2,
         "range": [
          0,
          10
         ],
         "ticklen": 8,
         "title": {
          "text": "X coordinate (dva)"
         },
         "type": "linear",
         "visible": true
        },
        "xaxis3": {
         "anchor": "y3",
         "domain": [
          0.42000000000000004,
          0.5800000000000001
         ],
         "linewidth": 2,
         "range": [
          0,
          10
         ],
         "ticklen": 8,
         "title": {
          "text": "X coordinate (dva)"
         },
         "type": "linear",
         "visible": true
        },
        "xaxis4": {
         "anchor": "y4",
         "domain": [
          0.6300000000000001,
          0.7900000000000001
         ],
         "linewidth": 2,
         "range": [
          0,
          10
         ],
         "ticklen": 8,
         "title": {
          "text": "X coordinate (dva)"
         },
         "type": "linear",
         "visible": true
        },
        "xaxis5": {
         "anchor": "y5",
         "domain": [
          0.8400000000000001,
          1
         ],
         "linewidth": 2,
         "range": [
          0,
          10
         ],
         "ticklen": 8,
         "title": {
          "text": "X coordinate (dva)"
         },
         "type": "linear",
         "visible": true
        },
        "xaxis6": {
         "anchor": "y6",
         "domain": [
          0,
          0.16000000000000003
         ],
         "linewidth": 2,
         "range": [
          0,
          10
         ],
         "ticklen": 8,
         "title": {
          "text": "X coordinate (dva)"
         },
         "type": "linear",
         "visible": true
        },
        "xaxis7": {
         "anchor": "y7",
         "domain": [
          0.21000000000000002,
          0.37000000000000005
         ],
         "linewidth": 2,
         "range": [
          0,
          10
         ],
         "ticklen": 8,
         "title": {
          "text": "X coordinate (dva)"
         },
         "type": "linear",
         "visible": true
        },
        "xaxis8": {
         "anchor": "y8",
         "domain": [
          0.42000000000000004,
          0.5800000000000001
         ],
         "linewidth": 2,
         "range": [
          0,
          10
         ],
         "ticklen": 8,
         "title": {
          "text": "X coordinate (dva)"
         },
         "visible": true
        },
        "xaxis9": {
         "anchor": "y9",
         "domain": [
          0.6300000000000001,
          0.7900000000000001
         ],
         "linewidth": 2,
         "range": [
          0,
          10
         ],
         "ticklen": 8,
         "title": {
          "text": "X coordinate (dva)"
         },
         "visible": true
        },
        "yaxis": {
         "anchor": "x",
         "domain": [
          0.6000000000000001,
          1
         ],
         "linewidth": 2,
         "range": [
          -2,
          8
         ],
         "ticklen": 8,
         "title": {
          "text": "Y coordinate (dva)"
         },
         "type": "linear",
         "visible": true
        },
        "yaxis10": {
         "anchor": "x10",
         "domain": [
          0,
          0.4
         ],
         "linewidth": 2,
         "range": [
          -2,
          8
         ],
         "ticklen": 8,
         "title": {
          "text": "Y coordinate (dva)"
         },
         "visible": true
        },
        "yaxis2": {
         "anchor": "x2",
         "domain": [
          0.6000000000000001,
          1
         ],
         "linewidth": 2,
         "range": [
          -2,
          8
         ],
         "ticklen": 8,
         "title": {
          "text": "Y coordinate (dva)"
         },
         "type": "linear",
         "visible": true
        },
        "yaxis3": {
         "anchor": "x3",
         "domain": [
          0.6000000000000001,
          1
         ],
         "linewidth": 2,
         "range": [
          -2,
          8
         ],
         "ticklen": 8,
         "title": {
          "text": "Y coordinate (dva)"
         },
         "type": "linear",
         "visible": true
        },
        "yaxis4": {
         "anchor": "x4",
         "domain": [
          0.6000000000000001,
          1
         ],
         "linewidth": 2,
         "range": [
          -2,
          8
         ],
         "ticklen": 8,
         "title": {
          "text": "Y coordinate (dva)"
         },
         "visible": true
        },
        "yaxis5": {
         "anchor": "x5",
         "domain": [
          0.6000000000000001,
          1
         ],
         "linewidth": 2,
         "range": [
          -2,
          8
         ],
         "ticklen": 8,
         "title": {
          "text": "Y coordinate (dva)"
         },
         "type": "linear",
         "visible": true
        },
        "yaxis6": {
         "anchor": "x6",
         "domain": [
          0,
          0.4
         ],
         "linewidth": 2,
         "range": [
          -2,
          8
         ],
         "ticklen": 8,
         "title": {
          "text": "Y coordinate (dva)"
         },
         "type": "linear",
         "visible": true
        },
        "yaxis7": {
         "anchor": "x7",
         "domain": [
          0,
          0.4
         ],
         "linewidth": 2,
         "range": [
          -2,
          8
         ],
         "ticklen": 8,
         "title": {
          "text": "Y coordinate (dva)"
         },
         "visible": true
        },
        "yaxis8": {
         "anchor": "x8",
         "domain": [
          0,
          0.4
         ],
         "linewidth": 2,
         "range": [
          -2,
          8
         ],
         "ticklen": 8,
         "title": {
          "text": "Y coordinate (dva)"
         },
         "visible": true
        },
        "yaxis9": {
         "anchor": "x9",
         "domain": [
          0,
          0.4
         ],
         "linewidth": 2,
         "range": [
          -2,
          8
         ],
         "ticklen": 8,
         "title": {
          "text": "Y coordinate (dva)"
         },
         "visible": true
        }
       }
      },
      "image/png": "[encoded data removed]",
      "text/html": [
       "<div>                            <div id=\"065c94fd-7bef-460d-9693-63f9580f630c\" class=\"plotly-graph-div\" style=\"height:600px; width:1450px;\"></div>            <script type=\"text/javascript\">                require([\"plotly\"], function(Plotly) {                    window.PLOTLYENV=window.PLOTLYENV || {};                                    if (document.getElementById(\"065c94fd-7bef-460d-9693-63f9580f630c\")) {                    Plotly.newPlot(                        \"065c94fd-7bef-460d-9693-63f9580f630c\",                        [{\"marker\":{\"color\":\"rgb(95, 70, 144)\",\"line\":{\"width\":0},\"opacity\":0.3,\"size\":8,\"symbol\":\"circle\"},\"mode\":\"markers\",\"name\":\"Steady 1\",\"x\":[4.893832649593703],\"y\":[4.304606609380178],\"type\":\"scatter\",\"xaxis\":\"x\",\"yaxis\":\"y\"},{\"marker\":{\"color\":\"rgb(95, 70, 144)\",\"line\":{\"width\":0},\"size\":15,\"symbol\":\"triangle-left\"},\"mode\":\"markers\",\"name\":\"Steady 1\",\"x\":[0.5],\"y\":[4.304606609380178],\"type\":\"scatter\",\"xaxis\":\"x\",\"yaxis\":\"y\"},{\"marker\":{\"color\":\"rgb(95, 70, 144)\",\"line\":{\"width\":0},\"size\":15,\"symbol\":\"triangle-down\"},\"mode\":\"markers\",\"name\":\"Steady 1\",\"x\":[4.893832649593703],\"y\":[-1.5],\"type\":\"scatter\",\"xaxis\":\"x\",\"yaxis\":\"y\"},{\"marker\":{\"color\":\"rgb(56, 166, 165)\",\"line\":{\"width\":0},\"opacity\":0.3,\"size\":8,\"symbol\":\"circle\"},\"mode\":\"markers\",\"name\":\"Steady 2\",\"x\":[4.008454217335911,3.8588427588163965,3.69153263245571],\"y\":[4.374611047575507,4.483449696951782,3.4269168179296656],\"type\":\"scatter\",\"xaxis\":\"x2\",\"yaxis\":\"y2\"},{\"marker\":{\"color\":\"rgb(56, 166, 165)\",\"line\":{\"width\":0},\"size\":15,\"symbol\":\"triangle-left\"},\"mode\":\"markers\",\"name\":\"Steady 2\",\"x\":[0.5],\"y\":[4.374611047575507],\"type\":\"scatter\",\"xaxis\":\"x2\",\"yaxis\":\"y2\"},{\"marker\":{\"color\":\"rgb(56, 166, 165)\",\"line\":{\"width\":0},\"size\":15,\"symbol\":\"triangle-down\"},\"mode\":\"markers\",\"name\":\"Steady 2\",\"x\":[3.8588427588163965],\"y\":[-1.5],\"type\":\"scatter\",\"xaxis\":\"x2\",\"yaxis\":\"y2\"},{\"marker\":{\"color\":\"rgb(15, 133, 84)\",\"line\":{\"width\":0},\"opacity\":0.3,\"size\":8,\"symbol\":\"circle\"},\"mode\":\"markers\",\"name\":\"Steady 3\",\"x\":[6.174990548287727,3.8023016609140443,3.880760316445281,4.251527043617148,3.505375473460906,2.1592304784088543],\"y\":[2.2176855176327877,3.907686997031232,3.555759083613245,3.740759658934861,4.220764261507796,3.9603755556497084],\"type\":\"scatter\",\"xaxis\":\"x3\",\"yaxis\":\"y3\"},{\"marker\":{\"color\":\"rgb(15, 133, 84)\",\"line\":{\"width\":0},\"size\":15,\"symbol\":\"triangle-left\"},\"mode\":\"markers\",\"name\":\"Steady 3\",\"x\":[0.5],\"y\":[3.8242233279830464],\"type\":\"scatter\",\"xaxis\":\"x3\",\"yaxis\":\"y3\"},{\"marker\":{\"color\":\"rgb(15, 133, 84)\",\"line\":{\"width\":0},\"size\":15,\"symbol\":\"triangle-down\"},\"mode\":\"markers\",\"name\":\"Steady 3\",\"x\":[3.8415309886796627],\"y\":[-1.5],\"type\":\"scatter\",\"xaxis\":\"x3\",\"yaxis\":\"y3\"},{\"marker\":{\"color\":\"rgb(115, 175, 72)\",\"line\":{\"width\":0},\"opacity\":0.3,\"size\":8,\"symbol\":\"circle\"},\"mode\":\"markers\",\"name\":\"Steady 4\",\"x\":[],\"y\":[],\"type\":\"scatter\",\"xaxis\":\"x4\",\"yaxis\":\"y4\"},{\"marker\":{\"color\":\"rgb(115, 175, 72)\",\"line\":{\"width\":0},\"size\":15,\"symbol\":\"triangle-left\"},\"mode\":\"markers\",\"name\":\"Steady 4\",\"x\":[0.5],\"y\":[null],\"type\":\"scatter\",\"xaxis\":\"x4\",\"yaxis\":\"y4\"},{\"marker\":{\"color\":\"rgb(115, 175, 72)\",\"line\":{\"width\":0},\"size\":15,\"symbol\":\"triangle-down\"},\"mode\":\"markers\",\"name\":\"Steady 4\",\"x\":[null],\"y\":[-1.5],\"type\":\"scatter\",\"xaxis\":\"x4\",\"yaxis\":\"y4\"},{\"marker\":{\"color\":\"rgb(237, 173, 8)\",\"line\":{\"width\":0},\"opacity\":0.3,\"size\":8,\"symbol\":\"circle\"},\"mode\":\"markers\",\"name\":\"Steady 5\",\"x\":[5.088835033068975,4.333838238432265,3.393458080209625],\"y\":[2.0607682065703106,2.6472982911731444,3.8292283414999906],\"type\":\"scatter\",\"xaxis\":\"x5\",\"yaxis\":\"y5\"},{\"marker\":{\"color\":\"rgb(237, 173, 8)\",\"line\":{\"width\":0},\"size\":15,\"symbol\":\"triangle-left\"},\"mode\":\"markers\",\"name\":\"Steady 5\",\"x\":[0.5],\"y\":[2.6472982911731444],\"type\":\"scatter\",\"xaxis\":\"x5\",\"yaxis\":\"y5\"},{\"marker\":{\"color\":\"rgb(237, 173, 8)\",\"line\":{\"width\":0},\"size\":15,\"symbol\":\"triangle-down\"},\"mode\":\"markers\",\"name\":\"Steady 5\",\"x\":[4.333838238432265],\"y\":[-1.5],\"type\":\"scatter\",\"xaxis\":\"x5\",\"yaxis\":\"y5\"},{\"marker\":{\"color\":\"rgb(225, 124, 5)\",\"line\":{\"width\":0},\"opacity\":0.3,\"size\":8,\"symbol\":\"circle\"},\"mode\":\"markers\",\"name\":\"Motion 5-4-3 (up)\",\"x\":[5.220764261507792,2.857303386878892],\"y\":[3.588843251949208,4.185375144705696],\"type\":\"scatter\",\"xaxis\":\"x6\",\"yaxis\":\"y6\"},{\"marker\":{\"color\":\"rgb(225, 124, 5)\",\"line\":{\"width\":0},\"size\":15,\"symbol\":\"triangle-left\"},\"mode\":\"markers\",\"name\":\"Motion 5-4-3 (up)\",\"x\":[0.5],\"y\":[3.887109198327452],\"type\":\"scatter\",\"xaxis\":\"x6\",\"yaxis\":\"y6\"},{\"marker\":{\"color\":\"rgb(225, 124, 5)\",\"line\":{\"width\":0},\"size\":15,\"symbol\":\"triangle-down\"},\"mode\":\"markers\",\"name\":\"Motion 5-4-3 (up)\",\"x\":[4.039033824193342],\"y\":[-1.5],\"type\":\"scatter\",\"xaxis\":\"x6\",\"yaxis\":\"y6\"},{\"marker\":{\"color\":\"rgb(148, 52, 110)\",\"line\":{\"width\":0},\"opacity\":0.3,\"size\":8,\"symbol\":\"circle\"},\"mode\":\"markers\",\"name\":\"Motion 1-2-3 (down)\",\"x\":[],\"y\":[],\"type\":\"scatter\",\"xaxis\":\"x7\",\"yaxis\":\"y7\"},{\"marker\":{\"color\":\"rgb(148, 52, 110)\",\"line\":{\"width\":0},\"size\":15,\"symbol\":\"triangle-left\"},\"mode\":\"markers\",\"name\":\"Motion 1-2-3 (down)\",\"x\":[0.5],\"y\":[null],\"type\":\"scatter\",\"xaxis\":\"x7\",\"yaxis\":\"y7\"},{\"marker\":{\"color\":\"rgb(148, 52, 110)\",\"line\":{\"width\":0},\"size\":15,\"symbol\":\"triangle-down\"},\"mode\":\"markers\",\"name\":\"Motion 1-2-3 (down)\",\"x\":[null],\"y\":[-1.5],\"type\":\"scatter\",\"xaxis\":\"x7\",\"yaxis\":\"y7\"}],                        {\"template\":{\"data\":{\"barpolar\":[{\"marker\":{\"line\":{\"color\":\"rgba(0,0,0,1)\",\"width\":1.5}},\"showlegend\":false,\"thetaunit\":\"radians\",\"type\":\"barpolar\"}],\"pie\":[{\"direction\":\"clockwise\",\"hole\":0.4,\"marker\":{\"line\":{\"color\":[\"rgba(0,0,0,1)\",\"rgba(255,255,255,0)\"],\"width\":[1.5,0]}},\"rotation\":0,\"showlegend\":false,\"sort\":false,\"textposition\":[\"inside\",\"none\"],\"type\":\"pie\"}],\"violin\":[{\"box\":{\"visible\":false},\"hoveron\":\"violins\",\"line\":{\"color\":\"rgba(0, 0, 0, 1)\",\"width\":1.5},\"marker\":{\"opacity\":0.5,\"symbol\":\"x\"},\"meanline\":{\"color\":\"rgba(0, 0, 0, 1)\",\"visible\":true,\"width\":1.5},\"opacity\":1,\"points\":false,\"showlegend\":false,\"width\":0.8,\"type\":\"violin\"}]},\"layout\":{\"annotationdefaults\":{\"font\":{\"color\":\"rgba(0, 0, 0, 1)\",\"family\":\"Helvetica\",\"size\":15}},\"font\":{\"family\":\"Helvetica\",\"size\":13},\"plot_bgcolor\":\"rgba(255, 255, 255, 1)\",\"polar\":{\"angularaxis\":{\"showticklabels\":false,\"ticks\":\"\",\"visible\":false},\"radialaxis\":{\"showticklabels\":false,\"ticks\":\"\",\"visible\":false}},\"xaxis\":{\"color\":\"rgba(0, 0, 0, 1)\",\"hoverformat\":\".1f\",\"linewidth\":2,\"range\":[0,1],\"showgrid\":false,\"tickfont\":{\"family\":\"Helvetica\",\"size\":13},\"ticklen\":8,\"ticks\":\"outside\",\"tickwidth\":2,\"title\":{\"font\":{\"family\":\"Helvetica\",\"size\":15}},\"visible\":true,\"zeroline\":false,\"zerolinecolor\":\"rgba(0, 0, 0, 1)\",\"zerolinewidth\":2},\"yaxis\":{\"color\":\"rgba(0, 0, 0, 1)\",\"hoverformat\":\".1f\",\"linewidth\":2,\"showgrid\":false,\"tickfont\":{\"family\":\"Helvetica\",\"size\":13},\"ticklen\":8,\"ticks\":\"outside\",\"tickwidth\":2,\"title\":{\"font\":{\"family\":\"Helvetica\",\"size\":15}},\"visible\":true,\"zeroline\":false,\"zerolinecolor\":\"rgba(0, 0, 0, 1)\",\"zerolinewidth\":2}}},\"xaxis\":{\"anchor\":\"y\",\"domain\":[0.0,0.16000000000000003],\"visible\":true,\"ticklen\":8,\"linewidth\":2,\"range\":[0,10],\"title\":{\"text\":\"X coordinate (dva)\"}},\"yaxis\":{\"anchor\":\"x\",\"domain\":[0.6000000000000001,1.0],\"visible\":true,\"ticklen\":8,\"linewidth\":2,\"range\":[-2,8],\"title\":{\"text\":\"Y coordinate (dva)\"}},\"xaxis2\":{\"anchor\":\"y2\",\"domain\":[0.21000000000000002,0.37000000000000005],\"visible\":true,\"ticklen\":8,\"linewidth\":2,\"range\":[0,10],\"title\":{\"text\":\"X coordinate (dva)\"}},\"yaxis2\":{\"anchor\":\"x2\",\"domain\":[0.6000000000000001,1.0],\"visible\":true,\"ticklen\":8,\"linewidth\":2,\"range\":[-2,8],\"title\":{\"text\":\"Y coordinate (dva)\"}},\"xaxis3\":{\"anchor\":\"y3\",\"domain\":[0.42000000000000004,0.5800000000000001],\"visible\":true,\"ticklen\":8,\"linewidth\":2,\"range\":[0,10],\"title\":{\"text\":\"X coordinate (dva)\"}},\"yaxis3\":{\"anchor\":\"x3\",\"domain\":[0.6000000000000001,1.0],\"visible\":true,\"ticklen\":8,\"linewidth\":2,\"range\":[-2,8],\"title\":{\"text\":\"Y coordinate (dva)\"}},\"xaxis4\":{\"anchor\":\"y4\",\"domain\":[0.6300000000000001,0.7900000000000001],\"visible\":true,\"ticklen\":8,\"linewidth\":2,\"range\":[0,10],\"title\":{\"text\":\"X coordinate (dva)\"}},\"yaxis4\":{\"anchor\":\"x4\",\"domain\":[0.6000000000000001,1.0],\"visible\":true,\"ticklen\":8,\"linewidth\":2,\"range\":[-2,8],\"title\":{\"text\":\"Y coordinate (dva)\"}},\"xaxis5\":{\"anchor\":\"y5\",\"domain\":[0.8400000000000001,1.0],\"visible\":true,\"ticklen\":8,\"linewidth\":2,\"range\":[0,10],\"title\":{\"text\":\"X coordinate (dva)\"}},\"yaxis5\":{\"anchor\":\"x5\",\"domain\":[0.6000000000000001,1.0],\"visible\":true,\"ticklen\":8,\"linewidth\":2,\"range\":[-2,8],\"title\":{\"text\":\"Y coordinate (dva)\"}},\"xaxis6\":{\"anchor\":\"y6\",\"domain\":[0.0,0.16000000000000003],\"visible\":true,\"ticklen\":8,\"linewidth\":2,\"range\":[0,10],\"title\":{\"text\":\"X coordinate (dva)\"}},\"yaxis6\":{\"anchor\":\"x6\",\"domain\":[0.0,0.4],\"visible\":true,\"ticklen\":8,\"linewidth\":2,\"range\":[-2,8],\"title\":{\"text\":\"Y coordinate (dva)\"}},\"xaxis7\":{\"anchor\":\"y7\",\"domain\":[0.21000000000000002,0.37000000000000005],\"visible\":true,\"ticklen\":8,\"linewidth\":2,\"range\":[0,10],\"title\":{\"text\":\"X coordinate (dva)\"}},\"yaxis7\":{\"anchor\":\"x7\",\"domain\":[0.0,0.4],\"visible\":true,\"ticklen\":8,\"linewidth\":2,\"range\":[-2,8],\"title\":{\"text\":\"Y coordinate (dva)\"}},\"xaxis8\":{\"anchor\":\"y8\",\"domain\":[0.42000000000000004,0.5800000000000001],\"visible\":true,\"ticklen\":8,\"linewidth\":2,\"range\":[0,10],\"title\":{\"text\":\"X coordinate (dva)\"}},\"yaxis8\":{\"anchor\":\"x8\",\"domain\":[0.0,0.4],\"visible\":true,\"ticklen\":8,\"linewidth\":2,\"range\":[-2,8],\"title\":{\"text\":\"Y coordinate (dva)\"}},\"xaxis9\":{\"anchor\":\"y9\",\"domain\":[0.6300000000000001,0.7900000000000001],\"visible\":true,\"ticklen\":8,\"linewidth\":2,\"range\":[0,10],\"title\":{\"text\":\"X coordinate (dva)\"}},\"yaxis9\":{\"anchor\":\"x9\",\"domain\":[0.0,0.4],\"visible\":true,\"ticklen\":8,\"linewidth\":2,\"range\":[-2,8],\"title\":{\"text\":\"Y coordinate (dva)\"}},\"xaxis10\":{\"anchor\":\"y10\",\"domain\":[0.8400000000000001,1.0],\"visible\":true,\"ticklen\":8,\"linewidth\":2,\"range\":[0,10],\"title\":{\"text\":\"X coordinate (dva)\"}},\"yaxis10\":{\"anchor\":\"x10\",\"domain\":[0.0,0.4],\"visible\":true,\"ticklen\":8,\"linewidth\":2,\"range\":[-2,8],\"title\":{\"text\":\"Y coordinate (dva)\"}},\"annotations\":[{\"font\":{\"size\":13},\"showarrow\":false,\"text\":\"Steady 1\",\"x\":1.05,\"xanchor\":\"left\",\"xref\":\"paper\",\"y\":0.97,\"yanchor\":\"middle\",\"yref\":\"paper\"},{\"font\":{\"size\":13},\"showarrow\":false,\"text\":\"Steady 2\",\"x\":1.05,\"xanchor\":\"left\",\"xref\":\"paper\",\"y\":0.9099999999999999,\"yanchor\":\"middle\",\"yref\":\"paper\"},{\"font\":{\"size\":13},\"showarrow\":false,\"text\":\"Steady 3\",\"x\":1.05,\"xanchor\":\"left\",\"xref\":\"paper\",\"y\":0.85,\"yanchor\":\"middle\",\"yref\":\"paper\"},{\"font\":{\"size\":13},\"showarrow\":false,\"text\":\"Steady 4\",\"x\":1.05,\"xanchor\":\"left\",\"xref\":\"paper\",\"y\":0.79,\"yanchor\":\"middle\",\"yref\":\"paper\"},{\"font\":{\"size\":13},\"showarrow\":false,\"text\":\"Steady 5\",\"x\":1.05,\"xanchor\":\"left\",\"xref\":\"paper\",\"y\":0.73,\"yanchor\":\"middle\",\"yref\":\"paper\"},{\"font\":{\"size\":13},\"showarrow\":false,\"text\":\"Motion 5-4-3 (up)\",\"x\":0.42,\"xanchor\":\"left\",\"xref\":\"paper\",\"y\":0.36,\"yanchor\":\"middle\",\"yref\":\"paper\"},{\"font\":{\"size\":13},\"showarrow\":false,\"text\":\"Motion 1-2-3 (down)\",\"x\":0.42,\"xanchor\":\"left\",\"xref\":\"paper\",\"y\":0.3,\"yanchor\":\"middle\",\"yref\":\"paper\"},{\"font\":{\"size\":15},\"showarrow\":false,\"text\":\"<b>Steady sequences: saccade offset<b>\",\"x\":0,\"xanchor\":\"left\",\"xref\":\"paper\",\"y\":1.03,\"yanchor\":\"middle\",\"yref\":\"paper\"},{\"font\":{\"size\":15},\"showarrow\":false,\"text\":\"<b>Motion sequences: saccade offset<b>\",\"x\":0,\"xanchor\":\"left\",\"xref\":\"paper\",\"y\":0.43,\"yanchor\":\"middle\",\"yref\":\"paper\"}],\"shapes\":[{\"fillcolor\":\"rgb(95, 70, 144)\",\"line\":{\"width\":0},\"opacity\":0.3,\"type\":\"circle\",\"x0\":1.0227272727272727,\"x1\":1.0372727272727273,\"xref\":\"paper\",\"y0\":0.95,\"y1\":0.99,\"yref\":\"paper\"},{\"opacity\":0.25,\"type\":\"line\",\"x0\":5,\"x1\":5,\"xref\":\"x\",\"y0\":0,\"y1\":1,\"yref\":\"y domain\"},{\"opacity\":0.25,\"type\":\"line\",\"x0\":0,\"x1\":1,\"xref\":\"x domain\",\"y0\":4,\"y1\":4,\"yref\":\"y\"},{\"fillcolor\":\"rgb(56, 166, 165)\",\"line\":{\"width\":0},\"opacity\":0.3,\"type\":\"circle\",\"x0\":1.0227272727272727,\"x1\":1.0372727272727273,\"xref\":\"paper\",\"y0\":0.8899999999999999,\"y1\":0.9299999999999999,\"yref\":\"paper\"},{\"opacity\":0.25,\"type\":\"line\",\"x0\":5,\"x1\":5,\"xref\":\"x2\",\"y0\":0,\"y1\":1,\"yref\":\"y2 domain\"},{\"opacity\":0.25,\"type\":\"line\",\"x0\":0,\"x1\":1,\"xref\":\"x2 domain\",\"y0\":3.5,\"y1\":3.5,\"yref\":\"y2\"},{\"fillcolor\":\"rgb(15, 133, 84)\",\"line\":{\"width\":0},\"opacity\":0.3,\"type\":\"circle\",\"x0\":1.0227272727272727,\"x1\":1.0372727272727273,\"xref\":\"paper\",\"y0\":0.83,\"y1\":0.87,\"yref\":\"paper\"},{\"opacity\":0.25,\"type\":\"line\",\"x0\":5,\"x1\":5,\"xref\":\"x3\",\"y0\":0,\"y1\":1,\"yref\":\"y3 domain\"},{\"opacity\":0.25,\"type\":\"line\",\"x0\":0,\"x1\":1,\"xref\":\"x3 domain\",\"y0\":3,\"y1\":3,\"yref\":\"y3\"},{\"fillcolor\":\"rgb(115, 175, 72)\",\"line\":{\"width\":0},\"opacity\":0.3,\"type\":\"circle\",\"x0\":1.0227272727272727,\"x1\":1.0372727272727273,\"xref\":\"paper\",\"y0\":0.77,\"y1\":0.81,\"yref\":\"paper\"},{\"opacity\":0.25,\"type\":\"line\",\"x0\":5,\"x1\":5,\"xref\":\"x4\",\"y0\":0,\"y1\":1,\"yref\":\"y4 domain\"},{\"opacity\":0.25,\"type\":\"line\",\"x0\":0,\"x1\":1,\"xref\":\"x4 domain\",\"y0\":2.5,\"y1\":2.5,\"yref\":\"y4\"},{\"fillcolor\":\"rgb(237, 173, 8)\",\"line\":{\"width\":0},\"opacity\":0.3,\"type\":\"circle\",\"x0\":1.0227272727272727,\"x1\":1.0372727272727273,\"xref\":\"paper\",\"y0\":0.71,\"y1\":0.75,\"yref\":\"paper\"},{\"opacity\":0.25,\"type\":\"line\",\"x0\":5,\"x1\":5,\"xref\":\"x5\",\"y0\":0,\"y1\":1,\"yref\":\"y5 domain\"},{\"opacity\":0.25,\"type\":\"line\",\"x0\":0,\"x1\":1,\"xref\":\"x5 domain\",\"y0\":2,\"y1\":2,\"yref\":\"y5\"},{\"fillcolor\":\"rgb(225, 124, 5)\",\"line\":{\"width\":0},\"opacity\":0.3,\"type\":\"circle\",\"x0\":0.3927272727272727,\"x1\":0.40727272727272723,\"xref\":\"paper\",\"y0\":0.33999999999999997,\"y1\":0.38,\"yref\":\"paper\"},{\"opacity\":0.25,\"type\":\"line\",\"x0\":5,\"x1\":5,\"xref\":\"x6\",\"y0\":0,\"y1\":1,\"yref\":\"y6 domain\"},{\"opacity\":0.25,\"type\":\"line\",\"x0\":0,\"x1\":1,\"xref\":\"x6 domain\",\"y0\":3,\"y1\":3,\"yref\":\"y6\"},{\"fillcolor\":\"rgb(148, 52, 110)\",\"line\":{\"width\":0},\"opacity\":0.3,\"type\":\"circle\",\"x0\":0.3927272727272727,\"x1\":0.40727272727272723,\"xref\":\"paper\",\"y0\":0.27999999999999997,\"y1\":0.32,\"yref\":\"paper\"},{\"opacity\":0.25,\"type\":\"line\",\"x0\":5,\"x1\":5,\"xref\":\"x7\",\"y0\":0,\"y1\":1,\"yref\":\"y7 domain\"},{\"opacity\":0.25,\"type\":\"line\",\"x0\":0,\"x1\":1,\"xref\":\"x7 domain\",\"y0\":3,\"y1\":3,\"yref\":\"y7\"}],\"margin\":{\"l\":50,\"r\":200,\"t\":50,\"b\":100},\"width\":1450,\"height\":600,\"barmode\":\"stack\",\"showlegend\":false},                        {\"responsive\": true}                    ).then(function(){\n",
       "                            \n",
       "var gd = document.getElementById('065c94fd-7bef-460d-9693-63f9580f630c');\n",
       "var x = new MutationObserver(function (mutations, observer) {{\n",
       "        var display = window.getComputedStyle(gd).display;\n",
       "        if (!display || display === 'none') {{\n",
       "            console.log([gd, 'removed!']);\n",
       "            Plotly.purge(gd);\n",
       "            observer.disconnect();\n",
       "        }}\n",
       "}});\n",
       "\n",
       "// Listen for the removal of the full notebook cells\n",
       "var notebookContainer = gd.closest('#notebook-container');\n",
       "if (notebookContainer) {{\n",
       "    x.observe(notebookContainer, {childList: true});\n",
       "}}\n",
       "\n",
       "// Listen for the clearing of the current output cell\n",
       "var outputEl = gd.closest('.output');\n",
       "if (outputEl) {{\n",
       "    x.observe(outputEl, {childList: true});\n",
       "}}\n",
       "\n",
       "                        })                };                });            </script>        </div>"
      ]
     },
     "metadata": {},
     "output_type": "display_data"
    }
   ],
   "source": [
    "# subplot settings\n",
    "rows, cols = 2, 5\n",
    "leg_mergin = 200\n",
    "fig_height, fig_width = 600,250*cols+leg_mergin\n",
    "column_widths,row_heights = [1,1,1,1,1],[1,1]\n",
    "sb_specs = [[{},{},{},{},{}],[{},{},{},{},{}]]\n",
    "fig = make_subplots(rows=rows, cols=cols, print_grid=False, vertical_spacing=0.2, horizontal_spacing=0.05, \n",
    "                    column_widths=column_widths, row_heights=row_heights)\n",
    "\n",
    "x_legend_top = 1.05\n",
    "x_legend_bot = 0.42\n",
    "y_legend_step = 0.06\n",
    "y_legend_top = 0.97\n",
    "y_legend_bot = 0.36\n",
    "rad_leg = 0.04\n",
    "\n",
    "# Trials sequence\n",
    "# ---------------\n",
    "for ts_num, ts in enumerate(tss):\n",
    "    # row/col selection\n",
    "    if ts_num == 0:   row_val, col_val, y_line = 1, 1, 4\n",
    "    elif ts_num == 1: row_val, col_val, y_line = 1, 2, 3.5\n",
    "    elif ts_num == 2: row_val, col_val, y_line = 1, 3, 3\n",
    "    elif ts_num == 3: row_val, col_val, y_line = 1, 4, 2.5\n",
    "    elif ts_num == 4: row_val, col_val, y_line = 1, 5, 2\n",
    "    elif ts_num == 5: row_val, col_val, y_line = 2, 1, 3\n",
    "    elif ts_num == 6: row_val, col_val, y_line = 2, 2, 3\n",
    "        \n",
    "    # plot\n",
    "    df_cond = df_all.loc[(df_all.main_sac_trial == 1) & (df_all.trial_sequence == ts_num+1)] \n",
    "    fig.append_trace(go.Scatter(x=(df_cond['sac_x_offset_trial']-df_cond['jitter_x_trial']).abs(),\n",
    "                                y=df_cond['sac_y_offset_trial']-df_cond['jitter_y_trial'],\n",
    "                                name=ts, mode='markers',marker_color=ts_cols[ts_num],marker_size=8,marker_opacity=0.3,\n",
    "                                marker_line_width=0,marker_symbol='circle'),row=row_val, col=col_val)\n",
    "    \n",
    "    # median\n",
    "    fig.append_trace(go.Scatter(x=np.array(0.5),\n",
    "                                y=np.array((df_cond['sac_y_offset_trial']-df_cond['jitter_y_trial']).median()),\n",
    "                                name=ts, mode='markers',marker_color=ts_cols[ts_num],marker_size=15,\n",
    "                                marker_line_width=0,marker_symbol='triangle-left'),row=row_val, col=col_val)\n",
    "    fig.append_trace(go.Scatter(x=np.array((df_cond['sac_x_offset_trial']-df_cond['jitter_x_trial']).abs().median()),\n",
    "                                y=np.array(-1.5),\n",
    "                                name=ts, mode='markers',marker_color=ts_cols[ts_num],marker_size=15,\n",
    "                                marker_line_width=0,marker_symbol='triangle-down'),row=row_val, col=col_val)\n",
    "    \n",
    "    # legend\n",
    "    if ts_num < 5:\n",
    "        fig.add_annotation(xref='paper', yref='paper', x=x_legend_top, y=y_legend_top-(y_legend_step*ts_num), \n",
    "                           text=ts, showarrow=False, font_size = template_specs['axes_font_size'], xanchor = 'left', yanchor='middle')\n",
    "        fig.add_shape(type='circle',xref='paper', yref='paper', fillcolor=ts_cols[ts_num],line_width=0, opacity=0.3,\n",
    "                      x0=x_legend_top-0.02-rad_leg/5.5, y0=y_legend_top-y_legend_step*ts_num-rad_leg/2, \n",
    "                      x1=x_legend_top-0.02+rad_leg/5.5, y1=y_legend_top-y_legend_step*ts_num+rad_leg/2)\n",
    "    else:\n",
    "        fig.add_annotation(xref='paper', yref='paper', x=x_legend_bot, y=y_legend_bot-(y_legend_step*(ts_num-5)), \n",
    "                           text=ts, showarrow=False, font_size = template_specs['axes_font_size'], xanchor = 'left', yanchor='middle')\n",
    "        fig.add_shape(type='circle',xref='paper', yref='paper', fillcolor=ts_cols[ts_num],line_width=0, opacity=0.3,\n",
    "                      x0=x_legend_bot-0.02-rad_leg/5.5, y0=y_legend_bot-y_legend_step*(ts_num-5)-rad_leg/2, \n",
    "                      x1=x_legend_bot-0.02+rad_leg/5.5, y1=y_legend_bot-y_legend_step*(ts_num-5)+rad_leg/2)\n",
    "\n",
    "    # legend line\n",
    "    fig.add_vline(x=5, opacity=0.25, row=row_val, col=col_val)\n",
    "    fig.add_hline(y=y_line, opacity=0.25, row=row_val, col=col_val)\n",
    "\n",
    "# Figure title\n",
    "fig.add_annotation(xref='paper', yref='paper', x=0, y=1.03, text='<b>Steady sequences: saccade offset<b>', \n",
    "                   showarrow=False, font_size = template_specs['title_font_size'], xanchor = 'left', yanchor='middle')\n",
    "fig.add_annotation(xref='paper', yref='paper', x=0, y=0.43, text='<b>Motion sequences: saccade offset<b>',  \n",
    "                   showarrow=False, font_size = template_specs['title_font_size'], xanchor = 'left', yanchor='middle')\n",
    "\n",
    "#x axes settings\n",
    "for row in np.arange(rows):\n",
    "    for col in np.arange(cols):\n",
    "        fig.update_xaxes(visible=True, ticklen=8, linewidth=template_specs['axes_width'], range=[0,10], title='X coordinate (dva)', row=row+1, col=col+1)\n",
    "        fig.update_yaxes(visible=True, ticklen=8, linewidth=template_specs['axes_width'], range=[-2,8], title='Y coordinate (dva)',row=row+1, col=col+1)\n",
    "\n",
    "fig.layout.update(template=fig_template, width=fig_width, height=fig_height, margin_l=50, margin_r=leg_mergin, margin_t=50, margin_b=100, barmode='stack', showlegend=False)    \n",
    "fig.show()\n",
    "if not os.path.exists(fig_dir):os.mkdir(fig_dir)\n",
    "fig.write_image('{}/{}_saccade_landing_sequence.pdf'.format(fig_dir, subject))"
   ]
  },
  {
   "cell_type": "markdown",
   "id": "20217e2f-eab0-4682-8340-6a4ac8bbfbcb",
   "metadata": {},
   "source": [
    "#### Saccade y landing distribution"
   ]
  },
  {
   "cell_type": "code",
   "execution_count": 147,
   "id": "472fe69e-cb26-4123-b1d9-c8c03f452f9e",
   "metadata": {},
   "outputs": [
    {
     "name": "stderr",
     "output_type": "stream",
     "text": [
      "/opt/jupyterlab/lab_env/fmri_lab/lib/python3.7/site-packages/scipy/stats/_continuous_distns.py:366: RuntimeWarning:\n",
      "\n",
      "Mean of empty slice.\n",
      "\n",
      "/opt/jupyterlab/lab_env/fmri_lab/lib/python3.7/site-packages/numpy/core/_methods.py:189: RuntimeWarning:\n",
      "\n",
      "invalid value encountered in double_scalars\n",
      "\n",
      "/opt/jupyterlab/lab_env/fmri_lab/lib/python3.7/site-packages/scipy/stats/_continuous_distns.py:371: RuntimeWarning:\n",
      "\n",
      "Mean of empty slice.\n",
      "\n",
      "/opt/jupyterlab/lab_env/fmri_lab/lib/python3.7/site-packages/scipy/stats/_distn_infrastructure.py:1870: RuntimeWarning:\n",
      "\n",
      "divide by zero encountered in true_divide\n",
      "\n"
     ]
    },
    {
     "ename": "RuntimeError",
     "evalue": "The data contains non-finite values.",
     "output_type": "error",
     "traceback": [
      "\u001b[0;31m---------------------------------------------------------------------------\u001b[0m",
      "\u001b[0;31mRuntimeError\u001b[0m                              Traceback (most recent call last)",
      "\u001b[0;32m/tmp/ipykernel_9609/3584583222.py\u001b[0m in \u001b[0;36m<module>\u001b[0;34m\u001b[0m\n\u001b[1;32m     75\u001b[0m                                 marker_line_width=0,marker_symbol='circle'),row=row_val, col=1)\n\u001b[1;32m     76\u001b[0m \u001b[0;34m\u001b[0m\u001b[0m\n\u001b[0;32m---> 77\u001b[0;31m     \u001b[0;34m(\u001b[0m\u001b[0mmu_norm\u001b[0m\u001b[0;34m,\u001b[0m \u001b[0msigma_norm\u001b[0m\u001b[0;34m)\u001b[0m \u001b[0;34m=\u001b[0m \u001b[0mnorm\u001b[0m\u001b[0;34m.\u001b[0m\u001b[0mfit\u001b[0m\u001b[0;34m(\u001b[0m\u001b[0mdf_cond\u001b[0m\u001b[0;34m.\u001b[0m\u001b[0mcorrected_y_offset\u001b[0m\u001b[0;34m)\u001b[0m\u001b[0;34m\u001b[0m\u001b[0;34m\u001b[0m\u001b[0m\n\u001b[0m\u001b[1;32m     78\u001b[0m     \u001b[0my_gauss_norm\u001b[0m \u001b[0;34m=\u001b[0m \u001b[0mnorm\u001b[0m\u001b[0;34m.\u001b[0m\u001b[0mpdf\u001b[0m\u001b[0;34m(\u001b[0m\u001b[0mx_gauss\u001b[0m\u001b[0;34m,\u001b[0m\u001b[0mmu_norm\u001b[0m\u001b[0;34m,\u001b[0m\u001b[0msigma_norm\u001b[0m\u001b[0;34m)\u001b[0m\u001b[0;34m\u001b[0m\u001b[0;34m\u001b[0m\u001b[0m\n\u001b[1;32m     79\u001b[0m     fig.append_trace(go.Scatter(x=x_gauss,\n",
      "\u001b[0;32m/opt/jupyterlab/lab_env/fmri_lab/lib/python3.7/site-packages/scipy/stats/_continuous_distns.py\u001b[0m in \u001b[0;36mwrapper\u001b[0;34m(self, *args, **kwds)\u001b[0m\n\u001b[1;32m     60\u001b[0m             \u001b[0;32mreturn\u001b[0m \u001b[0msuper\u001b[0m\u001b[0;34m(\u001b[0m\u001b[0mtype\u001b[0m\u001b[0;34m(\u001b[0m\u001b[0mself\u001b[0m\u001b[0;34m)\u001b[0m\u001b[0;34m,\u001b[0m \u001b[0mself\u001b[0m\u001b[0;34m)\u001b[0m\u001b[0;34m.\u001b[0m\u001b[0mfit\u001b[0m\u001b[0;34m(\u001b[0m\u001b[0;34m*\u001b[0m\u001b[0margs\u001b[0m\u001b[0;34m,\u001b[0m \u001b[0;34m**\u001b[0m\u001b[0mkwds\u001b[0m\u001b[0;34m)\u001b[0m\u001b[0;34m\u001b[0m\u001b[0;34m\u001b[0m\u001b[0m\n\u001b[1;32m     61\u001b[0m         \u001b[0;32melse\u001b[0m\u001b[0;34m:\u001b[0m\u001b[0;34m\u001b[0m\u001b[0;34m\u001b[0m\u001b[0m\n\u001b[0;32m---> 62\u001b[0;31m             \u001b[0;32mreturn\u001b[0m \u001b[0mfun\u001b[0m\u001b[0;34m(\u001b[0m\u001b[0mself\u001b[0m\u001b[0;34m,\u001b[0m \u001b[0;34m*\u001b[0m\u001b[0margs\u001b[0m\u001b[0;34m,\u001b[0m \u001b[0;34m**\u001b[0m\u001b[0mkwds\u001b[0m\u001b[0;34m)\u001b[0m\u001b[0;34m\u001b[0m\u001b[0;34m\u001b[0m\u001b[0m\n\u001b[0m\u001b[1;32m     63\u001b[0m     \u001b[0;32mreturn\u001b[0m \u001b[0mwrapper\u001b[0m\u001b[0;34m\u001b[0m\u001b[0;34m\u001b[0m\u001b[0m\n\u001b[1;32m     64\u001b[0m \u001b[0;34m\u001b[0m\u001b[0m\n",
      "\u001b[0;32m/opt/jupyterlab/lab_env/fmri_lab/lib/python3.7/site-packages/scipy/stats/_continuous_distns.py\u001b[0m in \u001b[0;36mfit\u001b[0;34m(self, data, **kwds)\u001b[0m\n\u001b[1;32m    361\u001b[0m \u001b[0;34m\u001b[0m\u001b[0m\n\u001b[1;32m    362\u001b[0m         \u001b[0;32mif\u001b[0m \u001b[0;32mnot\u001b[0m \u001b[0mnp\u001b[0m\u001b[0;34m.\u001b[0m\u001b[0misfinite\u001b[0m\u001b[0;34m(\u001b[0m\u001b[0mdata\u001b[0m\u001b[0;34m)\u001b[0m\u001b[0;34m.\u001b[0m\u001b[0mall\u001b[0m\u001b[0;34m(\u001b[0m\u001b[0;34m)\u001b[0m\u001b[0;34m:\u001b[0m\u001b[0;34m\u001b[0m\u001b[0;34m\u001b[0m\u001b[0m\n\u001b[0;32m--> 363\u001b[0;31m             \u001b[0;32mraise\u001b[0m \u001b[0mRuntimeError\u001b[0m\u001b[0;34m(\u001b[0m\u001b[0;34m\"The data contains non-finite values.\"\u001b[0m\u001b[0;34m)\u001b[0m\u001b[0;34m\u001b[0m\u001b[0;34m\u001b[0m\u001b[0m\n\u001b[0m\u001b[1;32m    364\u001b[0m \u001b[0;34m\u001b[0m\u001b[0m\n\u001b[1;32m    365\u001b[0m         \u001b[0;32mif\u001b[0m \u001b[0mfloc\u001b[0m \u001b[0;32mis\u001b[0m \u001b[0;32mNone\u001b[0m\u001b[0;34m:\u001b[0m\u001b[0;34m\u001b[0m\u001b[0;34m\u001b[0m\u001b[0m\n",
      "\u001b[0;31mRuntimeError\u001b[0m: The data contains non-finite values."
     ]
    }
   ],
   "source": [
    "# subplot settings\n",
    "rows, cols = 2, 2\n",
    "leg_mergin = 200\n",
    "fig_height, fig_width = 600,500*cols+leg_mergin\n",
    "column_widths,row_heights = [1,1],[1,1]\n",
    "sb_specs = [[{},{}],[{},{}]]\n",
    "fig = make_subplots(rows=rows, cols=cols, print_grid=False, vertical_spacing=0.2, horizontal_spacing=0.08, \n",
    "                    column_widths=column_widths, row_heights=row_heights)\n",
    "\n",
    "x_range = [-2,9]\n",
    "x_range_norm = [-1,2]\n",
    "y_range = [0,1]\n",
    "x_gauss = np.linspace(x_range[0], x_range[1], 100)\n",
    "x_gauss_norm = np.linspace(x_range_norm[0], x_range_norm[1], 100)\n",
    "\n",
    "# Figure title\n",
    "fig.add_annotation(xref='paper', yref='paper', x=0, y=1.03, text='<b>Steady sequences: vertical saccade offset (real & corrected)<b>', \n",
    "                   showarrow=False, font_size = template_specs['title_font_size'], xanchor = 'left', yanchor='middle')\n",
    "fig.add_annotation(xref='paper', yref='paper', x=0, y=0.43, text='<b>Motion sequences: vertical saccade offset (real & corrected)<b>',  \n",
    "                   showarrow=False, font_size = template_specs['title_font_size'], xanchor = 'left', yanchor='middle')\n",
    "\n",
    "# compute values corrected in space as a function of steady condition\n",
    "# 1. fit gaussian on steady condition\n",
    "mu_steady, sigma_steady = np.zeros(5), np.zeros(5)\n",
    "for steady_seq in np.arange(0,5):\n",
    "    df_steady = df_all.loc[(df_all.main_sac_trial == 1) & (df_all.trial_sequence == steady_seq+1)]\n",
    "    mu_steady[steady_seq], sigma_steady[steady_seq] = norm.fit(df_steady['sac_y_offset_trial']-df_steady['jitter_y_trial'])\n",
    "\n",
    "# 2. fit linear regression between 5 values\n",
    "real_steady = np.array([4, 3.5, 3, 2.5, 2])\n",
    "slope, intercept, r, p, se = linregress(real_steady, mu_steady)\n",
    "\n",
    "# 3. normalize values between regressed min and max value\n",
    "min_norm, max_norm = intercept + slope*real_steady[4], intercept + slope*real_steady[0]\n",
    "range_norm = max_norm-min_norm\n",
    "val_to_norm = df_all['sac_y_offset_trial']-df_all['jitter_y_trial']\n",
    "norm_val = (val_to_norm-min_norm)/range_norm\n",
    "\n",
    "# 3. put values in between presented min and max real y value \n",
    "corrected_val = (norm_val*real_steady[4])+(real_steady[0]-real_steady[4])\n",
    "df_all = df_all.assign(corrected_y_offset=corrected_val)\n",
    "\n",
    "for ts_num, ts in enumerate(tss):\n",
    "    # row/col and data selection\n",
    "    if ts_num == 0:   row_val, y_line = 1, 4\n",
    "    elif ts_num == 1: row_val, y_line = 1, 3.5\n",
    "    elif ts_num == 2: row_val, y_line = 1, 3\n",
    "    elif ts_num == 3: row_val, y_line = 1, 2.5\n",
    "    elif ts_num == 4: row_val, y_line = 1, 2\n",
    "    elif ts_num == 5: row_val, y_line = 2, 3\n",
    "    elif ts_num == 6: row_val, y_line = 2, 3\n",
    "\n",
    "    df_cond = df_all.loc[(df_all.main_sac_trial == 1) & \n",
    "                         (df_all.trial_sequence == ts_num+1)\n",
    "                                ] \n",
    "        \n",
    "    # plot\n",
    "    fig.append_trace(go.Histogram(x=df_cond['sac_y_offset_trial']-df_cond['jitter_y_trial'],\n",
    "                                  name=ts,\n",
    "                                  marker_color=ts_cols[ts_num], \n",
    "                                  marker_opacity=0.3, histnorm='probability density',\n",
    "                                  xbins_size = 0.25),row=row_val, col=1)\n",
    "    fig.append_trace(go.Histogram(x=df_cond.corrected_y_offset,\n",
    "                                  name=ts,\n",
    "                                  marker_color=ts_cols[ts_num], \n",
    "                                  marker_opacity=0.3, histnorm='probability density',\n",
    "                                  xbins_size = 0.25),row=row_val, col=2)\n",
    "\n",
    "    # fit and plot gaussian\n",
    "    (mu, sigma) = norm.fit(df_cond['sac_y_offset_trial']-df_cond['jitter_y_trial'])\n",
    "    y_gauss = norm.pdf(x_gauss,mu,sigma)\n",
    "    fig.append_trace(go.Scatter(x=x_gauss,\n",
    "                                y=y_gauss,\n",
    "                                mode='lines', line_color=ts_cols[ts_num], \n",
    "                                marker_line_width=0,marker_symbol='circle'),row=row_val, col=1)\n",
    "    \n",
    "    (mu_norm, sigma_norm) = norm.fit(df_cond.corrected_y_offset)\n",
    "    y_gauss_norm = norm.pdf(x_gauss,mu_norm,sigma_norm)\n",
    "    fig.append_trace(go.Scatter(x=x_gauss,\n",
    "                                y=y_gauss_norm,\n",
    "                                mode='lines', line_color=ts_cols[ts_num], \n",
    "                                marker_line_width=0,marker_symbol='circle'),row=row_val, col=2)\n",
    "    \n",
    "    # legend\n",
    "    if ts_num < 5:\n",
    "        fig.add_annotation(xref='paper', yref='paper', x=x_legend_top, y=y_legend_top-(y_legend_step*ts_num), \n",
    "                           text=ts, showarrow=False, font_size = template_specs['axes_font_size'], xanchor = 'left', yanchor='middle')\n",
    "        fig.add_shape(type='rect',xref='paper', yref='paper', fillcolor=ts_cols[ts_num],line_width=0, opacity=0.3,\n",
    "                      x0=x_legend_top-0.025-rad_leg/4, y0=y_legend_top-y_legend_step*ts_num-rad_leg/2, \n",
    "                      x1=x_legend_top-0.025+rad_leg/4, y1=y_legend_top-y_legend_step*ts_num+rad_leg/2)\n",
    "    else:\n",
    "        fig.add_annotation(xref='paper', yref='paper', x=x_legend_top, y=y_legend_bot-(y_legend_step*(ts_num-5)), \n",
    "                           text=ts, showarrow=False, font_size = template_specs['axes_font_size'], xanchor = 'left', yanchor='middle')\n",
    "        fig.add_shape(type='rect',xref='paper', yref='paper', fillcolor=ts_cols[ts_num],line_width=0, opacity=0.3,\n",
    "                      x0=x_legend_top-0.025-rad_leg/4, y0=y_legend_bot-y_legend_step*(ts_num-5)-rad_leg/2, \n",
    "                      x1=x_legend_top-0.025+rad_leg/4, y1=y_legend_bot-y_legend_step*(ts_num-5)+rad_leg/2)\n",
    "\n",
    "    fig.add_vline(x=y_line, opacity=0.25, row=row_val, col=1)\n",
    "    fig.add_vline(x=y_line, opacity=0.25, row=row_val, col=2)\n",
    "    \n",
    "# axes settings\n",
    "for row in np.arange(rows):\n",
    "    for col in np.arange(cols):                    \n",
    "        if col == 0: x_title = 'Y coordinate (dva)'\n",
    "        elif col == 1: x_title = 'Y corrected coordinate (dva)'\n",
    "        fig.update_xaxes(visible=True, ticklen=8, linewidth=template_specs['axes_width'], range=x_range, title=x_title, row=row+1, col=col+1)\n",
    "        fig.update_yaxes(visible=True, ticklen=8, linewidth=template_specs['axes_width'], range=y_range, title='Probability (%)',row=row+1, col=col+1)\n",
    "\n",
    "fig.layout.update(template=fig_template, width=fig_width, height=fig_height, margin_l=50, margin_r=leg_mergin, margin_t=50, margin_b=100, showlegend=False, barmode='overlay')\n",
    "fig.show()\n",
    "if not os.path.exists(fig_dir):os.mkdir(fig_dir)\n",
    "fig.write_image('{}/{}_vertical_saccade_landing_sequence.pdf'.format(fig_dir, subject))"
   ]
  },
  {
   "cell_type": "markdown",
   "id": "1108dc5c-3a59-4ddc-82c7-7b90c985b75a",
   "metadata": {},
   "source": [
    "#### Saccade y landing distribution per incremental runs"
   ]
  },
  {
   "cell_type": "code",
   "execution_count": null,
   "id": "784562b0-27c5-4259-b46b-3006d2e476c2",
   "metadata": {},
   "outputs": [],
   "source": [
    "# subplot settings\n",
    "rows, cols = 2, 2\n",
    "leg_mergin = 200\n",
    "fig_height, fig_width = 600,500*cols+leg_mergin\n",
    "column_widths,row_heights = [1,1],[1,1]\n",
    "sb_specs = [[{},{}],[{},{}]]\n",
    "fig = make_subplots(rows=rows, cols=cols, print_grid=False, vertical_spacing=0.2, horizontal_spacing=0.08, \n",
    "                    column_widths=column_widths, row_heights=row_heights)\n",
    "opacity_val = 0.3\n",
    "data_types = []\n",
    "for run_num in np.arange(1,df_all.run_number.max()+1):\n",
    "    data_types.append('{:1.0f} runs'.format(run_num))\n",
    "\n",
    "# Figure title\n",
    "fig.add_annotation(xref='paper', yref='paper', x=0, y=1.03, text='<b>Steady sequences: vertical saccade offset (gaussian mu/sigma)<b>', \n",
    "                   showarrow=False, font_size = template_specs['title_font_size'], xanchor = 'left', yanchor='middle')\n",
    "fig.add_annotation(xref='paper', yref='paper', x=0, y=0.43, text='<b>Motion sequences: vertical saccade offset (gaussian mu/sigma)<b>',  \n",
    "                   showarrow=False, font_size = template_specs['title_font_size'], xanchor = 'left', yanchor='middle')\n",
    "\n",
    "    \n",
    "for ts_num, ts in enumerate(tss):\n",
    "    # row/col and data selection\n",
    "    if ts_num == 0:   row_val, y_line = 1, 4\n",
    "    elif ts_num == 1: row_val, y_line = 1, 3.5\n",
    "    elif ts_num == 2: row_val, y_line = 1, 3\n",
    "    elif ts_num == 3: row_val, y_line = 1, 2.5\n",
    "    elif ts_num == 4: row_val, y_line = 1, 2\n",
    "    elif ts_num == 5: row_val, y_line = 2, 3\n",
    "    elif ts_num == 6: row_val, y_line = 2, 3\n",
    "    \n",
    "    # compute mu, sigma, nb of trials\n",
    "    mu_y, sigma_y, nb_y = np.zeros(df_all.run_number.max()),np.zeros(df_all.run_number.max()),np.zeros(df_all.run_number.max())\n",
    "    for run_num in np.arange(df_all.run_number.max()):\n",
    "        df_cond = df_all.loc[(df_all.main_sac_trial == 1) & \n",
    "                             (df_all.trial_sequence == ts_num+1) & (df_all.run_number <= run_num+1)]\n",
    "        (mu_y[run_num], sigma_y[run_num]) = norm.fit(df_cond['sac_y_offset_trial']-df_cond['jitter_y_trial'])\n",
    "        nb_y[run_num] = (df_cond['sac_y_offset_trial']-df_cond['jitter_y_trial']).shape[0]\n",
    "        \n",
    "    # draw data\n",
    "    fig.append_trace(go.Bar(x=data_types,y=nb_y,\n",
    "                            marker_color=ts_cols[ts_num]),row=row_val, col=1)\n",
    "    \n",
    "    fig.append_trace(go.Scatter(x=data_types, y=mu_y,\n",
    "                                name=ts, mode='markers+lines',marker_color=ts_cols[ts_num],marker_size=8,\n",
    "                                marker_line_width=0,marker_symbol='circle'),row=row_val, col=2)\n",
    "    \n",
    "    fig.append_trace(go.Scatter(x=data_types, y=mu_y+sigma_y,\n",
    "                                mode='lines',line_width=0,line_color=ts_cols[ts_num]),row=row_val, col=2)\n",
    "    \n",
    "    fig.append_trace(go.Scatter(x=data_types, y=mu_y-sigma_y,fillcolor=\"rgba({}, {})\".format(ts_cols[ts_num][4:-1],opacity_val),\n",
    "                                mode='lines',line_width=0,line_color=ts_cols[ts_num], fill='tonexty'),row=row_val, col=2)\n",
    "\n",
    "    # legend\n",
    "    if ts_num < 5:\n",
    "        fig.add_annotation(xref='paper', yref='paper', x=x_legend_top, y=y_legend_top-(y_legend_step*ts_num), \n",
    "                           text=ts, showarrow=False, font_size = template_specs['axes_font_size'], xanchor = 'left', yanchor='middle')\n",
    "        fig.add_shape(type='rect',xref='paper', yref='paper', fillcolor=ts_cols[ts_num],line_width=0,\n",
    "                      x0=x_legend_top-0.025-rad_leg/4, y0=y_legend_top-y_legend_step*ts_num-rad_leg/2, \n",
    "                      x1=x_legend_top-0.025+rad_leg/4, y1=y_legend_top-y_legend_step*ts_num+rad_leg/2)\n",
    "    else:\n",
    "        fig.add_annotation(xref='paper', yref='paper', x=x_legend_top, y=y_legend_bot-(y_legend_step*(ts_num-5)), \n",
    "                           text=ts, showarrow=False, font_size = template_specs['axes_font_size'], xanchor = 'left', yanchor='middle')\n",
    "        fig.add_shape(type='rect',xref='paper', yref='paper', fillcolor=ts_cols[ts_num],line_width=0,\n",
    "                      x0=x_legend_top-0.025-rad_leg/4, y0=y_legend_bot-y_legend_step*(ts_num-5)-rad_leg/2, \n",
    "                      x1=x_legend_top-0.025+rad_leg/4, y1=y_legend_bot-y_legend_step*(ts_num-5)+rad_leg/2)\n",
    "    \n",
    "\n",
    "for row in np.arange(rows):\n",
    "    for col in np.arange(cols):\n",
    "        if col==1:\n",
    "            fig.update_xaxes(visible=True, ticklen=8, linewidth=template_specs['axes_width'], categoryorder='array', categoryarray=data_types, row=row+1, col=col+1)\n",
    "            fig.update_yaxes(visible=True, ticklen=8, linewidth=template_specs['axes_width'], range=[0,6], title='Y coordinates (dva)',row=row+1, col=col+1)\n",
    "        elif col==0:\n",
    "            fig.update_xaxes(visible=True, ticklen=8, linewidth=template_specs['axes_width'], categoryorder='array', categoryarray=data_types, row=row+1, col=col+1)\n",
    "            fig.update_yaxes(visible=True, ticklen=8, linewidth=template_specs['axes_width'], range=[0,250], title='Trials',row=row+1, col=col+1)\n",
    "\n",
    "fig.layout.update(template=fig_template, width=fig_width, height=fig_height, margin_l=50, margin_r=leg_mergin, margin_t=50, margin_b=100, showlegend=False)\n",
    "fig.show()\n",
    "if not os.path.exists(fig_dir):os.mkdir(fig_dir)\n",
    "fig.write_image('{}/{}_vertical_saccade_landing_sequence_runs.pdf'.format(fig_dir, subject))"
   ]
  },
  {
   "cell_type": "code",
   "execution_count": null,
   "id": "914b1125-a966-449f-9afe-6759cb637bda",
   "metadata": {},
   "outputs": [],
   "source": []
  }
 ],
 "metadata": {
  "kernelspec": {
   "display_name": "fmri_lab",
   "language": "python",
   "name": "fmri_lab"
  },
  "language_info": {
   "codemirror_mode": {
    "name": "ipython",
    "version": 3
   },
   "file_extension": ".py",
   "mimetype": "text/x-python",
   "name": "python",
   "nbconvert_exporter": "python",
   "pygments_lexer": "ipython3",
   "version": "3.7.3"
  }
 },
 "nbformat": 4,
 "nbformat_minor": 5
}
