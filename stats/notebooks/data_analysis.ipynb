{
 "cells": [
  {
   "cell_type": "markdown",
   "id": "cb78db1f-8364-4669-82af-daa47836d04f",
   "metadata": {},
   "source": [
    "# AM3strokes\n",
    "\n",
    "#### Project description:\n",
    "_A 3 strokes vertical apparent motion is presented left or right of fixation. <br />\n",
    "Participants are instructed to saccadeto saccade to the perceived last stroke._\n",
    "\n",
    "#### Hypothesis: \n",
    "_Participants mislocalize the 3rd stroke in the direction of the motion_"
   ]
  },
  {
   "cell_type": "markdown",
   "id": "7b983848-2e4a-4784-ad09-bca57c83172b",
   "metadata": {},
   "source": [
    "#### Eye movement data analysis:\n",
    "\n",
    "- [x] Step 1. Extract time series\n",
    "- [X] Step 2. Extract saccades for each trials\n",
    "- [ ] Step 3. Plot data"
   ]
  },
  {
   "cell_type": "markdown",
   "id": "718803f5-7121-4cab-915d-486961f6ed34",
   "metadata": {},
   "source": [
    "#### Step 1: extract time series"
   ]
  },
  {
   "cell_type": "code",
   "execution_count": null,
   "id": "44e0db61-e382-40e9-84e1-e01fe7708f01",
   "metadata": {
    "tags": []
   },
   "outputs": [],
   "source": [
    "# Imports\n",
    "import os\n",
    "import numpy as np\n",
    "import bids\n",
    "import pandas as pd\n",
    "from mat4py import loadmat\n",
    "from sac_utils import vecvel, microsacc_merge, saccpar, isincircle\n",
    "import ipdb\n",
    "\n",
    "# figure imports\n",
    "import plotly.graph_objects as go\n",
    "from plotly.subplots import make_subplots\n",
    "import plotly.express as px\n",
    "from plot_utils import plotly_template\n",
    "import plotly.express as px"
   ]
  },
  {
   "cell_type": "code",
   "execution_count": null,
   "id": "befcc8bc-b539-4149-a21b-02634be38bc9",
   "metadata": {
    "tags": []
   },
   "outputs": [],
   "source": [
    "# Define parameters\n",
    "num_trials = 560                       # number of trials per run\n",
    "sampling_rate = 1000                   # eyetrakcing sampling rate\n",
    "velocity_th = 1.5                      # velocity sd threshold\n",
    "min_dur = 20                           # threshold minimum duration\n",
    "merge_interval = 20                    # interval between saccade events\n",
    "cor_sac_onset_th = 100                 # corrective saccade onset threshold (inferior or equal in ms)"
   ]
  },
  {
   "cell_type": "code",
   "execution_count": null,
   "id": "726cb378-fcc8-4edc-99c8-8e1e0cdd9291",
   "metadata": {
    "tags": []
   },
   "outputs": [],
   "source": [
    "# Define folders\n",
    "base_dir = '/home/mszinte/codes/am3strokes/'\n",
    "data_dir = '/home/mszinte/codes/am3strokes/data'\n",
    "subject = 'sub-01'\n",
    "fig_dir = '{data_dir}/{subject}/figures'.format(data_dir=data_dir, subject=subject)"
   ]
  },
  {
   "cell_type": "code",
   "execution_count": null,
   "id": "90515758-1b33-48e7-b542-10501c718544",
   "metadata": {
    "tags": []
   },
   "outputs": [],
   "source": [
    "# Define data filenames\n",
    "layout = bids.BIDSLayout(data_dir)\n",
    "data_events = layout.get(subject='01', extension='.tsv', suffix='events', return_type='filename')\n",
    "num_run = len(data_events)\n",
    "\n",
    "data_eyetrack = []\n",
    "for path_val in data_events:\n",
    "    data_eyetrack_val = path_val.replace('events.tsv','eyetrack.edf')\n",
    "    data_eyetrack_val = data_eyetrack_val.replace('func','add')\n",
    "    data_eyetrack.append(data_eyetrack_val)\n",
    "data_mat = []\n",
    "for path_val in data_events:\n",
    "    data_mat_val = path_val.replace('events.tsv','matFile.mat')\n",
    "    data_mat_val = data_mat_val.replace('func','add')\n",
    "    data_mat.append(data_mat_val)"
   ]
  },
  {
   "cell_type": "code",
   "execution_count": null,
   "id": "a3dca21e-0a27-4bb1-88e6-442f416a6dc2",
   "metadata": {
    "tags": []
   },
   "outputs": [],
   "source": [
    "# Create message and data files\n",
    "for run in data_eyetrack:\n",
    "    \n",
    "    if not os.path.exists(run.replace('.edf','.msg')):\n",
    "        os.system('edf2asc {} -e -y'.format(run))\n",
    "        os.rename(run.replace('.edf','.asc'),run.replace('.edf','.msg'))\n",
    "\n",
    "    if not os.path.exists(run.replace('.edf','.dat')):\n",
    "        os.system('edf2asc {} -s -miss -1.0 -y'.format(run))\n",
    "        os.rename(run.replace('.edf','.asc'),run.replace('.edf','.dat'))"
   ]
  },
  {
   "cell_type": "code",
   "execution_count": null,
   "id": "aac82811-79a5-4374-89c5-0e3a6d99125b",
   "metadata": {
    "tags": []
   },
   "outputs": [],
   "source": [
    "# Collect MSG data\n",
    "msg_outputs = ['trial_onset', 'trial_offset', 'check_fix_onset', 'fix_onset', 'fix_offset', \n",
    "               's1_onset', 's1_offset', 's2_onset', 's2_offset', 's3_onset', \n",
    "               's3_offset']\n",
    " \n",
    "for msg_output in msg_outputs:\n",
    "    exec(\"{} = np.zeros(num_trials*num_run)\".format(msg_output))\n",
    "\n",
    "t_run = 0\n",
    "for run in data_eyetrack:\n",
    "    \n",
    "    msgfid = open(run.replace('.edf','.msg'))\n",
    "    first_last_time, first_time, last_time = False, False, False\n",
    "\n",
    "    while not first_last_time:\n",
    "        line_read = msgfid.readline()\n",
    "\n",
    "        if not line_read == '':\n",
    "            la = line_read.split()\n",
    "    \n",
    "            if len(la) > 2:\n",
    "                if la[2] == 'RECORD_START' and not first_time: \n",
    "                    first_time = True\n",
    "                if la[2] == 'RECORD_STOP' and not last_time:\n",
    "                    last_time = True\n",
    "            if len(la) > 4:\n",
    "                if la[2] == 'trial' and la[4]=='started':\n",
    "                    trial_onset[int(la[3])-1 + (t_run)*num_trials] = float(la[1])\n",
    "                if la[2] == 'trial' and la[4]=='ended':\n",
    "                    trial_offset[int(la[3])-1 + (t_run)*num_trials] = float(la[1])\n",
    "                if la[2] == 'fix' and la[4]=='onset':\n",
    "                    fix_onset[int(la[3])-1 + (t_run)*num_trials] = float(la[1])\n",
    "                if la[2] == 'fix' and la[4]=='offset':\n",
    "                    fix_offset[int(la[3])-1 + (t_run)*num_trials] = float(la[1])\n",
    "                if la[2] == 's1' and la[4]=='onset':\n",
    "                    s1_onset[int(la[3])-1 + (t_run)*num_trials] = float(la[1])\n",
    "                if la[2] == 's1' and la[4]=='offset':\n",
    "                    s1_offset[int(la[3])-1 + (t_run)*num_trials] = float(la[1])\n",
    "                if la[2] == 's2' and la[4]=='onset':\n",
    "                    s2_onset[int(la[3])-1 + (t_run)*num_trials] = float(la[1])\n",
    "                if la[2] == 's2' and la[4]=='offset':\n",
    "                    s2_offset[int(la[3])-1 + (t_run)*num_trials] = float(la[1])\n",
    "                if la[2] == 's3' and la[4]=='onset':\n",
    "                    s3_onset[int(la[3])-1 + (t_run)*num_trials] = float(la[1])\n",
    "                if la[2] == 's3' and la[4]=='offset':\n",
    "                    s3_offset[int(la[3])-1 + (t_run)*num_trials,] = float(la[1])\n",
    "    \n",
    "        if first_time and last_time:\n",
    "            first_last_time = True\n",
    "            msgfid.close();\n",
    "    t_run += 1\n",
    "\n",
    "# create events dataframe\n",
    "for run_num, run in enumerate(data_events):\n",
    "    df_run = pd.read_csv(run, sep=\"\\t\")\n",
    "    if run_num  > 0 :\n",
    "        df_events = pd.concat([df_events, df_run])\n",
    "    else :\n",
    "        df_events = df_run\n",
    "\n",
    "msg_dict = {}\n",
    "for msg_output in msg_outputs:\n",
    "    eval(\"msg_dict.update({'%s':%s})\"%(msg_output,msg_output))\n",
    "msg_dict.update({'fix_duration': fix_offset-fix_onset})\n",
    "msg_dict.update({'s1_duration': s1_offset-s1_onset})\n",
    "msg_dict.update({'s2_duration': s2_offset-s2_onset})\n",
    "msg_dict.update({'s3_duration': s3_offset-s3_onset})\n",
    "\n",
    "df_msg = pd.DataFrame(msg_dict)\n",
    "df_all = pd.concat([df_events.reset_index(drop=True),\n",
    "                    df_msg.reset_index(drop=True)], axis=1)"
   ]
  },
  {
   "cell_type": "markdown",
   "id": "08826dcf-0289-4052-8f9e-5ab6052982dd",
   "metadata": {},
   "source": [
    "#### Step 2: extract saccades for each trials"
   ]
  },
  {
   "cell_type": "code",
   "execution_count": null,
   "id": "1fa7073b-ae4f-4ad4-9976-8555921b01ee",
   "metadata": {
    "tags": []
   },
   "outputs": [],
   "source": [
    "sac_outputs = [  'miss_time_trial', 'blink_trial', 'no_saccade_trial', 'main_sac_trial', 'sac_x_onset_trial', \n",
    "                 'sac_x_offset_trial', 'sac_y_onset_trial', 'sac_y_offset_trial', 'sac_t_onset_trial', 'sac_t_offset_trial', \n",
    "                 'sac_dur_trial', 'sac_vpeak_trial', 'sac_dist_trial', 'sac_amp_trial', 'sac_dist_ang_trial', \n",
    "                 'sac_amp_ang_trial', 'cor_sac_trial', 'cor_sac_x_onset_trial', 'cor_sac_x_offset_trial', 'cor_sac_y_onset_trial', \n",
    "                 'cor_sac_y_offset_trial', 'cor_sac_t_onset_trial', 'cor_sac_t_offset_trial', 'cor_sac_dur_trial', 'cor_sac_vpeak_trial',\n",
    "                 'cor_sac_dist_trial', 'cor_sac_amp_trial', 'cor_sac_dist_ang_trial', 'cor_sac_amp_ang_trial', 'innacurate_sac_trial']\n",
    " \n",
    "for sac_output in sac_outputs:\n",
    "    exec(\"{} = np.zeros(num_trials*num_run)\".format(sac_output))\n",
    "\n",
    "print('Saccade extraction:')\n",
    "t_run = 0\n",
    "first_fig = 0\n",
    "for run,mat in zip(data_eyetrack,data_mat):\n",
    "    \n",
    "    print(run)\n",
    "    # load const\n",
    "    mat_dat = loadmat(mat)\n",
    "    motion_jitter = np.array(mat_dat['config']['const']['motion_jitter'])\n",
    "    fix_coord_ini = np.array(mat_dat['config']['const']['fix_coord'])\n",
    "    mot_coord_x_range = np.array(mat_dat['config']['const']['mot_coord_x'])\n",
    "    mot_coord_y_range = np.array(mat_dat['config']['const']['mot_coord_y'])\n",
    "    scr_x_mid = np.array(mat_dat['config']['scr']['x_mid'])\n",
    "    scr_y_mid = np.array(mat_dat['config']['scr']['y_mid'])\n",
    "    mot_coord = np.zeros((mot_coord_x_range.shape[0],mot_coord_y_range.shape[0],2))\n",
    "    for sac_dir_num, mot_coord_x in enumerate(mot_coord_x_range):\n",
    "        for trial_seq_num, mot_coord_y in enumerate(mot_coord_y_range):     \n",
    "            mot_coord[sac_dir_num,trial_seq_num] = [scr_x_mid+mot_coord_x, scr_y_mid-mot_coord_y]\n",
    "    \n",
    "    sac_fix_rad =  np.array(mat_dat['config']['const']['checkfix_rad'])\n",
    "    ppd = mat_dat['config']['const']['ppd']\n",
    "    \n",
    "    # load eyetrack data\n",
    "    eye_data_run = np.genfromtxt(run.replace('.edf','.dat'), usecols=(0, 1, 2))\n",
    "\n",
    "    for trial in np.arange(0,num_trials):\n",
    "        \n",
    "        # define trial\n",
    "        miss_time, blink, no_saccade, main_saccade, corrective_saccade, num_sac = 0, 0, 0, 0, 0, 0\n",
    "        trial_idx = trial + (t_run)*num_trials\n",
    "        df_t = df_all.loc[(df_all.run_number == t_run+1) & (df_all.trial_number == trial+1)]\n",
    "        trial_data_logic = np.logical_and(eye_data_run[:,0] >= float(df_t.trial_onset),\n",
    "                                          eye_data_run[:,0] <= float(df_t.trial_offset))\n",
    "\n",
    "        # Missing data point detection\n",
    "        if np.sum(np.diff(eye_data_run[trial_data_logic,0])>1000/sampling_rate) > 0:\n",
    "            miss_time = 1\n",
    "            miss_time_trial[trial_idx] = 1\n",
    "                     \n",
    "        # Blink detection\n",
    "        if not miss_time:\n",
    "            if np.sum(eye_data_run[trial_data_logic,1]== -1):\n",
    "                blink = 1\n",
    "                blink_trial[trial_idx] = 1\n",
    "\n",
    "        # Main and corrective saccade detection\n",
    "        if not miss_time and not blink:\n",
    "            t, x, y = eye_data_run[trial_data_logic,0],eye_data_run[trial_data_logic,1],eye_data_run[trial_data_logic,2]\n",
    "            vx, vy = vecvel(x,y,sampling_rate)\n",
    "            sac = microsacc_merge(x,y,vx,vy,velocity_th,min_dur,merge_interval)\n",
    "            ms = saccpar(sac)\n",
    "            \n",
    "            \n",
    "                \n",
    "            if np.isnan(ms[0,0]):\n",
    "                #4 no saccade\n",
    "                no_saccade = 1\n",
    "                no_saccade_trial[trial_idx] = 1\n",
    "\n",
    "                \n",
    "            if not no_saccade:\n",
    "                innacurate_sac = 1\n",
    "                \n",
    "                # Define fixation and saccade target position\n",
    "                x_jitter = int(df_t.spatial_jitter_x)-1\n",
    "                y_jitter = int(df_t.spatial_jitter_y)-1\n",
    "                trial_sequence = int(df_t.trial_sequence)-1\n",
    "                saccade_direction = int(df_t.saccade_direction)-1\n",
    "                jitter_coord = np.array([motion_jitter[x_jitter],-motion_jitter[y_jitter]])\n",
    "                fix_coord = fix_coord_ini + jitter_coord\n",
    "                fix_pos_x, fix_pos_y = fix_coord[0], fix_coord[1]\n",
    "                if trial_sequence <= 4:\n",
    "                    last_stroke_coord = np.array(mot_coord[saccade_direction,trial_sequence]) + jitter_coord;\n",
    "                else:\n",
    "                    last_stroke_coord = np.array(mot_coord[saccade_direction,2]) + jitter_coord;\n",
    "                sac_pos_x, sac_pos_y = last_stroke_coord[0], last_stroke_coord[1]\n",
    "                \n",
    "                while num_sac < ms.shape[0]:\n",
    "                    \n",
    "                    # Main saccade detection\n",
    "                    fix_cor = isincircle(x[int(ms[num_sac,0])],y[int(ms[num_sac,0])],fix_pos_x,fix_pos_y,sac_fix_rad)\n",
    "                    sac_cor = isincircle(x[int(ms[num_sac,1])],y[int(ms[num_sac,1])],sac_pos_x,sac_pos_y,sac_fix_rad)\n",
    "\n",
    "                    if np.logical_and(fix_cor,sac_cor):\n",
    "                        main_saccade = 1;\n",
    "                        innacurate_sac = 0\n",
    "                        main_sac_trial[trial_idx] = 1;\n",
    "                        sac_x_onset_trial[trial_idx] = x[int(ms[num_sac,0])]\n",
    "                        sac_x_offset_trial[trial_idx] = x[int(ms[num_sac,1])]\n",
    "                        sac_y_onset_trial[trial_idx] = y[int(ms[num_sac,0])]\n",
    "                        sac_y_offset_trial[trial_idx] = y[int(ms[num_sac,1])]\n",
    "                        sac_t_onset_trial[trial_idx] = t[int(ms[num_sac,0])]\n",
    "                        sac_t_offset_trial[trial_idx] = t[int(ms[num_sac,1])]\n",
    "                        sac_dur_trial[trial_idx] = ms[num_sac,2]\n",
    "                        sac_vpeak_trial[trial_idx] = ms[num_sac,3]/ppd\n",
    "                        sac_dist_trial[trial_idx] = ms[num_sac,4]/ppd\n",
    "                        sac_amp_trial[trial_idx] = ms[num_sac,6]/ppd\n",
    "                        sac_dist_ang_trial[trial_idx] = ms[num_sac,5]\n",
    "                        sac_amp_ang_trial[trial_idx] = ms[num_sac,7]\n",
    "\n",
    "                    # Corrective saccade detection\n",
    "                    if main_saccade and corrective_saccade == 0:\n",
    "                        if t[int(ms[num_sac,0])] <= t[int(ms[num_sac-1,0])] + cor_sac_onset_th:\n",
    "                            corrective_saccade = 1\n",
    "                            cor_sac_trial[trial_idx] = 1\n",
    "                            cor_sac_x_onset_trial[trial_idx] = x[int(ms[num_sac,0])]\n",
    "                            cor_sac_x_offset_trial[trial_idx] = x[int(ms[num_sac,1])]\n",
    "                            cor_sac_y_onset_trial[trial_idx] = y[int(ms[num_sac,0])]\n",
    "                            cor_sac_y_offset_trial[trial_idx] = y[int(ms[num_sac,1])]\n",
    "                            cor_sac_t_onset_trial[trial_idx] = t[int(ms[num_sac,0])]\n",
    "                            cor_sac_t_offset_trial[trial_idx] = t[int(ms[num_sac,1])]\n",
    "                            cor_sac_dur_trial[trial_idx] = ms[num_sac,2]\n",
    "                            cor_sac_vpeak_trial[trial_idx] = ms[num_sac,3]/ppd\n",
    "                            cor_sac_dist_trial[trial_idx] = ms[num_sac,4]/ppd\n",
    "                            cor_sac_amp_trial[trial_idx] = ms[num_sac,6]/ppd\n",
    "                            cor_sac_dist_ang_trial[trial_idx] = ms[num_sac,5]\n",
    "                            cor_sac_amp_ang_trial[trial_idx] = ms[num_sac,7]\n",
    "                    \n",
    "                    num_sac += 1 \n",
    "                    innacurate_sac_trial[trial_idx] = innacurate_sac\n",
    "            \n",
    "#             if trial_sequence == 0:\n",
    "#                 check_plot = 1\n",
    "#             else:\n",
    "#                 check_plot = 0\n",
    "            \n",
    "#             if check_plot == 1:\n",
    "                \n",
    "#                 if not first_fig:\n",
    "#                     first_fig = 1\n",
    "#                     fig = make_subplots(rows=1, cols=1)\n",
    "\n",
    "#                 fig.add_shape(type=\"circle\",xref=\"x\", yref=\"y\",x0=fix_pos_x-sac_fix_rad,y0=fix_pos_y-sac_fix_rad, x1=fix_pos_x+sac_fix_rad, y1=fix_pos_y+sac_fix_rad)\n",
    "#                 fig.append_trace(go.Scatter(x=np.array(fix_pos_x), y=np.array(fix_pos_y), mode='markers',name='fixation target',fillcolor='coral'),row=1, col=1)\n",
    "#                 fig.add_shape(type=\"circle\",xref=\"x\", yref=\"y\",x0=sac_pos_x-sac_fix_rad,y0=sac_pos_y-sac_fix_rad, x1=sac_pos_x+sac_fix_rad, y1=sac_pos_y+sac_fix_rad)\n",
    "#                 fig.append_trace(go.Scatter(x=np.array(sac_pos_x), y=np.array(sac_pos_y), mode='markers',name='saccade target',fillcolor='green'),row=1, col=1)\n",
    "\n",
    "                \n",
    "#                 fig.append_trace(go.Scatter(x=np.array(x), y=np.array(y), mode='lines',name='eyetrace'),row=1, col=1)\n",
    "#                 fig.layout.update(xaxis_range=[0,1920],yaxis_range=[1080,0],width=192*5, height=108*5)\n",
    "#                 fig.show()\n",
    "#                 ipdb.set_trace()\n",
    "            \n",
    "            \n",
    "    t_run +=1\n",
    "print('Done')\n",
    "\n",
    "saccade_dict = {}\n",
    "for sac_output in sac_outputs:\n",
    "    eval(\"saccade_dict.update({'%s':%s})\"%(sac_output,sac_output))\n",
    "\n",
    "df_saccade = pd.DataFrame(saccade_dict)\n",
    "df_all = pd.concat([df_all.reset_index(drop=True),\n",
    "                    df_saccade.reset_index(drop=True)], axis=1)\n",
    "\n",
    "# for run in data_eyetrack:\n",
    "#     os.remove(run.replace('.edf','.msg'))\n",
    "#     os.remove(run.replace('.edf','.dat'))"
   ]
  },
  {
   "cell_type": "code",
   "execution_count": null,
   "id": "163b3f55-27c9-4c11-adcc-0755d4c39119",
   "metadata": {},
   "outputs": [],
   "source": [
    "# Save dataframe\n",
    "df_all.to_csv('{data_dir}/{subject}/add/{subject}_task-AM3strokes_data.csv'.format(data_dir=data_dir,subject=subject))"
   ]
  },
  {
   "cell_type": "markdown",
   "id": "1c9f9093-ada7-4ad6-8dfd-793f05fb7055",
   "metadata": {},
   "source": [
    "#### Step 3. Plot data"
   ]
  },
  {
   "cell_type": "markdown",
   "id": "f7439e8c-bc64-4fdc-9433-be3d019ff685",
   "metadata": {},
   "source": [
    "#### PLAN :\n",
    "- Saccade analysis output graph (2 rows x 2 columns) = DONE\n",
    "- Saccade parameters (2 rows x 8 columns)\n",
    "    - Row 1: main saccade & corrective saccades  + legend saccade direction\n",
    "    - Row 2: main saccade & corrective saccades  + legend trial sequence\n",
    "    - Column 1: number of trials vs. main saccade latency \n",
    "    - Column 2: number of trials vs. main saccade amplitude\n",
    "    - Column 3: number of trials vs. main saccade velocity peak\n",
    "    - Column 4: main saccade velocity peak vs. main saccade amplitude\n",
    "    - Column 5: number of trials vs. corrective saccade latency\n",
    "    - Column 6: number of trials vs. corrective saccade amplitude\n",
    "    - Column 7: number of trials vs. corrective saccade velocity peak\n",
    "    - Column 8: corrective saccade velocity peak vs. corrective saccade amplitude\n",
    "    - Add: median in distibution + fit in main sequence\n",
    "\n",
    "- Saccade trajectories and landing (2 rows x 4 columns)\n",
    "    - Row 1: main saccade & corrective saccades  + legend saccade direction\n",
    "    - Row 2: main saccade & corrective saccades  + legend trial sequence\n",
    "    - Column 1: Screen coordinates y vs. screen coordinates x + plot main saccade trajectories (raw data)\n",
    "    - Column 2: Screen coordinates y vs. screen coordinates x + plot main saccade trajectories (corrected for jitter)\n",
    "    - Column 3: Screen coordinates y vs. screen coordinates x + plot main saccade position onset / offset (raw data)\n",
    "    - Column 4: Screen coordinates y vs. screen coordinates x + plot main saccade position onset / offset (corrected for jitter)"
   ]
  },
  {
   "cell_type": "markdown",
   "id": "69091f4a-85b7-416a-8d77-9be7d54db203",
   "metadata": {},
   "source": [
    "#### Saccade analysis output graph"
   ]
  },
  {
   "cell_type": "code",
   "execution_count": 14,
   "id": "9fa0e669-f7bf-4def-898d-8061d6f71721",
   "metadata": {},
   "outputs": [
    {
     "data": {
      "application/vnd.plotly.v1+json": {
       "config": {
        "plotlyServerURL": "https://plot.ly"
       },
       "data": [
        {
         "marker": {
          "color": "rgb(29, 105, 150)"
         },
         "name": "Right saccades",
         "orientation": "h",
         "type": "bar",
         "x": [
          0,
          58,
          662,
          528,
          120
         ],
         "xaxis": "x",
         "y": [
          "<i>Missing data<i>",
          "<i>Blink<i>",
          "<i>Accurate saccade<i>",
          "<i>Corrective saccade<i>",
          "<i>Innacurate saccade<i>"
         ],
         "yaxis": "y"
        },
        {
         "marker": {
          "color": "rgb(204, 80, 62)"
         },
         "name": "Left saccades",
         "orientation": "h",
         "type": "bar",
         "x": [
          0,
          36,
          674,
          505,
          130
         ],
         "xaxis": "x",
         "y": [
          "<i>Missing data<i>",
          "<i>Blink<i>",
          "<i>Accurate saccade<i>",
          "<i>Corrective saccade<i>",
          "<i>Innacurate saccade<i>"
         ],
         "yaxis": "y"
        },
        {
         "marker": {
          "color": "rgb(95, 70, 144)"
         },
         "name": "Steady 1",
         "orientation": "h",
         "type": "bar",
         "x": [
          0,
          13,
          213,
          163,
          14
         ],
         "xaxis": "x2",
         "y": [
          "<i>Missing data<i>",
          "<i>Blink<i>",
          "<i>Accurate saccade<i>",
          "<i>Corrective saccade<i>",
          "<i>Innacurate saccade<i>"
         ],
         "yaxis": "y2"
        },
        {
         "marker": {
          "color": "rgb(56, 166, 165)"
         },
         "name": "Steady 2",
         "orientation": "h",
         "type": "bar",
         "x": [
          0,
          10,
          195,
          155,
          35
         ],
         "xaxis": "x2",
         "y": [
          "<i>Missing data<i>",
          "<i>Blink<i>",
          "<i>Accurate saccade<i>",
          "<i>Corrective saccade<i>",
          "<i>Innacurate saccade<i>"
         ],
         "yaxis": "y2"
        },
        {
         "marker": {
          "color": "rgb(15, 133, 84)"
         },
         "name": "Steady 3",
         "orientation": "h",
         "type": "bar",
         "x": [
          0,
          14,
          196,
          145,
          30
         ],
         "xaxis": "x2",
         "y": [
          "<i>Missing data<i>",
          "<i>Blink<i>",
          "<i>Accurate saccade<i>",
          "<i>Corrective saccade<i>",
          "<i>Innacurate saccade<i>"
         ],
         "yaxis": "y2"
        },
        {
         "marker": {
          "color": "rgb(115, 175, 72)"
         },
         "name": "Steady 4",
         "orientation": "h",
         "type": "bar",
         "x": [
          0,
          23,
          174,
          132,
          43
         ],
         "xaxis": "x2",
         "y": [
          "<i>Missing data<i>",
          "<i>Blink<i>",
          "<i>Accurate saccade<i>",
          "<i>Corrective saccade<i>",
          "<i>Innacurate saccade<i>"
         ],
         "yaxis": "y2"
        },
        {
         "marker": {
          "color": "rgb(237, 173, 8)"
         },
         "name": "Steady 5",
         "orientation": "h",
         "type": "bar",
         "x": [
          0,
          15,
          184,
          147,
          41
         ],
         "xaxis": "x2",
         "y": [
          "<i>Missing data<i>",
          "<i>Blink<i>",
          "<i>Accurate saccade<i>",
          "<i>Corrective saccade<i>",
          "<i>Innacurate saccade<i>"
         ],
         "yaxis": "y2"
        },
        {
         "marker": {
          "color": "rgb(225, 124, 5)"
         },
         "name": "Motion 1-2-3",
         "orientation": "h",
         "type": "bar",
         "x": [
          0,
          10,
          176,
          136,
          54
         ],
         "xaxis": "x2",
         "y": [
          "<i>Missing data<i>",
          "<i>Blink<i>",
          "<i>Accurate saccade<i>",
          "<i>Corrective saccade<i>",
          "<i>Innacurate saccade<i>"
         ],
         "yaxis": "y2"
        },
        {
         "marker": {
          "color": "rgb(148, 52, 110)"
         },
         "name": "Motion 5-4-3",
         "orientation": "h",
         "type": "bar",
         "x": [
          0,
          9,
          198,
          155,
          33
         ],
         "xaxis": "x2",
         "y": [
          "<i>Missing data<i>",
          "<i>Blink<i>",
          "<i>Accurate saccade<i>",
          "<i>Corrective saccade<i>",
          "<i>Innacurate saccade<i>"
         ],
         "yaxis": "y2"
        }
       ],
       "layout": {
        "annotations": [
         {
          "font": {
           "size": 16
          },
          "showarrow": false,
          "text": "<b>Trial distribution per saccade direction<b>",
          "x": 0,
          "xanchor": "left",
          "xref": "paper",
          "y": 1,
          "yanchor": "bottom",
          "yref": "paper"
         },
         {
          "font": {
           "size": 16
          },
          "showarrow": false,
          "text": "<b>Trial distribution per sequence<b>",
          "x": 0,
          "xanchor": "left",
          "xref": "paper",
          "y": 0.325,
          "yanchor": "bottom",
          "yref": "paper"
         },
         {
          "font": {
           "size": 15
          },
          "showarrow": false,
          "text": "Right saccades",
          "x": 1.15,
          "xanchor": "left",
          "xref": "paper",
          "y": 0.97,
          "yanchor": "middle",
          "yref": "paper"
         },
         {
          "font": {
           "size": 15
          },
          "showarrow": false,
          "text": "Left saccades",
          "x": 1.15,
          "xanchor": "left",
          "xref": "paper",
          "y": 0.9099999999999999,
          "yanchor": "middle",
          "yref": "paper"
         },
         {
          "font": {
           "size": 15
          },
          "showarrow": false,
          "text": "<i>0 %<i>",
          "x": 0,
          "xanchor": "left",
          "xref": "x",
          "y": 0,
          "yref": "y"
         },
         {
          "font": {
           "size": 15
          },
          "showarrow": false,
          "text": "<i>6 %<i>",
          "x": 94,
          "xanchor": "left",
          "xref": "x",
          "y": 1,
          "yref": "y"
         },
         {
          "font": {
           "size": 15
          },
          "showarrow": false,
          "text": "<i>80 %<i>",
          "x": 1336,
          "xanchor": "left",
          "xref": "x",
          "y": 2,
          "yref": "y"
         },
         {
          "font": {
           "size": 15
          },
          "showarrow": false,
          "text": "<i>61 %<i>",
          "x": 1033,
          "xanchor": "left",
          "xref": "x",
          "y": 3,
          "yref": "y"
         },
         {
          "font": {
           "size": 15
          },
          "showarrow": false,
          "text": "<i>15 %<i>",
          "x": 250,
          "xanchor": "left",
          "xref": "x",
          "y": 4,
          "yref": "y"
         },
         {
          "font": {
           "size": 15
          },
          "showarrow": false,
          "text": "Steady 1",
          "x": 1.15,
          "xanchor": "left",
          "xref": "paper",
          "y": 0.3,
          "yanchor": "middle",
          "yref": "paper"
         },
         {
          "font": {
           "size": 15
          },
          "showarrow": false,
          "text": "Steady 2",
          "x": 1.15,
          "xanchor": "left",
          "xref": "paper",
          "y": 0.24,
          "yanchor": "middle",
          "yref": "paper"
         },
         {
          "font": {
           "size": 15
          },
          "showarrow": false,
          "text": "Steady 3",
          "x": 1.15,
          "xanchor": "left",
          "xref": "paper",
          "y": 0.18,
          "yanchor": "middle",
          "yref": "paper"
         },
         {
          "font": {
           "size": 15
          },
          "showarrow": false,
          "text": "Steady 4",
          "x": 1.15,
          "xanchor": "left",
          "xref": "paper",
          "y": 0.12,
          "yanchor": "middle",
          "yref": "paper"
         },
         {
          "font": {
           "size": 15
          },
          "showarrow": false,
          "text": "Steady 5",
          "x": 1.15,
          "xanchor": "left",
          "xref": "paper",
          "y": 0.06,
          "yanchor": "middle",
          "yref": "paper"
         },
         {
          "font": {
           "size": 15
          },
          "showarrow": false,
          "text": "Motion 1-2-3",
          "x": 1.15,
          "xanchor": "left",
          "xref": "paper",
          "y": 0,
          "yanchor": "middle",
          "yref": "paper"
         },
         {
          "font": {
           "size": 15
          },
          "showarrow": false,
          "text": "Motion 5-4-3",
          "x": 1.15,
          "xanchor": "left",
          "xref": "paper",
          "y": -0.06,
          "yanchor": "middle",
          "yref": "paper"
         },
         {
          "font": {
           "size": 15
          },
          "showarrow": false,
          "text": "<i>0 %<i>",
          "x": 0,
          "xanchor": "left",
          "xref": "x2",
          "y": 0,
          "yref": "y2"
         },
         {
          "font": {
           "size": 15
          },
          "showarrow": false,
          "text": "<i>6 %<i>",
          "x": 94,
          "xanchor": "left",
          "xref": "x2",
          "y": 1,
          "yref": "y2"
         },
         {
          "font": {
           "size": 15
          },
          "showarrow": false,
          "text": "<i>80 %<i>",
          "x": 1336,
          "xanchor": "left",
          "xref": "x2",
          "y": 2,
          "yref": "y2"
         },
         {
          "font": {
           "size": 15
          },
          "showarrow": false,
          "text": "<i>61 %<i>",
          "x": 1033,
          "xanchor": "left",
          "xref": "x2",
          "y": 3,
          "yref": "y2"
         },
         {
          "font": {
           "size": 15
          },
          "showarrow": false,
          "text": "<i>15 %<i>",
          "x": 250,
          "xanchor": "left",
          "xref": "x2",
          "y": 4,
          "yref": "y2"
         }
        ],
        "barmode": "stack",
        "height": 500,
        "margin": {
         "b": 100,
         "l": 200,
         "r": 200,
         "t": 50
        },
        "shapes": [
         {
          "fillcolor": "rgb(29, 105, 150)",
          "line": {
           "width": 0
          },
          "type": "rect",
          "x0": 1.0799999999999998,
          "x1": 1.1199999999999999,
          "xref": "paper",
          "y0": 0.95,
          "y1": 0.99,
          "yref": "paper"
         },
         {
          "fillcolor": "rgb(204, 80, 62)",
          "line": {
           "width": 0
          },
          "type": "rect",
          "x0": 1.0799999999999998,
          "x1": 1.1199999999999999,
          "xref": "paper",
          "y0": 0.8899999999999999,
          "y1": 0.9299999999999999,
          "yref": "paper"
         },
         {
          "fillcolor": "rgb(95, 70, 144)",
          "line": {
           "width": 0
          },
          "type": "rect",
          "x0": 1.0799999999999998,
          "x1": 1.1199999999999999,
          "xref": "paper",
          "y0": 0.27999999999999997,
          "y1": 0.32,
          "yref": "paper"
         },
         {
          "fillcolor": "rgb(56, 166, 165)",
          "line": {
           "width": 0
          },
          "type": "rect",
          "x0": 1.0799999999999998,
          "x1": 1.1199999999999999,
          "xref": "paper",
          "y0": 0.22,
          "y1": 0.26,
          "yref": "paper"
         },
         {
          "fillcolor": "rgb(15, 133, 84)",
          "line": {
           "width": 0
          },
          "type": "rect",
          "x0": 1.0799999999999998,
          "x1": 1.1199999999999999,
          "xref": "paper",
          "y0": 0.16,
          "y1": 0.19999999999999998,
          "yref": "paper"
         },
         {
          "fillcolor": "rgb(115, 175, 72)",
          "line": {
           "width": 0
          },
          "type": "rect",
          "x0": 1.0799999999999998,
          "x1": 1.1199999999999999,
          "xref": "paper",
          "y0": 0.09999999999999999,
          "y1": 0.13999999999999999,
          "yref": "paper"
         },
         {
          "fillcolor": "rgb(237, 173, 8)",
          "line": {
           "width": 0
          },
          "type": "rect",
          "x0": 1.0799999999999998,
          "x1": 1.1199999999999999,
          "xref": "paper",
          "y0": 0.039999999999999994,
          "y1": 0.08,
          "yref": "paper"
         },
         {
          "fillcolor": "rgb(225, 124, 5)",
          "line": {
           "width": 0
          },
          "type": "rect",
          "x0": 1.0799999999999998,
          "x1": 1.1199999999999999,
          "xref": "paper",
          "y0": -0.02,
          "y1": 0.02,
          "yref": "paper"
         },
         {
          "fillcolor": "rgb(148, 52, 110)",
          "line": {
           "width": 0
          },
          "type": "rect",
          "x0": 1.0799999999999998,
          "x1": 1.1199999999999999,
          "xref": "paper",
          "y0": -0.08,
          "y1": -0.039999999999999994,
          "yref": "paper"
         }
        ],
        "showlegend": false,
        "template": {
         "data": {
          "barpolar": [
           {
            "marker": {
             "line": {
              "color": "rgba(0, 0, 0, 1)",
              "width": 1.5
             }
            },
            "showlegend": false,
            "thetaunit": "radians",
            "type": "barpolar"
           }
          ],
          "pie": [
           {
            "direction": "clockwise",
            "hole": 0.4,
            "marker": {
             "line": {
              "color": [
               "rgba(0, 0, 0, 1)",
               "rgba(255,255,255,0)"
              ],
              "width": [
               1.5,
               0
              ]
             }
            },
            "rotation": 0,
            "showlegend": false,
            "sort": false,
            "textposition": [
             "inside",
             "none"
            ],
            "type": "pie"
           }
          ],
          "violin": [
           {
            "box": {
             "visible": false
            },
            "hoveron": "violins",
            "line": {
             "color": "rgba(0, 0, 0, 1)",
             "width": 1.5
            },
            "marker": {
             "opacity": 0.5,
             "symbol": "x"
            },
            "meanline": {
             "color": "rgba(0, 0, 0, 1)",
             "visible": true,
             "width": 1.5
            },
            "opacity": 1,
            "points": false,
            "showlegend": false,
            "type": "violin",
            "width": 0.8
           }
          ]
         },
         "layout": {
          "annotationdefaults": {
           "font": {
            "color": "rgba(0, 0, 0, 1)",
            "family": "Helvetica",
            "size": 15
           }
          },
          "font": {
           "family": "Helvetica",
           "size": 15
          },
          "plot_bgcolor": "rgba(255, 255, 255, 1)",
          "polar": {
           "angularaxis": {
            "showticklabels": false,
            "ticks": "",
            "visible": false
           },
           "radialaxis": {
            "showticklabels": false,
            "ticks": "",
            "visible": false
           }
          },
          "xaxis": {
           "color": "rgba(0, 0, 0, 1)",
           "hoverformat": ".1f",
           "linewidth": 2,
           "range": [
            0,
            1
           ],
           "showgrid": false,
           "tickfont": {
            "family": "Helvetica",
            "size": 15
           },
           "ticklen": 0,
           "ticks": "outside",
           "tickwidth": 2,
           "title": {
            "font": {
             "family": "Helvetica",
             "size": 15
            }
           },
           "visible": true,
           "zeroline": false,
           "zerolinecolor": "rgba(0, 0, 0, 1)",
           "zerolinewidth": 2
          },
          "yaxis": {
           "color": "rgba(0, 0, 0, 1)",
           "hoverformat": ".1f",
           "linewidth": 0,
           "showgrid": false,
           "tickfont": {
            "family": "Helvetica",
            "size": 15
           },
           "ticklen": 0,
           "ticks": "outside",
           "tickwidth": 2,
           "title": {
            "font": {
             "family": "Helvetica",
             "size": 15
            }
           },
           "visible": false,
           "zeroline": false,
           "zerolinecolor": "rgba(0, 0, 0, 1)",
           "zerolinewidth": 2
          }
         }
        },
        "width": 800,
        "xaxis": {
         "anchor": "y",
         "domain": [
          0,
          1
         ],
         "linewidth": 2,
         "range": [
          0,
          1500
         ],
         "ticklen": 8,
         "title": {
          "text": "Number of trials (#)"
         },
         "type": "linear",
         "visible": true
        },
        "xaxis2": {
         "anchor": "y2",
         "domain": [
          0,
          1
         ],
         "linewidth": 2,
         "range": [
          0,
          1500
         ],
         "ticklen": 8,
         "title": {
          "text": "Number of trials (#)"
         },
         "type": "linear",
         "visible": true
        },
        "yaxis": {
         "anchor": "x",
         "autorange": true,
         "domain": [
          0.675,
          1
         ],
         "linewidth": 2,
         "range": [
          4.5,
          -0.5
         ],
         "ticklen": 8,
         "type": "category",
         "visible": true
        },
        "yaxis2": {
         "anchor": "x2",
         "autorange": true,
         "domain": [
          0,
          0.325
         ],
         "linewidth": 2,
         "range": [
          4.5,
          -0.5
         ],
         "ticklen": 8,
         "type": "category",
         "visible": true
        }
       }
      },
      "image/png": "[encoded data removed]",
      "text/html": [
       "<div>                            <div id=\"549b22af-4432-46ae-afd9-3eca32c336c0\" class=\"plotly-graph-div\" style=\"height:500px; width:800px;\"></div>            <script type=\"text/javascript\">                require([\"plotly\"], function(Plotly) {                    window.PLOTLYENV=window.PLOTLYENV || {};                                    if (document.getElementById(\"549b22af-4432-46ae-afd9-3eca32c336c0\")) {                    Plotly.newPlot(                        \"549b22af-4432-46ae-afd9-3eca32c336c0\",                        [{\"marker\":{\"color\":\"rgb(29, 105, 150)\"},\"name\":\"Right saccades\",\"orientation\":\"h\",\"x\":[0.0,58.0,662.0,528.0,120.0],\"y\":[\"<i>Missing data<i>\",\"<i>Blink<i>\",\"<i>Accurate saccade<i>\",\"<i>Corrective saccade<i>\",\"<i>Innacurate saccade<i>\"],\"type\":\"bar\",\"xaxis\":\"x\",\"yaxis\":\"y\"},{\"marker\":{\"color\":\"rgb(204, 80, 62)\"},\"name\":\"Left saccades\",\"orientation\":\"h\",\"x\":[0.0,36.0,674.0,505.0,130.0],\"y\":[\"<i>Missing data<i>\",\"<i>Blink<i>\",\"<i>Accurate saccade<i>\",\"<i>Corrective saccade<i>\",\"<i>Innacurate saccade<i>\"],\"type\":\"bar\",\"xaxis\":\"x\",\"yaxis\":\"y\"},{\"marker\":{\"color\":\"rgb(95, 70, 144)\"},\"name\":\"Steady 1\",\"orientation\":\"h\",\"x\":[0.0,13.0,213.0,163.0,14.0],\"y\":[\"<i>Missing data<i>\",\"<i>Blink<i>\",\"<i>Accurate saccade<i>\",\"<i>Corrective saccade<i>\",\"<i>Innacurate saccade<i>\"],\"type\":\"bar\",\"xaxis\":\"x2\",\"yaxis\":\"y2\"},{\"marker\":{\"color\":\"rgb(56, 166, 165)\"},\"name\":\"Steady 2\",\"orientation\":\"h\",\"x\":[0.0,10.0,195.0,155.0,35.0],\"y\":[\"<i>Missing data<i>\",\"<i>Blink<i>\",\"<i>Accurate saccade<i>\",\"<i>Corrective saccade<i>\",\"<i>Innacurate saccade<i>\"],\"type\":\"bar\",\"xaxis\":\"x2\",\"yaxis\":\"y2\"},{\"marker\":{\"color\":\"rgb(15, 133, 84)\"},\"name\":\"Steady 3\",\"orientation\":\"h\",\"x\":[0.0,14.0,196.0,145.0,30.0],\"y\":[\"<i>Missing data<i>\",\"<i>Blink<i>\",\"<i>Accurate saccade<i>\",\"<i>Corrective saccade<i>\",\"<i>Innacurate saccade<i>\"],\"type\":\"bar\",\"xaxis\":\"x2\",\"yaxis\":\"y2\"},{\"marker\":{\"color\":\"rgb(115, 175, 72)\"},\"name\":\"Steady 4\",\"orientation\":\"h\",\"x\":[0.0,23.0,174.0,132.0,43.0],\"y\":[\"<i>Missing data<i>\",\"<i>Blink<i>\",\"<i>Accurate saccade<i>\",\"<i>Corrective saccade<i>\",\"<i>Innacurate saccade<i>\"],\"type\":\"bar\",\"xaxis\":\"x2\",\"yaxis\":\"y2\"},{\"marker\":{\"color\":\"rgb(237, 173, 8)\"},\"name\":\"Steady 5\",\"orientation\":\"h\",\"x\":[0.0,15.0,184.0,147.0,41.0],\"y\":[\"<i>Missing data<i>\",\"<i>Blink<i>\",\"<i>Accurate saccade<i>\",\"<i>Corrective saccade<i>\",\"<i>Innacurate saccade<i>\"],\"type\":\"bar\",\"xaxis\":\"x2\",\"yaxis\":\"y2\"},{\"marker\":{\"color\":\"rgb(225, 124, 5)\"},\"name\":\"Motion 1-2-3\",\"orientation\":\"h\",\"x\":[0.0,10.0,176.0,136.0,54.0],\"y\":[\"<i>Missing data<i>\",\"<i>Blink<i>\",\"<i>Accurate saccade<i>\",\"<i>Corrective saccade<i>\",\"<i>Innacurate saccade<i>\"],\"type\":\"bar\",\"xaxis\":\"x2\",\"yaxis\":\"y2\"},{\"marker\":{\"color\":\"rgb(148, 52, 110)\"},\"name\":\"Motion 5-4-3\",\"orientation\":\"h\",\"x\":[0.0,9.0,198.0,155.0,33.0],\"y\":[\"<i>Missing data<i>\",\"<i>Blink<i>\",\"<i>Accurate saccade<i>\",\"<i>Corrective saccade<i>\",\"<i>Innacurate saccade<i>\"],\"type\":\"bar\",\"xaxis\":\"x2\",\"yaxis\":\"y2\"}],                        {\"template\":{\"data\":{\"barpolar\":[{\"marker\":{\"line\":{\"color\":\"rgba(0,0,0,1)\",\"width\":1.5}},\"showlegend\":false,\"thetaunit\":\"radians\",\"type\":\"barpolar\"}],\"pie\":[{\"direction\":\"clockwise\",\"hole\":0.4,\"marker\":{\"line\":{\"color\":[\"rgba(0,0,0,1)\",\"rgba(255,255,255,0)\"],\"width\":[1.5,0]}},\"rotation\":0,\"showlegend\":false,\"sort\":false,\"textposition\":[\"inside\",\"none\"],\"type\":\"pie\"}],\"violin\":[{\"box\":{\"visible\":false},\"hoveron\":\"violins\",\"line\":{\"color\":\"rgba(0, 0, 0, 1)\",\"width\":1.5},\"marker\":{\"opacity\":0.5,\"symbol\":\"x\"},\"meanline\":{\"color\":\"rgba(0, 0, 0, 1)\",\"visible\":true,\"width\":1.5},\"opacity\":1,\"points\":false,\"showlegend\":false,\"width\":0.8,\"type\":\"violin\"}]},\"layout\":{\"annotationdefaults\":{\"font\":{\"color\":\"rgba(0, 0, 0, 1)\",\"family\":\"Helvetica\",\"size\":15}},\"font\":{\"family\":\"Helvetica\",\"size\":15},\"plot_bgcolor\":\"rgba(255, 255, 255, 1)\",\"polar\":{\"angularaxis\":{\"showticklabels\":false,\"ticks\":\"\",\"visible\":false},\"radialaxis\":{\"showticklabels\":false,\"ticks\":\"\",\"visible\":false}},\"xaxis\":{\"color\":\"rgba(0, 0, 0, 1)\",\"hoverformat\":\".1f\",\"linewidth\":2,\"range\":[0,1],\"showgrid\":false,\"tickfont\":{\"family\":\"Helvetica\",\"size\":15},\"ticklen\":0,\"ticks\":\"outside\",\"tickwidth\":2,\"title\":{\"font\":{\"family\":\"Helvetica\",\"size\":15}},\"visible\":true,\"zeroline\":false,\"zerolinecolor\":\"rgba(0, 0, 0, 1)\",\"zerolinewidth\":2},\"yaxis\":{\"color\":\"rgba(0, 0, 0, 1)\",\"hoverformat\":\".1f\",\"linewidth\":0,\"showgrid\":false,\"tickfont\":{\"family\":\"Helvetica\",\"size\":15},\"ticklen\":0,\"ticks\":\"outside\",\"tickwidth\":2,\"title\":{\"font\":{\"family\":\"Helvetica\",\"size\":15}},\"visible\":false,\"zeroline\":false,\"zerolinecolor\":\"rgba(0, 0, 0, 1)\",\"zerolinewidth\":2}}},\"xaxis\":{\"anchor\":\"y\",\"domain\":[0.0,1.0],\"title\":{\"text\":\"Number of trials (#)\"},\"range\":[0,1500],\"visible\":true,\"linewidth\":2,\"ticklen\":8},\"yaxis\":{\"anchor\":\"x\",\"domain\":[0.675,1.0],\"visible\":true,\"linewidth\":2,\"ticklen\":8,\"autorange\":\"reversed\"},\"xaxis2\":{\"anchor\":\"y2\",\"domain\":[0.0,1.0],\"title\":{\"text\":\"Number of trials (#)\"},\"range\":[0,1500],\"visible\":true,\"linewidth\":2,\"ticklen\":8},\"yaxis2\":{\"anchor\":\"x2\",\"domain\":[0.0,0.325],\"visible\":true,\"linewidth\":2,\"ticklen\":8,\"autorange\":\"reversed\"},\"annotations\":[{\"font\":{\"size\":16},\"showarrow\":false,\"text\":\"<b>Trial distribution per saccade direction<b>\",\"x\":0,\"xanchor\":\"left\",\"xref\":\"paper\",\"y\":1.0,\"yanchor\":\"bottom\",\"yref\":\"paper\"},{\"font\":{\"size\":16},\"showarrow\":false,\"text\":\"<b>Trial distribution per sequence<b>\",\"x\":0,\"xanchor\":\"left\",\"xref\":\"paper\",\"y\":0.325,\"yanchor\":\"bottom\",\"yref\":\"paper\"},{\"font\":{\"size\":15},\"showarrow\":false,\"text\":\"Right saccades\",\"x\":1.15,\"xanchor\":\"left\",\"xref\":\"paper\",\"y\":0.97,\"yanchor\":\"middle\",\"yref\":\"paper\"},{\"font\":{\"size\":15},\"showarrow\":false,\"text\":\"Left saccades\",\"x\":1.15,\"xanchor\":\"left\",\"xref\":\"paper\",\"y\":0.9099999999999999,\"yanchor\":\"middle\",\"yref\":\"paper\"},{\"font\":{\"size\":15},\"showarrow\":false,\"text\":\"<i>0 %<i>\",\"x\":0.0,\"xanchor\":\"left\",\"xref\":\"x\",\"y\":0,\"yref\":\"y\"},{\"font\":{\"size\":15},\"showarrow\":false,\"text\":\"<i>6 %<i>\",\"x\":94.0,\"xanchor\":\"left\",\"xref\":\"x\",\"y\":1,\"yref\":\"y\"},{\"font\":{\"size\":15},\"showarrow\":false,\"text\":\"<i>80 %<i>\",\"x\":1336.0,\"xanchor\":\"left\",\"xref\":\"x\",\"y\":2,\"yref\":\"y\"},{\"font\":{\"size\":15},\"showarrow\":false,\"text\":\"<i>61 %<i>\",\"x\":1033.0,\"xanchor\":\"left\",\"xref\":\"x\",\"y\":3,\"yref\":\"y\"},{\"font\":{\"size\":15},\"showarrow\":false,\"text\":\"<i>15 %<i>\",\"x\":250.0,\"xanchor\":\"left\",\"xref\":\"x\",\"y\":4,\"yref\":\"y\"},{\"font\":{\"size\":15},\"showarrow\":false,\"text\":\"Steady 1\",\"x\":1.15,\"xanchor\":\"left\",\"xref\":\"paper\",\"y\":0.3,\"yanchor\":\"middle\",\"yref\":\"paper\"},{\"font\":{\"size\":15},\"showarrow\":false,\"text\":\"Steady 2\",\"x\":1.15,\"xanchor\":\"left\",\"xref\":\"paper\",\"y\":0.24,\"yanchor\":\"middle\",\"yref\":\"paper\"},{\"font\":{\"size\":15},\"showarrow\":false,\"text\":\"Steady 3\",\"x\":1.15,\"xanchor\":\"left\",\"xref\":\"paper\",\"y\":0.18,\"yanchor\":\"middle\",\"yref\":\"paper\"},{\"font\":{\"size\":15},\"showarrow\":false,\"text\":\"Steady 4\",\"x\":1.15,\"xanchor\":\"left\",\"xref\":\"paper\",\"y\":0.12,\"yanchor\":\"middle\",\"yref\":\"paper\"},{\"font\":{\"size\":15},\"showarrow\":false,\"text\":\"Steady 5\",\"x\":1.15,\"xanchor\":\"left\",\"xref\":\"paper\",\"y\":0.06,\"yanchor\":\"middle\",\"yref\":\"paper\"},{\"font\":{\"size\":15},\"showarrow\":false,\"text\":\"Motion 1-2-3\",\"x\":1.15,\"xanchor\":\"left\",\"xref\":\"paper\",\"y\":0.0,\"yanchor\":\"middle\",\"yref\":\"paper\"},{\"font\":{\"size\":15},\"showarrow\":false,\"text\":\"Motion 5-4-3\",\"x\":1.15,\"xanchor\":\"left\",\"xref\":\"paper\",\"y\":-0.06,\"yanchor\":\"middle\",\"yref\":\"paper\"},{\"font\":{\"size\":15},\"showarrow\":false,\"text\":\"<i>0 %<i>\",\"x\":0.0,\"xanchor\":\"left\",\"xref\":\"x2\",\"y\":0,\"yref\":\"y2\"},{\"font\":{\"size\":15},\"showarrow\":false,\"text\":\"<i>6 %<i>\",\"x\":94.0,\"xanchor\":\"left\",\"xref\":\"x2\",\"y\":1,\"yref\":\"y2\"},{\"font\":{\"size\":15},\"showarrow\":false,\"text\":\"<i>80 %<i>\",\"x\":1336.0,\"xanchor\":\"left\",\"xref\":\"x2\",\"y\":2,\"yref\":\"y2\"},{\"font\":{\"size\":15},\"showarrow\":false,\"text\":\"<i>61 %<i>\",\"x\":1033.0,\"xanchor\":\"left\",\"xref\":\"x2\",\"y\":3,\"yref\":\"y2\"},{\"font\":{\"size\":15},\"showarrow\":false,\"text\":\"<i>15 %<i>\",\"x\":250.0,\"xanchor\":\"left\",\"xref\":\"x2\",\"y\":4,\"yref\":\"y2\"}],\"margin\":{\"l\":200,\"r\":200,\"t\":50,\"b\":100},\"width\":800,\"height\":500,\"barmode\":\"stack\",\"showlegend\":false,\"shapes\":[{\"fillcolor\":\"rgb(29, 105, 150)\",\"line\":{\"width\":0},\"type\":\"rect\",\"x0\":1.0799999999999998,\"x1\":1.1199999999999999,\"xref\":\"paper\",\"y0\":0.95,\"y1\":0.99,\"yref\":\"paper\"},{\"fillcolor\":\"rgb(204, 80, 62)\",\"line\":{\"width\":0},\"type\":\"rect\",\"x0\":1.0799999999999998,\"x1\":1.1199999999999999,\"xref\":\"paper\",\"y0\":0.8899999999999999,\"y1\":0.9299999999999999,\"yref\":\"paper\"},{\"fillcolor\":\"rgb(95, 70, 144)\",\"line\":{\"width\":0},\"type\":\"rect\",\"x0\":1.0799999999999998,\"x1\":1.1199999999999999,\"xref\":\"paper\",\"y0\":0.27999999999999997,\"y1\":0.32,\"yref\":\"paper\"},{\"fillcolor\":\"rgb(56, 166, 165)\",\"line\":{\"width\":0},\"type\":\"rect\",\"x0\":1.0799999999999998,\"x1\":1.1199999999999999,\"xref\":\"paper\",\"y0\":0.22,\"y1\":0.26,\"yref\":\"paper\"},{\"fillcolor\":\"rgb(15, 133, 84)\",\"line\":{\"width\":0},\"type\":\"rect\",\"x0\":1.0799999999999998,\"x1\":1.1199999999999999,\"xref\":\"paper\",\"y0\":0.16,\"y1\":0.19999999999999998,\"yref\":\"paper\"},{\"fillcolor\":\"rgb(115, 175, 72)\",\"line\":{\"width\":0},\"type\":\"rect\",\"x0\":1.0799999999999998,\"x1\":1.1199999999999999,\"xref\":\"paper\",\"y0\":0.09999999999999999,\"y1\":0.13999999999999999,\"yref\":\"paper\"},{\"fillcolor\":\"rgb(237, 173, 8)\",\"line\":{\"width\":0},\"type\":\"rect\",\"x0\":1.0799999999999998,\"x1\":1.1199999999999999,\"xref\":\"paper\",\"y0\":0.039999999999999994,\"y1\":0.08,\"yref\":\"paper\"},{\"fillcolor\":\"rgb(225, 124, 5)\",\"line\":{\"width\":0},\"type\":\"rect\",\"x0\":1.0799999999999998,\"x1\":1.1199999999999999,\"xref\":\"paper\",\"y0\":-0.02,\"y1\":0.02,\"yref\":\"paper\"},{\"fillcolor\":\"rgb(148, 52, 110)\",\"line\":{\"width\":0},\"type\":\"rect\",\"x0\":1.0799999999999998,\"x1\":1.1199999999999999,\"xref\":\"paper\",\"y0\":-0.08,\"y1\":-0.039999999999999994,\"yref\":\"paper\"}]},                        {\"responsive\": true}                    ).then(function(){\n",
       "                            \n",
       "var gd = document.getElementById('549b22af-4432-46ae-afd9-3eca32c336c0');\n",
       "var x = new MutationObserver(function (mutations, observer) {{\n",
       "        var display = window.getComputedStyle(gd).display;\n",
       "        if (!display || display === 'none') {{\n",
       "            console.log([gd, 'removed!']);\n",
       "            Plotly.purge(gd);\n",
       "            observer.disconnect();\n",
       "        }}\n",
       "}});\n",
       "\n",
       "// Listen for the removal of the full notebook cells\n",
       "var notebookContainer = gd.closest('#notebook-container');\n",
       "if (notebookContainer) {{\n",
       "    x.observe(notebookContainer, {childList: true});\n",
       "}}\n",
       "\n",
       "// Listen for the clearing of the current output cell\n",
       "var outputEl = gd.closest('.output');\n",
       "if (outputEl) {{\n",
       "    x.observe(outputEl, {childList: true});\n",
       "}}\n",
       "\n",
       "                        })                };                });            </script>        </div>"
      ]
     },
     "metadata": {},
     "output_type": "display_data"
    }
   ],
   "source": [
    "# general figure settings\n",
    "template_specs = dict(  axes_color=\"rgba(0, 0, 0, 1)\",\n",
    "                        axes_width=2,\n",
    "                        axes_font_size=15,\n",
    "                        bg_col=\"rgba(255, 255, 255, 1)\",\n",
    "                        font='Helvetica',\n",
    "                        title_font_size=15,\n",
    "                        plot_width=1.5)\n",
    "fig_template = plotly_template(template_specs)\n",
    "\n",
    "# figure specific settings\n",
    "x_range = [0,1500]\n",
    "colors_panel = px.colors.qualitative.Prism\n",
    "subplot_titles = ('<b>Trial distribution per saccade direction<b>','<b>Trial distribution per sequence<b>')\n",
    "analysis_crit = ['<i>Missing data<i>', '<i>Blink<i>', '<i>Accurate saccade<i>', '<i>Corrective saccade<i>', '<i>Innacurate saccade<i>']\n",
    "analysis_crit_df = ['miss_time_trial','blink_trial','main_sac_trial','cor_sac_trial','innacurate_sac_trial']\n",
    "x_label='Number of trials (#)'\n",
    "tss = ['Steady 1', 'Steady 2', 'Steady 3', 'Steady 4', 'Steady 5', 'Motion 1-2-3', 'Motion 5-4-3']\n",
    "sds = ['Right saccades', 'Left saccades']\n",
    "ts_cols = [colors_panel[0], colors_panel[2], colors_panel[3], colors_panel[4], colors_panel[5], colors_panel[6], colors_panel[8]]\n",
    "sd_cols = [colors_panel[1], colors_panel[7]]\n",
    "x_legend = 1.15\n",
    "y_legend_step = 0.06\n",
    "y_legend_sd = 0.97\n",
    "y_legend_ts = 0.3\n",
    "rad_leg = 0.04\n",
    "\n",
    "# subplot settings\n",
    "rows, cols = 2, 1\n",
    "fig_height, fig_width = 500,800\n",
    "column_widths,row_heights = [1],[1,1]\n",
    "sb_specs = [[{}],[{}]]\n",
    "fig = make_subplots(rows=rows, cols=cols, specs=sb_specs, print_grid=False, vertical_spacing=0.35, horizontal_spacing=0.02, \n",
    "                    column_widths=column_widths, row_heights=row_heights, shared_yaxes=True, subplot_titles=subplot_titles)\n",
    "fig.layout.update(template=fig_template, \n",
    "                  width=fig_width, \n",
    "                  height=fig_height, \n",
    "                  margin_l=200, margin_r=200, margin_t=50, margin_b=100, \n",
    "                  barmode='stack', \n",
    "                  showlegend=False)\n",
    "\n",
    "\n",
    "\n",
    "# Right / Left saccades\n",
    "# ---------------------\n",
    "for sd_num, sd in enumerate(sds):\n",
    "    # plot\n",
    "    fig.append_trace(go.Bar(y=analysis_crit, x=df_all.loc[(df_all.saccade_direction == sd_num+1)][analysis_crit_df].sum(), \n",
    "                            orientation='h', name=sd, marker_color=sd_cols[sd_num]),row=1, col=1)\n",
    "    # legend\n",
    "    fig.add_annotation(xref='paper', yref='paper', x=x_legend, y=y_legend_sd-y_legend_step*sd_num, \n",
    "                       text=sd, showarrow=False, font_size = template_specs['axes_font_size'],xanchor = 'left', yanchor='middle')\n",
    "    fig.add_shape(type='rect',xref='paper', yref='paper', fillcolor=sd_cols[sd_num],line_width=0,\n",
    "                  x0=x_legend-0.05-rad_leg/2, y0=y_legend_sd-y_legend_step*sd_num-rad_leg/2, \n",
    "                  x1=x_legend-0.05+rad_leg/2, y1=y_legend_sd-y_legend_step*sd_num+rad_leg/2)\n",
    "\n",
    "    \n",
    "# annotation value\n",
    "for num_crit, crit_name in enumerate(analysis_crit_df):\n",
    "    fig.add_annotation(x=df_all[crit_name].sum(), y=num_crit, text='<i>{:1.0f} %<i>'.format(df_all[crit_name].mean()*100), \n",
    "                       showarrow=False, font_size = template_specs['axes_font_size'],xanchor = 'left', row=1, col=1)\n",
    "\n",
    "fig.layout.annotations[0].update(x=0,xanchor='left')\n",
    "fig.layout.update(xaxis_range=x_range, \n",
    "                  xaxis_visible=True, \n",
    "                  xaxis_linewidth=template_specs['axes_width'], \n",
    "                  xaxis_ticklen=8, \n",
    "                  xaxis_title_text=x_label,\n",
    "                  yaxis_visible=True, \n",
    "                  yaxis_linewidth=template_specs['axes_width'],\n",
    "                  yaxis_ticklen=8, \n",
    "                  yaxis_autorange=\"reversed\")\n",
    "\n",
    "# Trials sequence\n",
    "# ---------------\n",
    "for ts_num, ts in enumerate(tss):\n",
    "    # plot\n",
    "    fig.append_trace(go.Bar(y=analysis_crit, x=df_all.loc[(df_all.trial_sequence == ts_num+1)][analysis_crit_df].sum(), \n",
    "                            orientation='h', name=ts, marker_color=ts_cols[ts_num]),row=2, col=1)\n",
    "    # legend\n",
    "    fig.add_annotation(xref='paper', yref='paper', x=x_legend, y=y_legend_ts-(y_legend_step*ts_num), \n",
    "                       text=ts, showarrow=False, font_size = template_specs['axes_font_size'], xanchor = 'left', yanchor='middle')\n",
    "    fig.add_shape(type='rect',xref='paper', yref='paper', fillcolor=ts_cols[ts_num],line_width=0,\n",
    "                  x0=x_legend-0.05-rad_leg/2, y0=y_legend_ts-y_legend_step*ts_num-rad_leg/2, \n",
    "                  x1=x_legend-0.05+rad_leg/2, y1=y_legend_ts-y_legend_step*ts_num+rad_leg/2)\n",
    "\n",
    "for num_crit, crit_name in enumerate(analysis_crit_df):\n",
    "    fig.add_annotation(x=df_all[crit_name].sum(), y=num_crit, text='<i>{:1.0f} %<i>'.format(df_all[crit_name].mean()*100), \n",
    "                       showarrow=False, font_size = template_specs['axes_font_size'],xanchor = 'left', row=2, col=1)\n",
    "\n",
    "\n",
    "fig.layout.annotations[1].update(x=0,xanchor='left')\n",
    "fig.layout.update(xaxis2_range=x_range, \n",
    "                  xaxis2_visible=True, \n",
    "                  xaxis2_linewidth=template_specs['axes_width'], \n",
    "                  xaxis2_ticklen=8, \n",
    "                  xaxis2_title_text=x_label,\n",
    "                  yaxis2_visible=True, \n",
    "                  yaxis2_linewidth=template_specs['axes_width'], \n",
    "                  yaxis2_ticklen=8, \n",
    "                  yaxis2_autorange=\"reversed\"\n",
    "                 )\n",
    "\n",
    "# Save figure\n",
    "fig.show()\n",
    "if not os.path.exists(fig_dir):os.mkdir(fig_dir)    \n",
    "fig.write_image('{}/{}_trial_dist.pdf'.format(fig_dir, subject))"
   ]
  },
  {
   "cell_type": "code",
   "execution_count": null,
   "id": "26c4c206-5963-4699-be94-2a76320043ca",
   "metadata": {},
   "outputs": [],
   "source": []
  }
 ],
 "metadata": {
  "kernelspec": {
   "display_name": "eye_lab",
   "language": "python",
   "name": "python3"
  },
  "language_info": {
   "codemirror_mode": {
    "name": "ipython",
    "version": 3
   },
   "file_extension": ".py",
   "mimetype": "text/x-python",
   "name": "python",
   "nbconvert_exporter": "python",
   "pygments_lexer": "ipython3",
   "version": "3.7.3"
  }
 },
 "nbformat": 4,
 "nbformat_minor": 5
}
