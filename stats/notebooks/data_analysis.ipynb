{
 "cells": [
  {
   "cell_type": "markdown",
   "id": "cb78db1f-8364-4669-82af-daa47836d04f",
   "metadata": {},
   "source": [
    "# AM3strokes\n",
    "\n",
    "#### Project description:\n",
    "_A 3 strokes vertical apparent motion is presented left or right of fixation. <br />\n",
    "Participants are instructed to saccadeto saccade to the perceived last stroke._\n",
    "\n",
    "#### Hypothesis: \n",
    "_Participants mislocalize the 3rd stroke in the direction of the motion_"
   ]
  },
  {
   "cell_type": "markdown",
   "id": "7b983848-2e4a-4784-ad09-bca57c83172b",
   "metadata": {},
   "source": [
    "#### Eye movement data analysis:\n",
    "\n",
    "- [x] Step 1. Extract time series\n",
    "- [X] Step 2. Extract saccades for each trials\n",
    "- [ ] Step 3. Plot data"
   ]
  },
  {
   "cell_type": "markdown",
   "id": "718803f5-7121-4cab-915d-486961f6ed34",
   "metadata": {},
   "source": [
    "#### Step 1: extract time series"
   ]
  },
  {
   "cell_type": "code",
   "execution_count": 1,
   "id": "44e0db61-e382-40e9-84e1-e01fe7708f01",
   "metadata": {
    "tags": []
   },
   "outputs": [],
   "source": [
    "# Imports\n",
    "import os\n",
    "import numpy as np\n",
    "import bids\n",
    "import pandas as pd\n",
    "from mat4py import loadmat\n",
    "from sac_utils import vecvel, microsacc_merge, saccpar, isincircle"
   ]
  },
  {
   "cell_type": "code",
   "execution_count": 2,
   "id": "befcc8bc-b539-4149-a21b-02634be38bc9",
   "metadata": {
    "tags": []
   },
   "outputs": [],
   "source": [
    "# Define parameters\n",
    "num_trials = 560                       # number of trials per run\n",
    "sampling_rate = 1000                   # eyetrakcing sampling rate\n",
    "velocity_th = 1.5                      # velocity sd threshold\n",
    "min_dur = 20                           # threshold minimum duration\n",
    "merge_interval = 20                    # interval between saccade events\n",
    "tolerance_ratio = 0.5                  # ?"
   ]
  },
  {
   "cell_type": "code",
   "execution_count": 3,
   "id": "726cb378-fcc8-4edc-99c8-8e1e0cdd9291",
   "metadata": {
    "tags": []
   },
   "outputs": [],
   "source": [
    "# Define folders\n",
    "base_dir = '/home/mszinte/codes/am3strokes/'\n",
    "data_dir = '/home/mszinte/codes/am3strokes/data'"
   ]
  },
  {
   "cell_type": "code",
   "execution_count": 4,
   "id": "90515758-1b33-48e7-b542-10501c718544",
   "metadata": {
    "tags": []
   },
   "outputs": [
    {
     "name": "stderr",
     "output_type": "stream",
     "text": [
      "/opt/jupyterlab/.venv/lib/python3.7/site-packages/bids/layout/models.py:152: FutureWarning: The 'extension' entity currently excludes the leading dot ('.'). As of version 0.14.0, it will include the leading dot. To suppress this warning and include the leading dot, use `bids.config.set_option('extension_initial_dot', True)`.\n",
      "  FutureWarning)\n"
     ]
    }
   ],
   "source": [
    "# Define data filenames\n",
    "layout = bids.BIDSLayout(data_dir)\n",
    "data_events = layout.get(subject='01', extension='.tsv', suffix='events', return_type='filename')\n",
    "num_run = len(data_events)\n",
    "\n",
    "data_eyetrack = []\n",
    "for path_val in data_events:\n",
    "    data_eyetrack_val = path_val.replace('events.tsv','eyetrack.edf')\n",
    "    data_eyetrack_val = data_eyetrack_val.replace('func','add')\n",
    "    data_eyetrack.append(data_eyetrack_val)\n",
    "data_mat = []\n",
    "for path_val in data_events:\n",
    "    data_mat_val = path_val.replace('events.tsv','matFile.mat')\n",
    "    data_mat_val = data_mat_val.replace('func','add')\n",
    "    data_mat.append(data_mat_val)"
   ]
  },
  {
   "cell_type": "code",
   "execution_count": 5,
   "id": "a3dca21e-0a27-4bb1-88e6-442f416a6dc2",
   "metadata": {
    "tags": []
   },
   "outputs": [],
   "source": [
    "# Create message and data files\n",
    "for run in data_eyetrack:\n",
    "    \n",
    "    if not os.path.exists(run.replace('.edf','.msg')):\n",
    "        os.system('edf2asc {} -e -y'.format(run))\n",
    "        os.rename(run.replace('.edf','.asc'),run.replace('.edf','.msg'))\n",
    "\n",
    "    if not os.path.exists(run.replace('.edf','.dat')):\n",
    "        os.system('edf2asc {} -s -miss -1.0 -y'.format(run))\n",
    "        os.rename(run.replace('.edf','.asc'),run.replace('.edf','.dat'))"
   ]
  },
  {
   "cell_type": "code",
   "execution_count": 6,
   "id": "aac82811-79a5-4374-89c5-0e3a6d99125b",
   "metadata": {
    "tags": []
   },
   "outputs": [],
   "source": [
    "# Collect MSG data\n",
    "msg_outputs = ['trial_onset', 'trial_offset', 'check_fix_onset', 'fix_onset', 'fix_offset', \n",
    "               's1_onset', 's1_offset', 's2_onset', 's2_offset', 's3_onset', \n",
    "               's3_offset']\n",
    " \n",
    "for msg_output in msg_outputs:\n",
    "    exec(\"{} = np.zeros(num_trials*num_run)\".format(msg_output))\n",
    "\n",
    "t_run = 0\n",
    "for run in data_eyetrack:\n",
    "    \n",
    "    msgfid = open(run.replace('.edf','.msg'))\n",
    "    first_last_time, first_time, last_time = False, False, False\n",
    "\n",
    "    while not first_last_time:\n",
    "        line_read = msgfid.readline()\n",
    "\n",
    "        if not line_read == '':\n",
    "            la = line_read.split()\n",
    "    \n",
    "            if len(la) > 2:\n",
    "                if la[2] == 'RECORD_START' and not first_time: \n",
    "                    first_time = True\n",
    "                if la[2] == 'RECORD_STOP' and not last_time:\n",
    "                    last_time = True\n",
    "            if len(la) > 4:\n",
    "                if la[2] == 'trial' and la[4]=='started':\n",
    "                    trial_onset[int(la[3])-1 + (t_run)*num_trials] = float(la[1])\n",
    "                if la[2] == 'trial' and la[4]=='ended':\n",
    "                    trial_offset[int(la[3])-1 + (t_run)*num_trials] = float(la[1])\n",
    "                if la[2] == 'fix' and la[4]=='onset':\n",
    "                    fix_onset[int(la[3])-1 + (t_run)*num_trials] = float(la[1])\n",
    "                if la[2] == 'fix' and la[4]=='offset':\n",
    "                    fix_offset[int(la[3])-1 + (t_run)*num_trials] = float(la[1])\n",
    "                if la[2] == 's1' and la[4]=='onset':\n",
    "                    s1_onset[int(la[3])-1 + (t_run)*num_trials] = float(la[1])\n",
    "                if la[2] == 's1' and la[4]=='offset':\n",
    "                    s1_offset[int(la[3])-1 + (t_run)*num_trials] = float(la[1])\n",
    "                if la[2] == 's2' and la[4]=='onset':\n",
    "                    s2_onset[int(la[3])-1 + (t_run)*num_trials] = float(la[1])\n",
    "                if la[2] == 's2' and la[4]=='offset':\n",
    "                    s2_offset[int(la[3])-1 + (t_run)*num_trials] = float(la[1])\n",
    "                if la[2] == 's3' and la[4]=='onset':\n",
    "                    s3_onset[int(la[3])-1 + (t_run)*num_trials] = float(la[1])\n",
    "                if la[2] == 's3' and la[4]=='offset':\n",
    "                    s3_offset[int(la[3])-1 + (t_run)*num_trials,] = float(la[1])\n",
    "    \n",
    "        if first_time and last_time:\n",
    "            first_last_time = True\n",
    "            msgfid.close();\n",
    "    t_run += 1\n",
    "\n",
    "# create events dataframe\n",
    "for run_num, run in enumerate(data_events):\n",
    "    df_run = pd.read_csv(run, sep=\"\\t\")\n",
    "    if run_num  > 0 :\n",
    "        df_events = pd.concat([df_events, df_run])\n",
    "    else :\n",
    "        df_events = df_run\n",
    "\n",
    "msg_dict = {}\n",
    "for msg_output in msg_outputs:\n",
    "    eval(\"msg_dict.update({'%s':%s})\"%(msg_output,msg_output))\n",
    "msg_dict.update({'fix_duration': fix_offset-fix_onset})\n",
    "msg_dict.update({'s1_duration': s1_offset-s1_onset})\n",
    "msg_dict.update({'s2_duration': s2_offset-s2_onset})\n",
    "msg_dict.update({'s3_duration': s3_offset-s3_onset})\n",
    "\n",
    "df_msg = pd.DataFrame(msg_dict)\n",
    "df_all = pd.concat([df_events.reset_index(drop=True),\n",
    "                    df_msg.reset_index(drop=True)], axis=1)"
   ]
  },
  {
   "cell_type": "markdown",
   "id": "08826dcf-0289-4052-8f9e-5ab6052982dd",
   "metadata": {},
   "source": [
    "#### Step 2: extract saccades for each trials"
   ]
  },
  {
   "cell_type": "code",
   "execution_count": 7,
   "id": "1fa7073b-ae4f-4ad4-9976-8555921b01ee",
   "metadata": {
    "tags": []
   },
   "outputs": [
    {
     "name": "stdout",
     "output_type": "stream",
     "text": [
      "Saccade extraction:\n",
      "/home/mszinte/codes/am3strokes/data/sub-01/add/sub-01_task-AM3strokes_run-01_eyetrack.edf\n",
      "/home/mszinte/codes/am3strokes/data/sub-01/add/sub-01_task-AM3strokes_run-02_eyetrack.edf\n",
      "/home/mszinte/codes/am3strokes/data/sub-01/add/sub-01_task-AM3strokes_run-03_eyetrack.edf\n",
      "Done\n"
     ]
    }
   ],
   "source": [
    "sac_outputs = [  'miss_time_trial', 'blink_trial', 'no_saccade_trial', 'main_sac_trial', 'sac_x_onset_trial', \n",
    "                 'sac_x_offset_trial', 'sac_y_onset_trial', 'sac_y_offset_trial', 'sac_t_onset_trial', 'sac_t_offset_trial', \n",
    "                 'sac_dur_trial', 'sac_vpeak_trial', 'sac_dist_trial', 'sac_amp_trial', 'sac_dist_ang_trial', \n",
    "                 'sac_amp_ang_trial', 'cor_sac_trial', 'cor_sac_x_onset_trial', 'cor_sac_x_offset_trial', 'cor_sac_y_onset_trial', \n",
    "                 'cor_sac_y_offset_trial', 'cor_sac_t_onset_trial', 'cor_sac_t_offset_trial', 'cor_sac_dur_trial', 'cor_sac_vpeak_trial',\n",
    "                 'cor_sac_dist_trial', 'cor_sac_amp_trial', 'cor_sac_dist_ang_trial', 'cor_sac_amp_ang_trial']\n",
    " \n",
    "for sac_output in sac_outputs:\n",
    "    exec(\"{} = np.zeros(num_trials*num_run)\".format(sac_output))\n",
    "\n",
    "print('Saccade extraction:')\n",
    "t_run = 0\n",
    "for run,mat in zip(data_eyetrack,data_mat):\n",
    "    \n",
    "    print(run)\n",
    "    # load const\n",
    "    mat_dat = loadmat(mat)\n",
    "    motion_jitter = np.array(mat_dat['config']['const']['motion_jitter'])\n",
    "    fix_coord_ini = np.array(mat_dat['config']['const']['fix_coord'])\n",
    "    mot_coord = np.array(mat_dat['config']['const']['mot_coord'])\n",
    "    sac_fix_rad =  np.array(mat_dat['config']['const']['checkfix_rad'])\n",
    "    ppd = mat_dat['config']['const']['ppd']\n",
    "    \n",
    "    # load eyetrack data\n",
    "    eye_data_run = np.genfromtxt(run.replace('.edf','.dat'), usecols=(0, 1, 2))\n",
    "\n",
    "    for trial in np.arange(0,num_trials):\n",
    "        \n",
    "        # define trial\n",
    "        miss_time, blink, no_saccade, main_saccade, corrective_saccade, num_sac = 0, 0, 0, 0, 0, 0\n",
    "        trial_idx = trial + (t_run)*num_trials\n",
    "        df_t = df_all.loc[(df_all.run_number == t_run+1) & (df_all.trial_number == trial+1)]\n",
    "        trial_data_logic = np.logical_and(eye_data_run[:,0] >= float(df_t.trial_onset),\n",
    "                                          eye_data_run[:,0] <= float(df_t.trial_offset))\n",
    "\n",
    "        # Missing data point detection\n",
    "        if np.sum(np.diff(eye_data_run[trial_data_logic,0])>1000/sampling_rate) > 0:\n",
    "            miss_time = 1\n",
    "            miss_time_trial[trial_idx] = 1\n",
    "                     \n",
    "        # Blink detection\n",
    "        if not miss_time:\n",
    "            if np.sum(eye_data_run[trial_data_logic,1]== -1):\n",
    "                blink = 1\n",
    "                blink_trial[trial_idx] = 1\n",
    "\n",
    "        # Main and corrective saccade detection\n",
    "        if not miss_time and not blink:\n",
    "            t, x, y = eye_data_run[trial_data_logic,0],eye_data_run[trial_data_logic,1],eye_data_run[trial_data_logic,2]\n",
    "            vx, vy = vecvel(x,y,sampling_rate)\n",
    "            sac = microsacc_merge(x,y,vx,vy,velocity_th,min_dur,merge_interval)\n",
    "            ms = saccpar(sac)\n",
    "        \n",
    "            if np.isnan(ms[0,0]):\n",
    "                #4 no saccade\n",
    "                no_saccade = 1\n",
    "                no_saccade_trial[trial_idx] = 1\n",
    "\n",
    "            if not no_saccade:\n",
    "                \n",
    "                # Define fixation and saccade target position\n",
    "                x_jitter = int(df_t.spatial_jitter_x)-1\n",
    "                y_jitter = int(df_t.spatial_jitter_y)-1\n",
    "                trial_sequence = int(df_t.trial_sequence)-1\n",
    "                saccade_direction = int(df_t.saccade_direction)-1\n",
    "                jitter_coord = np.array([motion_jitter[x_jitter],-motion_jitter[y_jitter]])\n",
    "                fix_coord = fix_coord_ini + jitter_coord\n",
    "                fix_pos_x, fix_pos_y = fix_coord[0], fix_coord[1]\n",
    "                if trial_sequence <= 4:\n",
    "                    last_stroke_coord = np.array(mot_coord[saccade_direction,trial_sequence]) + jitter_coord;\n",
    "                else:\n",
    "                    last_stroke_coord = np.array(mot_coord[saccade_direction,3]) + jitter_coord;\n",
    "                sac_pos_x, sac_pos_y = last_stroke_coord[0], last_stroke_coord[1]\n",
    "                \n",
    "                while num_sac < ms.shape[0]:\n",
    "                    \n",
    "                    # Main saccade detection\n",
    "                    fix_cor = isincircle(x[int(ms[num_sac,0])],y[int(ms[num_sac,0])],fix_pos_x,fix_pos_y,sac_fix_rad)\n",
    "                    sac_cor = isincircle(x[int(ms[num_sac,1])],y[int(ms[num_sac,1])],sac_pos_x,sac_pos_y,sac_fix_rad)\n",
    "\n",
    "                    if np.logical_and(fix_cor,sac_cor):\n",
    "                        main_saccade = 1;\n",
    "                        main_sac_trial[trial_idx] = 1;\n",
    "                        sac_x_onset_trial[trial_idx] = x[int(ms[num_sac,0])]\n",
    "                        sac_x_offset_trial[trial_idx] = x[int(ms[num_sac,1])]\n",
    "                        sac_y_onset_trial[trial_idx] = y[int(ms[num_sac,0])]\n",
    "                        sac_y_offset_trial[trial_idx] = y[int(ms[num_sac,1])]\n",
    "                        sac_t_onset_trial[trial_idx] = t[int(ms[num_sac,0])]\n",
    "                        sac_t_offset_trial[trial_idx] = t[int(ms[num_sac,1])]\n",
    "                        sac_dur_trial[trial_idx] = ms[num_sac,2]\n",
    "                        sac_vpeak_trial[trial_idx] = ms[num_sac,3]/ppd\n",
    "                        sac_dist_trial[trial_idx] = ms[num_sac,4]/ppd\n",
    "                        sac_amp_trial[trial_idx] = ms[num_sac,6]/ppd\n",
    "                        sac_dist_ang_trial[trial_idx] = ms[num_sac,5]\n",
    "                        sac_amp_ang_trial[trial_idx] = ms[num_sac,7]\n",
    "\n",
    "                    # Corrective saccade detection\n",
    "                    if main_saccade and corrective_saccade == 0:\n",
    "                        corrective_saccade = 1\n",
    "                        cor_sac_trial[trial_idx] = 1\n",
    "                        cor_sac_x_onset_trial[trial_idx] = x[int(ms[num_sac,0])]\n",
    "                        cor_sac_x_offset_trial[trial_idx] = x[int(ms[num_sac,1])]\n",
    "                        cor_sac_y_onset_trial[trial_idx] = y[int(ms[num_sac,0])]\n",
    "                        cor_sac_y_offset_trial[trial_idx] = y[int(ms[num_sac,1])]\n",
    "                        cor_sac_t_onset_trial[trial_idx] = t[int(ms[num_sac,0])]\n",
    "                        cor_sac_t_offset_trial[trial_idx] = t[int(ms[num_sac,1])]\n",
    "                        cor_sac_dur_trial[trial_idx] = ms[num_sac,2]\n",
    "                        cor_sac_vpeak_trial[trial_idx] = ms[num_sac,3]/ppd\n",
    "                        cor_sac_dist_trial[trial_idx] = ms[num_sac,4]/ppd\n",
    "                        cor_sac_amp_trial[trial_idx] = ms[num_sac,6]/ppd\n",
    "                        cor_sac_dist_ang_trial[trial_idx] = ms[num_sac,5]\n",
    "                        cor_sac_amp_ang_trial[trial_idx] = ms[num_sac,7]\n",
    "                    \n",
    "                    num_sac += 1 \n",
    "    t_run +=1\n",
    "print('Done')\n",
    "\n",
    "saccade_dict = {}\n",
    "for sac_output in sac_outputs:\n",
    "    eval(\"saccade_dict.update({'%s':%s})\"%(sac_output,sac_output))\n",
    "\n",
    "df_saccade = pd.DataFrame(saccade_dict)\n",
    "df_all = pd.concat([df_all.reset_index(drop=True),\n",
    "                    df_saccade.reset_index(drop=True)], axis=1)\n",
    "\n",
    "for run in data_eyetrack:\n",
    "    os.remove(run.replace('.edf','.msg'))\n",
    "    os.remove(run.replace('.edf','.dat'))"
   ]
  },
  {
   "cell_type": "code",
   "execution_count": 11,
   "id": "163b3f55-27c9-4c11-adcc-0755d4c39119",
   "metadata": {},
   "outputs": [],
   "source": [
    "# Save dataframe\n",
    "df_all.to_csv('{}/sub-01/add/sub-01_task-AM3strokes_data.csv'.format(data_dir))"
   ]
  },
  {
   "cell_type": "markdown",
   "id": "1c9f9093-ada7-4ad6-8dfd-793f05fb7055",
   "metadata": {},
   "source": [
    "#### Step 3. Plot data"
   ]
  },
  {
   "cell_type": "code",
   "execution_count": null,
   "id": "0b682fa2-1c6f-4e20-8195-e1e9e8575e54",
   "metadata": {},
   "outputs": [],
   "source": []
  },
  {
   "cell_type": "code",
   "execution_count": null,
   "id": "9fa0e669-f7bf-4def-898d-8061d6f71721",
   "metadata": {},
   "outputs": [],
   "source": []
  }
 ],
 "metadata": {
  "kernelspec": {
   "display_name": "eye_lab",
   "language": "python",
   "name": "python3"
  },
  "language_info": {
   "codemirror_mode": {
    "name": "ipython",
    "version": 3
   },
   "file_extension": ".py",
   "mimetype": "text/x-python",
   "name": "python",
   "nbconvert_exporter": "python",
   "pygments_lexer": "ipython3",
   "version": "3.7.3"
  }
 },
 "nbformat": 4,
 "nbformat_minor": 5
}
