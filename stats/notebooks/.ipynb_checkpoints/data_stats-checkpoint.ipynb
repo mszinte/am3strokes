{
 "cells": [
  {
   "cell_type": "markdown",
   "id": "30224508-8897-454a-aed8-fa0e0e56e3fe",
   "metadata": {},
   "source": [
    "# AM3strokes\n",
    "\n",
    "#### Project description:\n",
    "_A 3 strokes vertical apparent motion is presented left or right of fixation. <br />\n",
    "Participants are instructed to saccadeto saccade to the perceived last stroke._\n",
    "\n",
    "#### Hypothesis: \n",
    "_Participants mislocalize the 3rd stroke in the direction of the motion_"
   ]
  },
  {
   "cell_type": "markdown",
   "id": "b2f06088-9708-4320-b648-5b7b1e884e1d",
   "metadata": {},
   "source": [
    "#### Eye movement data analysis:\n",
    "\n",
    "- [x] Merge all subject's data\n",
    "- [x] Data analysis\n",
    "\n",
    " "
   ]
  },
  {
   "cell_type": "code",
   "execution_count": null,
   "id": "31360092-fc2f-4c39-a129-be0262e0001f",
   "metadata": {
    "tags": []
   },
   "outputs": [],
   "source": [
    "# Imports\n",
    "import os\n",
    "import numpy as np\n",
    "import pandas as pd\n",
    "import ipdb\n",
    "import glob\n",
    "from scipy.stats import norm, linregress\n",
    "\n",
    "\n",
    "# figure imports\n",
    "import plotly.graph_objects as go\n",
    "from plotly.subplots import make_subplots\n",
    "import plotly.express as px\n",
    "from plot_utils import plotly_template\n",
    "import plotly.express as px\n",
    "import matplotlib.pyplot as plt \n"
   ]
  },
  {
   "cell_type": "code",
   "execution_count": null,
   "id": "e321eabb-12a0-461c-90fc-f024d2112587",
   "metadata": {},
   "outputs": [],
   "source": [
    "#define folders\n",
    "\n",
    "base_dir = '/home/mzid/codes/am3strokes/'\n",
    "data_dir = '/home/mzid/codes/am3strokes/data/'\n",
    "subject = 'sub-01'\n",
    "fig_dir = '{data_dir}/{subject}/figures'.format(data_dir=data_dir, subject=subject)\n"
   ]
  },
  {
   "cell_type": "code",
   "execution_count": null,
   "id": "7f31477b-0d2e-4174-910d-7c5a33a4b2d6",
   "metadata": {},
   "outputs": [],
   "source": [
    "# Save dataframe\n",
    "df_all = pd.read_csv('{data_dir}/{subject}/add/{subject}_task-AM3strokes_data2.csv'.format(data_dir=data_dir,subject=subject)) \n",
    "\n"
   ]
  },
  {
   "cell_type": "code",
   "execution_count": null,
   "id": "071fb0c9-9529-412f-94e3-82cd99941869",
   "metadata": {},
   "outputs": [],
   "source": [
    "# create new dataframe\n",
    "df_all['sac_t_y_landing']=df_all['sac_lat_trial']+df_all['sac_dur_trial'] #add y_time_offset col to df\n",
    "df_all['sac_y_landing']=df_all['sac_y_offset_trial']-df_all['jitter_y_trial']  #add y_landing col to df\n",
    "df_new=df_all.loc[:,['sac_t_y_landing','sac_y_landing', 'time_independant_sac', 'trial_sequence']] \n",
    "STATS=df_new.sort_values(by='sac_t_y_landing')\n",
    "STATS=STATS.loc[(STATS.time_independant_sac == 1)]\n",
    "#save new dataframe\n",
    "STATS=STATS.to_csv('{data_dir}/{subject}/add/{subject}_task-AM3strokes_STATS.csv'.format(data_dir=data_dir,subject=subject))\n"
   ]
  },
  {
   "cell_type": "code",
   "execution_count": null,
   "id": "fe3d77bf-713e-4df5-a438-308a35930057",
   "metadata": {},
   "outputs": [],
   "source": [
    "#save new dataframe\n",
    "STATS= pd.read_csv('{data_dir}/{subject}/add/{subject}_task-AM3strokes_STATS.csv'.format(data_dir=data_dir,subject=subject)) \n"
   ]
  },
  {
   "cell_type": "code",
   "execution_count": null,
   "id": "26ce30e2-f03b-42cd-bb01-f9698335fbf5",
   "metadata": {},
   "outputs": [],
   "source": [
    "\n",
    "# general figure settings\n",
    "template_specs = dict(  axes_color=\"rgba(1,1, 0, 1)\",\n",
    "                        axes_width=2,\n",
    "                        axes_font_size=13,\n",
    "                        bg_col=\"rgba(255, 255, 255, 1)\",\n",
    "                        font='Helvetica',\n",
    "                        title_font_size=15,\n",
    "                        plot_width=1.5)\n",
    "fig_template = plotly_template(template_specs)\n",
    "\n",
    "fig = make_subplots(rows=2, cols=5, subplot_titles=(\"Steady 1\", \"Steady 2\", \"Steady 3\", \"Steady 4\", \"Steady 5\", 'Motion 5-4-3 (up)', 'Motion 1-2-3 (down)'))\n",
    "rows, cols = 2, 5\n",
    "leg_mergin = 200\n",
    "fig_height, fig_width = 600,250*cols+leg_mergin\n",
    "#Trial sequence: \n",
    "\n",
    "for i in range (7): \n",
    "     \n",
    "    if i == 0:   row_val, col_val = 1, 1 \n",
    "    elif i == 1: row_val, col_val = 1, 2\n",
    "    elif i == 2: row_val, col_val = 1, 3\n",
    "    elif i == 3: row_val, col_val = 1, 4\n",
    "    elif i == 4: row_val, col_val = 1, 5\n",
    "    elif i == 5: row_val, col_val = 2, 1\n",
    "    elif i == 6: row_val, col_val = 2, 2\n",
    "    \n",
    "    df_cond=STATS.loc[(STATS.trial_sequence == i+1)].copy()\n",
    "    \n",
    "    #divide into quantiles \n",
    "    df_cond['time_quantiles']= pd.qcut(df_cond['sac_t_y_landing'],3, precision=1,\n",
    "                                  labels=['1', '2', '3'])\n",
    "    # extracting median for each quantile \n",
    "    t1= df_cond.loc[(df_cond.time_quantiles=='1')]\n",
    "    t2= df_cond.loc[(df_cond.time_quantiles=='2')]\n",
    "    t3= df_cond.loc[(df_cond.time_quantiles=='3')]\n",
    "\n",
    "    x1=t1['sac_t_y_landing'].median(axis = 0)\n",
    "    x2=t2['sac_t_y_landing'].median(axis = 0)\n",
    "    x3=t3['sac_t_y_landing'].median(axis = 0)\n",
    "\n",
    "    # extracting mean landing for each quantile \n",
    "\n",
    "    y1=t1['sac_y_landing'].mean(axis = 0)\n",
    "    y2=t2['sac_y_landing'].mean(axis = 0) \n",
    "    y3=t3['sac_y_landing'].mean(axis = 0)\n",
    "    \n",
    "     #Creating new data frame \n",
    "    frame = {'trial_sequence':[i+1,i+1,i+1], 'median_tq':[x1, x2, x3],'mean_land_tq':[y1, y2, y3]}\n",
    "   \n",
    "    ddf=pd.DataFrame(frame)\n",
    "    \n",
    "\n",
    "\n",
    "    fig.add_trace(go.Scatter(x=ddf['median_tq'], y=ddf['mean_land_tq']),\n",
    "        row=row_val, col=col_val )\n",
    "    \n",
    "    fig.update_xaxes(title_text=\"Saccade Latency (ms)\",range=[-300,300], row=row_val, col=col_val)\n",
    "    fig.update_yaxes(title_text=\"Y landing (dva)\", range=[1, 5], row=row_val, col=col_val)\n",
    "    \n",
    "\n",
    "\n",
    "\n",
    "fig.layout.update( width=fig_width, height=fig_height, margin_l=50, margin_r=leg_mergin, margin_t=50, margin_b=100, barmode='stack', showlegend=False, title_text=\"Subject 1\")    \n",
    "fig.show()   \n",
    "\n",
    "   \n"
   ]
  },
  {
   "cell_type": "code",
   "execution_count": null,
   "id": "e7bbdaa1-7cd4-4383-b805-fc6303583742",
   "metadata": {},
   "outputs": [],
   "source": [
    "df_cond=STATS.loc[(STATS.trial_sequence ==1)\n",
    "    #divide into quantiles \n",
    "STATS['time_quantiles']= pd.qcut(df_cond['sac_t_y_landing'],3, precision=1,\n",
    "                                  labels=['1', '2', '3'])\n"
   ]
  },
  {
   "cell_type": "code",
   "execution_count": null,
   "id": "24311efd-860f-412c-8a27-8480a9a6b657",
   "metadata": {},
   "outputs": [],
   "source": [
    "\n",
    "#divide into quantiles \n",
    "STATS['time_quantiles']= pd.qcut(STATS['sac_t_y_landing'],3, precision=1,\n",
    "                                  labels=['1', '2', '3'])\n",
    "# extracting median for each quantile \n",
    "t1= STATS.loc[(STATS.time_quantiles=='1')]\n",
    "t2= STATS.loc[(STATS.time_quantiles=='2')]\n",
    "t3= STATS.loc[(STATS.time_quantiles=='3')]\n",
    "x1=t1['sac_t_y_landing'].median(axis = 0)\n",
    "x2=t2['sac_t_y_landing'].median(axis = 0)\n",
    "x3=t3['sac_t_y_landing'].median(axis = 0)\n",
    "\n",
    "# extracting mean landing for each quantile \n",
    "\n",
    "y1=df_cond1['sac_y_landing'].mean(axis = 0)\n",
    "y2=df_cond1['sac_y_landing'].mean(axis = 0) \n",
    "y3=df_cond1['sac_y_landing'].mean(axis = 0)\n",
    "\n",
    "#Creating new data frame \n",
    "data = {'Subjects':['S1', 'S1', 'S1'], 'x':[x1, x2, x3],'y':[y1, y2, y3] }\n",
    "ddf=pd.DataFrame(data)\n"
   ]
  },
  {
   "cell_type": "code",
   "execution_count": null,
   "id": "83f998d8-4fa3-4437-a2fa-eb9ad7fbb213",
   "metadata": {},
   "outputs": [],
   "source": [
    "#mean y landing depending on trial \n",
    "# Trials sequence\n",
    "# ---------------\n",
    "for ts_num, ts in enumerate(tss):\n",
    "    # plot\n",
    "    fig.append_trace(go.Bar(y=analysis_crit, x=df_all.loc[(df_all.trial_sequence == ts_num+1)][analysis_crit_df].sum(), \n",
    "                            orientation='h', name=ts, marker_color=ts_cols[ts_num]),row=2, col=1)\n",
    "    # legend\n",
    "    fig.add_annotation(xref='paper', yref='paper', x=x_legend, y=y_legend_ts-(y_legend_step*ts_num), \n",
    "                       text=ts, showarrow=False, font_size = template_specs['axes_font_size'], xanchor = 'left', yanchor='middle')\n",
    "    fig.add_shape(type='rect',xref='paper', yref='paper', fillcolor=ts_cols[ts_num],line_width=0,\n",
    "                  x0=x_legend-0.05-rad_leg/2, y0=y_legend_ts-y_legend_step*ts_num-rad_leg/2, \n",
    "                  x1=x_legend-0.05+rad_leg/2, y1=y_legend_ts-y_legend_step*ts_num+rad_leg/2)\n",
    "\n",
    "for num_crit, crit_name in enumerate(analysis_crit_df):\n",
    "    fig.add_annotation(x=df_all[crit_name].sum(), y=num_crit, text='<i>{:1.0f} %<i>'.format(df_all[crit_name].mean()*100), \n",
    "                       showarrow=False, font_size = template_specs['axes_font_size'],xanchor = 'left', row=2, col=1)\n",
    "\n",
    "df_cond1 = t1.loc[(STATS.trial_sequence == 1)]\n",
    "#df_cond2 = t2.loc[(STATS.trial_sequence == 2)]\n",
    "#df_cond3 = t3.loc[(STATS.trial_sequence == 3)]\n",
    "\n",
    "y1=df_cond1['sac_y_landing'].mean(axis = 0)\n",
    "y2=df_cond1['sac_y_landing'].mean(axis = 0) \n",
    "y3=df_cond1['sac_y_landing'].mean(axis = 0)\n"
   ]
  },
  {
   "cell_type": "code",
   "execution_count": null,
   "id": "227d860f-dd6f-4af8-9794-4d809a7e9c90",
   "metadata": {},
   "outputs": [],
   "source": [
    "#Creating new data frame \n",
    "data = {'Subjects':['S1', 'S1', 'S1'], 'x':[x1, x2, x3],'y':[y1, y2, y3] }\n",
    "ddf=pd.DataFrame(data)\n",
    "\n",
    "ddf"
   ]
  },
  {
   "cell_type": "code",
   "execution_count": null,
   "id": "a9123319-5b02-447d-a1e7-80c416dd7467",
   "metadata": {},
   "outputs": [],
   "source": [
    "#plot\n",
    "fig = px.scatter(ddf, x=\"x\", y=\"y\", )\n",
    "fig.show()"
   ]
  },
  {
   "cell_type": "code",
   "execution_count": null,
   "id": "f441ebe4-dd35-4ff7-ab3a-b96137144615",
   "metadata": {},
   "outputs": [],
   "source": [
    "# setting the ranges and no. of intervals\n",
    "rows, cols = 2, 5\n",
    "range = (min(STATS['sac_t_y_landing']), max(STATS['sac_t_y_landing']))\n",
    "\n",
    "tss = ['Steady 1', 'Steady 2', 'Steady 3', 'Steady 4', 'Steady 5', 'Motion 5-4-3 (up)', 'Motion 1-2-3 (down)']\n",
    "\n",
    "\n",
    "for ts_num, ts in enumerate(tss):\n",
    "    # row/col and data selection # draw line in graph\n",
    "    if ts_num == 0:   row_val, y_line = 1, 4\n",
    "    elif ts_num == 1: row_val, y_line = 1, 3.5\n",
    "    elif ts_num == 2: row_val, y_line = 1, 3\n",
    "    elif ts_num == 3: row_val, y_line = 1, 2.5\n",
    "    elif ts_num == 4: row_val, y_line = 1, 2\n",
    "    elif ts_num == 5: row_val, y_line = 2, 3\n",
    "    elif ts_num == 6: row_val, y_line = 2, 3\n",
    "\n",
    "    df_cond = STATS.loc[(STATS.time_independant_sac == 1) & \n",
    "                         (STATS.trial_sequence == 6) ] \n",
    "    \n",
    "    #for tq in df_cond['time_quantiles'].unique():\n",
    "    sns.boxplot(data=df_cond, x='time_quantiles', y='sac_y_landing')\n",
    "\n",
    "    #STATS.assign(index=STATS.groupby('time_quantiles').cumcount()).pivot('index','time_quantiles','sac_y_landing').plot(kind='box')\n",
    "\n",
    "   "
   ]
  },
  {
   "cell_type": "code",
   "execution_count": null,
   "id": "6477d3ef-70bf-4c36-8bf5-d8e595907db8",
   "metadata": {},
   "outputs": [],
   "source": [
    " df_cond = STATS.loc[(STATS.time_independant_sac == 1) & \n",
    "                         (STATS.trial_sequence == 1) ] \n",
    "    \n",
    "df_cond['time_quantiles'].unique()\n",
    "df_cond"
   ]
  },
  {
   "cell_type": "code",
   "execution_count": null,
   "id": "edf8514e-a68f-4ec5-beee-829f8844dc63",
   "metadata": {},
   "outputs": [],
   "source": []
  }
 ],
 "metadata": {
  "kernelspec": {
   "display_name": "fmri_lab",
   "language": "python",
   "name": "fmri_lab"
  },
  "language_info": {
   "codemirror_mode": {
    "name": "ipython",
    "version": 3
   },
   "file_extension": ".py",
   "mimetype": "text/x-python",
   "name": "python",
   "nbconvert_exporter": "python",
   "pygments_lexer": "ipython3",
   "version": "3.7.3"
  }
 },
 "nbformat": 4,
 "nbformat_minor": 5
}
