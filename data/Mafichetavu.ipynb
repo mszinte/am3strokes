{
 "cells": [
  {
   "cell_type": "code",
   "execution_count": null,
   "id": "d4198615-9cf8-4d37-9786-ce6ea1c92749",
   "metadata": {},
   "outputs": [],
   "source": [
    "git add -A\n",
    "#ajouter les fichiers présents en local (i.e., ordi lab) mais absent sur le git en ligne. \n",
    "git commit -m \"checked\" \n",
    "# envoie les modifs en ligne avec commentaire (donc ici le com c'est checked)-> vérifier qu'il que c'est bon des deux côtés,\n",
    "#c'est une sorte de comparateur local/Enligne et aussi de checkeur \n",
    "git push origin v2 #origin maybe branche principale et v2 sous branche quelque chose comme ça pour taffer sur solo\n",
    "git pull"
   ]
  },
  {
   "cell_type": "code",
   "execution_count": null,
   "id": "48b5a442-af2c-48ad-9190-978192014971",
   "metadata": {},
   "outputs": [],
   "source": [
    "cd # aller dans un répertoire (base de la branche) \n",
    "cd .. #retourner au répertoire d'avant\n",
    "cd xx # changer xx par chemin où je veux qu'il aille \n",
    "pwd #affiche le chemin du dossier courant\n",
    "ls # lister tous les répertoires présents \n"
   ]
  },
  {
   "cell_type": "code",
   "execution_count": null,
   "id": "31225a85-9d2f-4cc0-a8c9-2a42f62c1a34",
   "metadata": {},
   "outputs": [],
   "source": [
    "#Pour pull depuis terminal \n",
    "(mzid) mzid@invibe:~$ cd\n",
    "(mzid) mzid@invibe:~$ cd codes\n",
    "(mzid) mzid@invibe:~/codes$ cd am3strokes\n",
    "(mzid) mzid@invibe:~/codes/am3strokes$ git pull"
   ]
  }
 ],
 "metadata": {
  "kernelspec": {
   "display_name": "Python 3 (ipykernel)",
   "language": "python",
   "name": "python3"
  },
  "language_info": {
   "codemirror_mode": {
    "name": "ipython",
    "version": 3
   },
   "file_extension": ".py",
   "mimetype": "text/x-python",
   "name": "python",
   "nbconvert_exporter": "python",
   "pygments_lexer": "ipython3",
   "version": "3.7.3"
  }
 },
 "nbformat": 4,
 "nbformat_minor": 5
}
